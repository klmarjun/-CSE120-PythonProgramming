{
 "cells": [
  {
   "cell_type": "code",
   "execution_count": 1,
   "id": "21c2d53c",
   "metadata": {},
   "outputs": [],
   "source": [
    "#finding area of circle\n",
    "#area formula = Pi r^2\n",
    "#perimeter formula = 2*pi*r\n",
    "#value of Pi = 3.14 or 22/7\n"
   ]
  },
  {
   "cell_type": "code",
   "execution_count": 3,
   "id": "00e012fb",
   "metadata": {},
   "outputs": [
    {
     "name": "stdout",
     "output_type": "stream",
     "text": [
      "Enter the Radius: 10\n",
      "For the radius 10 the Area of circle is  314.0\n"
     ]
    }
   ],
   "source": [
    "r = int(input(\"Enter the Radius: \"))\n",
    "pi = 3.14\n",
    "area = pi*r*r\n",
    "print(\"For the radius\",r , \"the Area of circle is \",area)"
   ]
  },
  {
   "cell_type": "code",
   "execution_count": 5,
   "id": "0bb26392",
   "metadata": {},
   "outputs": [],
   "source": [
    "#area of square\n",
    "#area formula = side*side\n",
    "#perimeter formula = 4s"
   ]
  },
  {
   "cell_type": "code",
   "execution_count": 7,
   "id": "7e9962f4",
   "metadata": {},
   "outputs": [
    {
     "name": "stdout",
     "output_type": "stream",
     "text": [
      "Enter the side of the square: 10\n",
      "the area of the square is  100.0\n"
     ]
    }
   ],
   "source": [
    "a = float(input(\"Enter the side of the square: \"))\n",
    "area = a*a\n",
    "print(\"The area of the square is \",area)\n"
   ]
  },
  {
   "cell_type": "code",
   "execution_count": 8,
   "id": "ca45af8f",
   "metadata": {},
   "outputs": [
    {
     "name": "stdout",
     "output_type": "stream",
     "text": [
      "Enter the length of rectangle: 15\n",
      "Enter the breadth of the rectangle2\n",
      "The area of the rectangle is  30.0\n"
     ]
    }
   ],
   "source": [
    "#area of rectangle\n",
    "#area formula = l*b\n",
    "#perimeter formula = 2(l+b)\n",
    "a = float(input(\"Enter the length of rectangle: \"))\n",
    "b = float(input(\"Enter the breadth of the rectangle: \"))\n",
    "area = a*b\n",
    "print(\"The area of the rectangle is \",area)"
   ]
  },
  {
   "cell_type": "code",
   "execution_count": 9,
   "id": "a052e977",
   "metadata": {},
   "outputs": [],
   "source": [
    "#control statements\n",
    "#if, if else, elif\n",
    "#one way branching - if\n",
    "#two way branching - if else , elif\n"
   ]
  },
  {
   "cell_type": "code",
   "execution_count": 10,
   "id": "a5fd3dfb",
   "metadata": {},
   "outputs": [],
   "source": [
    "#if (condition):\n",
    "#    indendation block(tab space/four sapce)\n",
    "#else:\n",
    "#    In else no condition can be written"
   ]
  },
  {
   "cell_type": "code",
   "execution_count": 13,
   "id": "eb38e519",
   "metadata": {},
   "outputs": [
    {
     "name": "stdout",
     "output_type": "stream",
     "text": [
      "Enter your age: 23\n",
      "Welcome\n"
     ]
    }
   ],
   "source": [
    "a = int(input(\"Enter your age: \"))\n",
    "if a>20:\n",
    "    print(\"Welcome\")\n",
    "else:\n",
    "    print(\"Sorry,age limit not satisfied\")\n",
    "    "
   ]
  },
  {
   "cell_type": "code",
   "execution_count": 17,
   "id": "dc395fba",
   "metadata": {},
   "outputs": [
    {
     "name": "stdout",
     "output_type": "stream",
     "text": [
      "Enter input: [\n",
      "You have entered a special character\n"
     ]
    }
   ],
   "source": [
    "inp = input(\"Enter input: \")\n",
    "if ord(inp) == 32:\n",
    "    print(\"You have entered space character\")\n",
    "elif (ord(inp) >  64 and ord(inp) < 91) or (ord(inp) > 96 and ord(inp) < 123):\n",
    "    print(\"You have entered an alphabet\")\n",
    "elif (ord(inp) > 47 and ord(inp) <58):\n",
    "    print(\"You have entered a digit\")\n",
    "else:\n",
    "    print(\"You have entered a special character\")"
   ]
  },
  {
   "cell_type": "code",
   "execution_count": 24,
   "id": "f58dc876",
   "metadata": {},
   "outputs": [
    {
     "name": "stdout",
     "output_type": "stream",
     "text": [
      "Enter Input: 4\n",
      "Number\n"
     ]
    }
   ],
   "source": [
    "a = input(\"Enter Input: \")\n",
    "if (a.isalpha()):\n",
    "    print(\"Text\")\n",
    "elif (a.isdigit()):\n",
    "    print(\"Number\")\n",
    "elif (a.isspace()):\n",
    "    print(\"Space\")"
   ]
  },
  {
   "cell_type": "markdown",
   "id": "05429846",
   "metadata": {},
   "source": [
    "A company  decided to give bonus to all its employee on diwali a 5% bonus on salary is given to the male workers and 10% bonus on female workers write a program to enter the salary and gender of the employee if salary is less than 10,000 then the employee gets extra 2% bonus on the salary calculate the bonus that has to be given to the employee and display the salary of the employee will get"
   ]
  },
  {
   "cell_type": "code",
   "execution_count": 40,
   "id": "2538d502",
   "metadata": {},
   "outputs": [
    {
     "name": "stdout",
     "output_type": "stream",
     "text": [
      "Enter Salary 45\n",
      "Enter Gender\n",
      "1 for Male\n",
      "2 for female\n",
      "1\n",
      "Initial Salary is  45\n",
      "After bonus salary is  48.15\n",
      "Total bonus amount is 3.1499999999999986\n"
     ]
    }
   ],
   "source": [
    "salary = int(input(\"Enter Salary \"))\n",
    "gender  = int(input(\"Enter Gender\\n1 for Male\\n2 for female\\n\"))\n",
    "out_val = 0\n",
    "if gender == 1:\n",
    "    if salary < 10000:\n",
    "        out_val = (salary * 0.07) + salary\n",
    "    else:\n",
    "        out_val = (salary * 0.05) + salary\n",
    "elif gender == 2:\n",
    "    if salary < 10000:\n",
    "        out_val = (salary * 0.12) + salary\n",
    "    else:\n",
    "        out_val = (salary * 0.10) + salary\n",
    "print(\"Initial Salary is \",salary)\n",
    "print(\"After bonus salary is \",out_val)\n",
    "print(\"Total bonus amount is\",out_val-salary)"
   ]
  },
  {
   "cell_type": "code",
   "execution_count": 42,
   "id": "5ac163ef",
   "metadata": {},
   "outputs": [
    {
     "name": "stdout",
     "output_type": "stream",
     "text": [
      "1700 is not a leap year\n"
     ]
    }
   ],
   "source": [
    "# Python program to check if year is a leap year or not\n",
    "\n",
    "year = 1700\n",
    "\n",
    "if (year % 400 == 0) and (year % 100 == 0):\n",
    "    print(\"{0} is a leap year\".format(year))\n",
    "\n",
    "elif (year % 4 ==0) and (year % 100 != 0):\n",
    "    print(\"{0} is a leap year\".format(year))\n",
    "\n",
    "else:\n",
    "    print(\"{0} is not a leap year\".format(year))"
   ]
  },
  {
   "cell_type": "code",
   "execution_count": 67,
   "id": "d1a5a470",
   "metadata": {},
   "outputs": [
    {
     "name": "stdout",
     "output_type": "stream",
     "text": [
      "enter a number: 20\n",
      "its an even number\n"
     ]
    }
   ],
   "source": [
    "#even or odd\n",
    "num = int(input(\"enter a number: \"))\n",
    "if (num%2==0):\n",
    "    print(\"its an even number\")\n",
    "else:\n",
    "    print(\"odd number\")"
   ]
  },
  {
   "cell_type": "code",
   "execution_count": 49,
   "id": "b644ee3e",
   "metadata": {},
   "outputs": [
    {
     "name": "stdout",
     "output_type": "stream",
     "text": [
      "Enter a number: -5\n",
      "You just entered a negative number\n"
     ]
    }
   ],
   "source": [
    "#check entered value is positive or negative\n",
    "Num = int(input(\"Enter a number: \"))\n",
    "if(Num>0):\n",
    "    print(\"You just entered a positive number\")\n",
    "else:\n",
    "    print(\"You just entered a negative number\")"
   ]
  },
  {
   "cell_type": "code",
   "execution_count": 74,
   "id": "91e13b4e",
   "metadata": {},
   "outputs": [
    {
     "name": "stdout",
     "output_type": "stream",
     "text": [
      "Enter Character A\n",
      "It is a vowel in upper case\n"
     ]
    }
   ],
   "source": [
    "inp = input(\"Enter Character \")\n",
    "if inp in [\"a\",\"e\",\"i\",\"o\",\"u\"]:\n",
    "    print(\"It is a vowel in lower case\")       \n",
    "if inp in [\"A\",\"E\",\"I\",\"O\",\"U\"]:  \n",
    "    print(\"It is a vowel in upper case\")\n",
    "else:\n",
    "    print(\"It is a consonant\")"
   ]
  },
  {
   "cell_type": "code",
   "execution_count": 72,
   "id": "9ee43cf3",
   "metadata": {},
   "outputs": [
    {
     "name": "stdout",
     "output_type": "stream",
     "text": [
      "Enter Character Q\n",
      "It is a consonant\n"
     ]
    }
   ],
   "source": [
    "#vowel or not\n",
    "\n",
    "inp = input(\"Enter Character \")\n",
    "asc = ord(inp)\n",
    "if asc in [65,69,73,79,85,97,101,105,111,117]:\n",
    "    print(\"It is a vowel\")\n",
    "else:\n",
    "    print(\"It is a consonant\")"
   ]
  },
  {
   "cell_type": "markdown",
   "id": "6fe39e91",
   "metadata": {},
   "source": [
    "# Looping"
   ]
  },
  {
   "cell_type": "code",
   "execution_count": 75,
   "id": "5116bd28",
   "metadata": {},
   "outputs": [],
   "source": [
    "# Types of looping\n",
    "# 1. entry check loop (for loop & while loop)\n",
    "# 2. exit check loop (do while loop)"
   ]
  },
  {
   "cell_type": "markdown",
   "id": "d93474b7",
   "metadata": {},
   "source": [
    "# for loop"
   ]
  },
  {
   "cell_type": "code",
   "execution_count": 77,
   "id": "16362704",
   "metadata": {},
   "outputs": [
    {
     "name": "stdout",
     "output_type": "stream",
     "text": [
      "-5\n",
      "-4\n",
      "-3\n",
      "-2\n",
      "-1\n",
      "0\n",
      "1\n",
      "2\n",
      "3\n",
      "4\n",
      "5\n",
      "6\n",
      "7\n",
      "8\n",
      "9\n"
     ]
    }
   ],
   "source": [
    "for i in range (-5,10): #here -5 is start value and 10 is start value \n",
    "                        #stop value is considered as stop value -1\n",
    "    print(i)"
   ]
  },
  {
   "cell_type": "code",
   "execution_count": 79,
   "id": "6b3f1e43",
   "metadata": {},
   "outputs": [
    {
     "name": "stdout",
     "output_type": "stream",
     "text": [
      "-5   -4   -3   -2   -1   0   1   2   3   4   5   6   7   8   9   "
     ]
    }
   ],
   "source": [
    "for i in range (-5,10): \n",
    "    print(i,end=\"   \")"
   ]
  },
  {
   "cell_type": "code",
   "execution_count": 80,
   "id": "6f92b275",
   "metadata": {},
   "outputs": [
    {
     "name": "stdout",
     "output_type": "stream",
     "text": [
      "-5   -3   -1   1   3   5   7   9   "
     ]
    }
   ],
   "source": [
    "for i in range (-5,10,2): #2 here is known as step value\n",
    "    print(i,end=\"   \")"
   ]
  },
  {
   "cell_type": "code",
   "execution_count": 84,
   "id": "0adb5a2d",
   "metadata": {},
   "outputs": [
    {
     "name": "stdout",
     "output_type": "stream",
     "text": [
      "1   4   7   10   13   16   19   "
     ]
    }
   ],
   "source": [
    "for i in range (1,20,3): \n",
    "    print(i,end=\"   \")"
   ]
  },
  {
   "cell_type": "code",
   "execution_count": 85,
   "id": "0b16f6bf",
   "metadata": {},
   "outputs": [
    {
     "name": "stdout",
     "output_type": "stream",
     "text": [
      "the leap years from 1900 - 2010 are \n",
      "\n",
      "1904   1908   1912   1916   1920   1924   1928   1932   1936   1940   1944   1948   1952   1956   1960   1964   1968   1972   1976   1980   1984   1988   1992   1996   2004   2008   "
     ]
    }
   ],
   "source": [
    "#leap year\n",
    "print(\"the leap years from 1900 - 2010 are \\n\")\n",
    "for i in range (1900,2011):\n",
    "    if(i%4==0 and i%100 != 0):\n",
    "        print(i,end = \"   \")\n"
   ]
  },
  {
   "cell_type": "code",
   "execution_count": 89,
   "id": "e1a967ca",
   "metadata": {},
   "outputs": [
    {
     "name": "stdout",
     "output_type": "stream",
     "text": [
      "enter a number: 3\n",
      "Answer is  6\n"
     ]
    }
   ],
   "source": [
    "#factorial using for loop\n",
    "a = int (input(\"enter a number: \"))\n",
    "mult = 1\n",
    "for i in range(1,a+1):\n",
    "    mult = mult*i\n",
    "print(\"Answer is \",mult)"
   ]
  },
  {
   "cell_type": "markdown",
   "id": "07d64312",
   "metadata": {},
   "source": [
    "# Task"
   ]
  },
  {
   "cell_type": "code",
   "execution_count": 91,
   "id": "13ad6f45",
   "metadata": {},
   "outputs": [
    {
     "name": "stdout",
     "output_type": "stream",
     "text": [
      "Enter a  number: 10\n",
      "Answer is 220\n"
     ]
    }
   ],
   "source": [
    "#write a program to sum of square of even numbers using for loop\n",
    "n = int(input(\"Enter a  number: \"))\n",
    "sum_val = 0\n",
    "for i in range(n+1):\n",
    "    if (i%2==0):\n",
    "        sum_val = sum_val + (i**2)\n",
    "print(\"Answer is\", sum_val)"
   ]
  },
  {
   "cell_type": "code",
   "execution_count": null,
   "id": "39a4d86b",
   "metadata": {},
   "outputs": [],
   "source": []
  }
 ],
 "metadata": {
  "kernelspec": {
   "display_name": "Python 3 (ipykernel)",
   "language": "python",
   "name": "python3"
  },
  "language_info": {
   "codemirror_mode": {
    "name": "ipython",
    "version": 3
   },
   "file_extension": ".py",
   "mimetype": "text/x-python",
   "name": "python",
   "nbconvert_exporter": "python",
   "pygments_lexer": "ipython3",
   "version": "3.9.12"
  }
 },
 "nbformat": 4,
 "nbformat_minor": 5
}
