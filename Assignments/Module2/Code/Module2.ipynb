{
 "cells": [
  {
   "cell_type": "markdown",
   "id": "9315cda0",
   "metadata": {},
   "source": [
    "### String Manipulation"
   ]
  },
  {
   "cell_type": "code",
   "execution_count": 28,
   "id": "859cdf4a",
   "metadata": {},
   "outputs": [
    {
     "name": "stdout",
     "output_type": "stream",
     "text": [
      "Arjun\n",
      "----------------------Arjun-----------------------\n",
      "ARJUN\n",
      "arjun\n",
      "Arjun\n",
      "arjun\n",
      "['Ar', 'un']\n",
      "0\n",
      "b'Arjun'\n",
      "True\n",
      "Arjun\n",
      "1\n",
      "2\n",
      "True\n",
      "True\n",
      "True\n",
      "True\n",
      "False\n",
      "False\n",
      "False\n",
      "('A', 'r', 'jun')\n",
      "aRJUN\n",
      "Arjun\n",
      "Arjun\n"
     ]
    }
   ],
   "source": [
    "var = \"Arjun\"\n",
    "print(var.capitalize())\n",
    "print(var.center(50,\"-\"))\n",
    "print(var.upper())\n",
    "print(var.lower())\n",
    "print(var.strip())\n",
    "print(var.replace(\"A\",\"a\"))\n",
    "print(var.split(\"j\"))\n",
    "print(var.count(\"a\"))\n",
    "print(var.encode())\n",
    "print(var.endswith(\"n\"))\n",
    "print(var.expandtabs())\n",
    "print(var.find(\"r\"))\n",
    "print(var.index(\"j\"))\n",
    "print(var.isalnum())\n",
    "print(var.isalpha())\n",
    "print(var.isascii())\n",
    "print(var.isprintable())\n",
    "print(var.isdecimal())\n",
    "print(var.isdigit())\n",
    "print(var.isspace())\n",
    "print(var.partition(\"r\"))\n",
    "print(var.swapcase())\n",
    "print(var.title())\n",
    "print(var.zfill(5))"
   ]
  },
  {
   "cell_type": "code",
   "execution_count": 24,
   "id": "67e19313",
   "metadata": {},
   "outputs": [
    {
     "name": "stdout",
     "output_type": "stream",
     "text": [
      "Hello my age is 22\n"
     ]
    }
   ],
   "source": [
    "j= 22\n",
    "print(\"Hello my age is {}\".format(j))"
   ]
  },
  {
   "cell_type": "code",
   "execution_count": 30,
   "id": "b206953b",
   "metadata": {},
   "outputs": [
    {
     "data": {
      "text/plain": [
       "[0, 1, 2, 3, 4, 5, 6, 7, 8, 9]"
      ]
     },
     "execution_count": 30,
     "metadata": {},
     "output_type": "execute_result"
    }
   ],
   "source": [
    "[i for i in range(10)]"
   ]
  },
  {
   "cell_type": "code",
   "execution_count": null,
   "id": "8adeb622",
   "metadata": {},
   "outputs": [],
   "source": []
  }
 ],
 "metadata": {
  "kernelspec": {
   "display_name": "Python 3 (ipykernel)",
   "language": "python",
   "name": "python3"
  },
  "language_info": {
   "codemirror_mode": {
    "name": "ipython",
    "version": 3
   },
   "file_extension": ".py",
   "mimetype": "text/x-python",
   "name": "python",
   "nbconvert_exporter": "python",
   "pygments_lexer": "ipython3",
   "version": "3.9.12"
  }
 },
 "nbformat": 4,
 "nbformat_minor": 5
}
