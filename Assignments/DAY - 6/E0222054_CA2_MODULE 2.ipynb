{
 "cells": [
  {
   "cell_type": "markdown",
   "metadata": {},
   "source": [
    "### Name: ARJUN\n",
    "### Unique ID: E0222054\n",
    "### Subject: CSE 120 PYTHON PROGRAMMING\n",
    "### CA2 -MODULE 2 Activity"
   ]
  },
  {
   "cell_type": "markdown",
   "metadata": {},
   "source": [
    "#### 1. write a program that accepts different number of arguments and return sum of only the positive values\n",
    "\n"
   ]
  },
  {
   "cell_type": "code",
   "execution_count": 8,
   "metadata": {},
   "outputs": [
    {
     "name": "stdout",
     "output_type": "stream",
     "text": [
      "Enter the no.of digits you want to Add3\n",
      "Enter a number: 8\n",
      "Enter a number: -9\n",
      "Enter a number: 7\n",
      "The Sum of the numbers you entered is 15\n"
     ]
    }
   ],
   "source": [
    "num = 0\n",
    "res = 0\n",
    "inp = int(input(\"Enter the no.of digits you want to Add\"))\n",
    "for i in range(inp):\n",
    "    num = int(input('Enter a number: '))\n",
    "    if num>=0:\n",
    "        res += num\n",
    "\n",
    "print('The Sum of the Positives Numbers you entered is', res)"
   ]
  },
  {
   "cell_type": "markdown",
   "metadata": {},
   "source": [
    "#### 2. write a program that combines the two list"
   ]
  },
  {
   "cell_type": "code",
   "execution_count": 55,
   "metadata": {},
   "outputs": [
    {
     "name": "stdout",
     "output_type": "stream",
     "text": [
      "Enter the no. of elements you want to append in both the lists: 2\n",
      "Enter Any number for List 1:4\n",
      "Enter Any number for List 1:5\n",
      "Enter Any number for List 2:6\n",
      "Enter Any number for List 2:7\n",
      "['4', '5', '6', '7']\n"
     ]
    }
   ],
   "source": [
    "l1 = []\n",
    "l2 = []\n",
    "res = 0\n",
    "count = 1\n",
    "count1 = 1\n",
    "num = int(input(\"Enter the no. of elements you want to append in both the lists: \"))\n",
    "while count <= num:\n",
    "    inp1 = input(\"Enter Any number for List 1:\")\n",
    "    l1.extend(inp1)\n",
    "    count += 1\n",
    "while count1 <= num:\n",
    "    inp2 = input(\"Enter Any number for List 2:\")\n",
    "    l2.extend(inp2)\n",
    "    count1 += 1\n",
    "res = l1 +l2\n",
    "print(res)"
   ]
  },
  {
   "cell_type": "markdown",
   "metadata": {},
   "source": [
    "#### 3. write a program to cube every elements in the tuple"
   ]
  },
  {
   "cell_type": "code",
   "execution_count": 46,
   "metadata": {},
   "outputs": [
    {
     "name": "stdout",
     "output_type": "stream",
     "text": [
      "enter the number of elements: 2\n",
      "enter element 1=4\n",
      "enter element 2=5\n",
      "tuple = (4, 5)\n",
      "4 64\n",
      "5 125\n"
     ]
    }
   ],
   "source": [
    "tup=()\n",
    "num=int(input(\"enter the number of elements: \"))\n",
    "for i in range(1,num+1):\n",
    "    val=int(input(\"enter element %d=\"%i))\n",
    "    tup+=(val,)\n",
    "print(\"tuple =\",tup)\n",
    "for i in tup:\n",
    "    print(i,i**3) "
   ]
  },
  {
   "cell_type": "markdown",
   "metadata": {},
   "source": [
    "#### 4. write a program that has list of numbers (both positive and negative). make a new tuple that has only positive values from the tuple"
   ]
  },
  {
   "cell_type": "code",
   "execution_count": 45,
   "metadata": {},
   "outputs": [
    {
     "name": "stdout",
     "output_type": "stream",
     "text": [
      "Enter the number of elements in tuple:6\n",
      "Enter element 1 :5\n",
      "Enter element 2 :-8\n",
      "Enter element 3 :7\n",
      "Enter element 4 :-6\n",
      "Enter element 5 :8\n",
      "Enter element 6 :-1\n",
      "tuple= (5, -8, 7, -6, 8, -1)\n",
      "positive tuple= (5, 7, 8)\n"
     ]
    }
   ],
   "source": [
    "mytup=()\n",
    "num=int(input(\"Enter the number of elements in tuple:\"))\n",
    "for i in range(1,num+1):\n",
    "    element=int(input(\"Enter element %d :\"%i))\n",
    "    mytup+=(element,)\n",
    "print(\"tuple=\",mytup)\n",
    "postup=()\n",
    "for i in mytup:\n",
    "    if i>0:\n",
    "        postup+=(i,)\n",
    "print(\"positive tuple=\",postup)"
   ]
  },
  {
   "cell_type": "markdown",
   "metadata": {},
   "source": [
    "#### 5. Write a program that creates two dictionaries. one that stores conversion values from meteres to cm and the other that stores values from cm to meters. "
   ]
  },
  {
   "cell_type": "code",
   "execution_count": 69,
   "metadata": {},
   "outputs": [
    {
     "name": "stdout",
     "output_type": "stream",
     "text": [
      "Enter\n",
      " 1 For converting cm to m\n",
      " 2 For converting m to cm \n",
      "2\n",
      "Enter how many times You want to run this code: 2\n",
      "Enter a number to convert:45\n",
      "Enter a number to convert:56\n",
      "{45: 4500, 56: 5600}\n"
     ]
    }
   ],
   "source": [
    "sel = int(input(\"Enter\\n 1 For converting cm to m\\n 2 For converting m to cm \\n\"))\n",
    "count = int(input(\"Enter how many times You want to run this code: \"))\n",
    "\n",
    "dict1 = {}\n",
    "dict2 = {}\n",
    "\n",
    "for i in range (count):\n",
    "    num = int(input(\"Enter a number to convert:\"))\n",
    "    if sel == 1:\n",
    "        conv1 = num/100 \n",
    "        dict1[num] = conv1\n",
    "        num+=1\n",
    "    elif sel == 2:\n",
    "        conv2 = num*100\n",
    "        dict2[num] = conv2\n",
    "        \n",
    "        num+=1\n",
    "    else:\n",
    "        print(\"Please enter a valid input\")\n",
    "if sel==1:\n",
    "    print(dict1)\n",
    "else:\n",
    "    print(dict2)"
   ]
  },
  {
   "cell_type": "markdown",
   "metadata": {},
   "source": [
    "#### 6. a. Write a program that creates a dictionary of cubes of odd numbers in range 1-50"
   ]
  },
  {
   "cell_type": "code",
   "execution_count": 56,
   "metadata": {},
   "outputs": [
    {
     "name": "stdout",
     "output_type": "stream",
     "text": [
      "{1: 1, 3: 27, 5: 125, 7: 343, 9: 729, 11: 1331, 13: 2197, 15: 3375, 17: 4913, 19: 6859, 21: 9261, 23: 12167, 25: 15625, 27: 19683, 29: 24389, 31: 29791, 33: 35937, 35: 42875, 37: 50653, 39: 59319, 41: 68921, 43: 79507, 45: 91125, 47: 103823, 49: 117649}\n"
     ]
    }
   ],
   "source": [
    "dict1 = {}\n",
    "for i in range(1,51,2):\n",
    "\n",
    "    a = i**3\n",
    "    dict1[i] = a\n",
    "print(dict1)\n",
    "    "
   ]
  },
  {
   "cell_type": "markdown",
   "metadata": {},
   "source": [
    "#### 6. b Write a program to create a list of numbers from the list  range from 1-30. then delete all the numbers from the list that are divisible by 3.\n"
   ]
  },
  {
   "cell_type": "code",
   "execution_count": 88,
   "metadata": {},
   "outputs": [
    {
     "name": "stdout",
     "output_type": "stream",
     "text": [
      "[1, 2, 3, 4, 5, 6, 7, 8, 9, 10, 11, 12, 13, 14, 15, 16, 17, 18, 19, 20]\n",
      "The list after deletion of elements that are divisible by 3 are:  [1, 2, 4, 5, 7, 8, 10, 11, 13, 14, 16, 17, 19, 20]\n"
     ]
    }
   ],
   "source": [
    "lst = []\n",
    "for i in range(1,21):\n",
    "    lst.append(i)\n",
    "print (lst)\n",
    "for index,i in enumerate(lst):\n",
    "    if (i%3 == 0):\n",
    "        del lst[index]\n",
    "print(\"The list after deletion of elements that are divisible by 3 are: \",lst)"
   ]
  },
  {
   "cell_type": "markdown",
   "metadata": {},
   "source": [
    "####  6c. write a program to print the string which has the vowel in it  eg: [python, C, R,ML,Java] output: python,Java"
   ]
  },
  {
   "cell_type": "code",
   "execution_count": 1,
   "metadata": {},
   "outputs": [
    {
     "name": "stdout",
     "output_type": "stream",
     "text": [
      "How many elements you want to enter: 2\n",
      "Enter string: python\n",
      "Enter string: C\n",
      "The final list is  ['python']\n"
     ]
    }
   ],
   "source": [
    "lst = []\n",
    "res = []\n",
    "num = int(input(\"How many elements you want to enter: \"))\n",
    "for i in range(1,num+1):\n",
    "    var = input(\"Enter string: \")\n",
    "    lst.append(var.lower())\n",
    "for i in lst:\n",
    "    for j in i:\n",
    "        if j in [\"a\",\"e\",\"i\",\"o\",\"u\"]:\n",
    "            res.append(i)\n",
    "        else:\n",
    "            pass\n",
    "print(\"The final list is \",res)"
   ]
  },
  {
   "cell_type": "markdown",
   "metadata": {},
   "source": [
    "## WELL DONE"
   ]
  }
 ],
 "metadata": {
  "kernelspec": {
   "display_name": "Python 3 (ipykernel)",
   "language": "python",
   "name": "python3"
  },
  "language_info": {
   "codemirror_mode": {
    "name": "ipython",
    "version": 3
   },
   "file_extension": ".py",
   "mimetype": "text/x-python",
   "name": "python",
   "nbconvert_exporter": "python",
   "pygments_lexer": "ipython3",
   "version": "3.9.12"
  }
 },
 "nbformat": 4,
 "nbformat_minor": 4
}
