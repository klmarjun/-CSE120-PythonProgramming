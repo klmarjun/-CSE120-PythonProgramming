{
 "cells": [
  {
   "cell_type": "code",
   "execution_count": 1,
   "id": "d7482370",
   "metadata": {},
   "outputs": [
    {
     "name": "stdout",
     "output_type": "stream",
     "text": [
      "Enter number: 5\n",
      "Enter number: 0\n"
     ]
    },
    {
     "ename": "ZeroDivisionError",
     "evalue": "division by zero",
     "output_type": "error",
     "traceback": [
      "\u001b[1;31m---------------------------------------------------------------------------\u001b[0m",
      "\u001b[1;31mZeroDivisionError\u001b[0m                         Traceback (most recent call last)",
      "Input \u001b[1;32mIn [1]\u001b[0m, in \u001b[0;36m<cell line: 3>\u001b[1;34m()\u001b[0m\n\u001b[0;32m      1\u001b[0m num1 \u001b[38;5;241m=\u001b[39m \u001b[38;5;28mint\u001b[39m(\u001b[38;5;28minput\u001b[39m(\u001b[38;5;124m\"\u001b[39m\u001b[38;5;124mEnter number: \u001b[39m\u001b[38;5;124m\"\u001b[39m))\n\u001b[0;32m      2\u001b[0m num2 \u001b[38;5;241m=\u001b[39m \u001b[38;5;28mint\u001b[39m(\u001b[38;5;28minput\u001b[39m(\u001b[38;5;124m\"\u001b[39m\u001b[38;5;124mEnter number: \u001b[39m\u001b[38;5;124m\"\u001b[39m))\n\u001b[1;32m----> 3\u001b[0m res\u001b[38;5;241m=\u001b[39m \u001b[43mnum1\u001b[49m\u001b[38;5;241;43m/\u001b[39;49m\u001b[43mnum2\u001b[49m\n\u001b[0;32m      4\u001b[0m \u001b[38;5;28mprint\u001b[39m(\u001b[38;5;124m\"\u001b[39m\u001b[38;5;124mThe result is\u001b[39m\u001b[38;5;124m\"\u001b[39m ,c)\n",
      "\u001b[1;31mZeroDivisionError\u001b[0m: division by zero"
     ]
    }
   ],
   "source": [
    "num1 = int(input(\"Enter number: \"))\n",
    "num2 = int(input(\"Enter number: \"))\n",
    "res= num1/num2\n",
    "print(\"The result is\" ,res)"
   ]
  },
  {
   "cell_type": "code",
   "execution_count": 5,
   "id": "34dbc62c",
   "metadata": {},
   "outputs": [
    {
     "name": "stdout",
     "output_type": "stream",
     "text": [
      "Enter number: 5\n",
      "Enter number: g\n",
      "invalid literal for int() with base 10: 'g'\n",
      "Completed\n"
     ]
    }
   ],
   "source": [
    "try:\n",
    "    num1 = int(input(\"Enter number: \"))\n",
    "    num2 = int(input(\"Enter number: \"))\n",
    "    res= num1/num2\n",
    "except ZeroDivisionError as z:\n",
    "    print(z)\n",
    "except ValueError as v:\n",
    "    print(v)\n",
    "else:\n",
    "    print(\"The result is\" ,res)\n",
    "finally:\n",
    "    print(\"Completed\")"
   ]
  },
  {
   "cell_type": "code",
   "execution_count": 7,
   "id": "16155925",
   "metadata": {},
   "outputs": [
    {
     "name": "stdout",
     "output_type": "stream",
     "text": [
      "Enter the index: 5\n",
      "list index out of range\n",
      "Done\n"
     ]
    }
   ],
   "source": [
    "k = [1,2,3,4]\n",
    "try:\n",
    "    inp = int(input(\"Enter the index: \"))\n",
    "    temp = k[inp]\n",
    "except IndexError as E:\n",
    "    print(E)\n",
    "else:\n",
    "    print(\"The Element is\",temp)\n",
    "finally:\n",
    "    print(\"Done\")"
   ]
  },
  {
   "cell_type": "markdown",
   "id": "c0d2dfb9",
   "metadata": {},
   "source": [
    "### Raise an Error"
   ]
  },
  {
   "cell_type": "code",
   "execution_count": 8,
   "id": "2ae66b32",
   "metadata": {},
   "outputs": [
    {
     "name": "stdout",
     "output_type": "stream",
     "text": [
      "Name Error\n"
     ]
    }
   ],
   "source": [
    "try:\n",
    "    a = 10/2\n",
    "    raise NameError\n",
    "    raise ZeroDivisionError\n",
    "except NameError:\n",
    "    print(\"Name Error\")\n",
    "except ValueError:\n",
    "    print(\"Value Error\")\n",
    "else:\n",
    "    print(a)"
   ]
  },
  {
   "cell_type": "code",
   "execution_count": 10,
   "id": "2be6e063",
   "metadata": {},
   "outputs": [
    {
     "name": "stdout",
     "output_type": "stream",
     "text": [
      "Some Error\n"
     ]
    }
   ],
   "source": [
    "try:\n",
    "    a = 10/2\n",
    "    raise ZeroDivisionError\n",
    "except NameError:\n",
    "    print(\"Name Error\")\n",
    "except ValueError:\n",
    "    print(\"Value Error\")\n",
    "except:\n",
    "    print(\"Some Error\")\n",
    "else:\n",
    "    print(a)"
   ]
  },
  {
   "cell_type": "markdown",
   "id": "5844f92c",
   "metadata": {},
   "source": [
    "Write a program that prompts the user to enter a number if the number is positive or 0,print it.\n",
    "otherwise raise an exception"
   ]
  },
  {
   "cell_type": "code",
   "execution_count": 15,
   "id": "32c4b724",
   "metadata": {},
   "outputs": [
    {
     "name": "stdout",
     "output_type": "stream",
     "text": [
      "Enter Number: 5\n",
      "5\n"
     ]
    }
   ],
   "source": [
    "try:\n",
    "    num = int(input(\"Enter Number: \"))\n",
    "    if num>= 0:\n",
    "        print(num)\n",
    "    else:\n",
    "        raise ValueError(\"Negative number not allowed.\")\n",
    "except ValueError as v:\n",
    "    print(v)"
   ]
  },
  {
   "cell_type": "markdown",
   "id": "9f02b210",
   "metadata": {},
   "source": [
    "Write a number game program and ask the user to enter a number. If the number is greater than number to be guessed raise a value to large exception. If the value is smaller the number to be guessed then raise a value to small exception and prompt the user to enter again quit the program only when the user enters the correct number"
   ]
  },
  {
   "cell_type": "code",
   "execution_count": 20,
   "id": "ebc1ea27",
   "metadata": {},
   "outputs": [
    {
     "name": "stdout",
     "output_type": "stream",
     "text": [
      "Enter number to be guessed52\n",
      "The value guess is too small\n",
      "Enter number to be guessed90\n",
      "The value guess is too small\n",
      "Enter number to be guessed105\n",
      "The value guess is too large\n",
      "Enter number to be guessed50\n",
      "The value guess is too small\n",
      "Enter number to be guessed150\n",
      "The value guess is too large\n",
      "Enter number to be guessed80\n",
      "The value guess is too small\n",
      "Enter number to be guessed95\n",
      "The value guess is too small\n",
      "Enter number to be guessed105\n",
      "The value guess is too large\n",
      "Enter number to be guessed100\n",
      "You have guessed it right\n"
     ]
    }
   ],
   "source": [
    "class ValueToLarge(Exception):#user defined function will extract the feature from exception class\n",
    "    def display(self): #if the function is inside class the default parameter is self\n",
    "        print(\"The value guess is too large\")\n",
    "class ValueToSmall(Exception):\n",
    "     def display(self):\n",
    "        print(\"The value guess is too small\")\n",
    "key =100\n",
    "while True:\n",
    "    try:\n",
    "        num = int(input(\"Enter number to be guessed\"))\n",
    "        if num == key:\n",
    "            print(\"You have guessed it right\")\n",
    "            break\n",
    "        if num<key:\n",
    "            raise ValueToSmall\n",
    "        elif num>key:\n",
    "            raise ValueToLarge\n",
    "    except ValueToSmall as s:\n",
    "        s.display()#calling the value to small class function\n",
    "    except ValueToLarge as v:\n",
    "        v.display()#calling the value to large class function"
   ]
  },
  {
   "cell_type": "markdown",
   "id": "aa0dc9fe",
   "metadata": {},
   "source": [
    "Indentation Error cannot be handled by Exception Handling"
   ]
  },
  {
   "cell_type": "markdown",
   "id": "daffeb41",
   "metadata": {},
   "source": [
    "### User Defined Exception"
   ]
  },
  {
   "cell_type": "markdown",
   "id": "5c80e12d",
   "metadata": {},
   "source": [
    "In a user defined exception the exception need to be derived from the exception class\n"
   ]
  }
 ],
 "metadata": {
  "kernelspec": {
   "display_name": "Python 3 (ipykernel)",
   "language": "python",
   "name": "python3"
  },
  "language_info": {
   "codemirror_mode": {
    "name": "ipython",
    "version": 3
   },
   "file_extension": ".py",
   "mimetype": "text/x-python",
   "name": "python",
   "nbconvert_exporter": "python",
   "pygments_lexer": "ipython3",
   "version": "3.9.12"
  }
 },
 "nbformat": 4,
 "nbformat_minor": 5
}
