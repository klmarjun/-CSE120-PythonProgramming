{
 "cells": [
  {
   "cell_type": "code",
   "execution_count": 4,
   "id": "d835277d",
   "metadata": {},
   "outputs": [
    {
     "data": {
      "text/plain": [
       "[98, 58, 5, 2]"
      ]
     },
     "execution_count": 4,
     "metadata": {},
     "output_type": "execute_result"
    }
   ],
   "source": [
    "#reversing list without index\n",
    "num = [2,5,58,98]\n",
    "num.reverse()\n",
    "num"
   ]
  },
  {
   "cell_type": "code",
   "execution_count": 17,
   "id": "88926413",
   "metadata": {},
   "outputs": [
    {
     "name": "stdout",
     "output_type": "stream",
     "text": [
      "[4, 25, 3364, 9604]\n"
     ]
    }
   ],
   "source": [
    "num = [2,5,58,98]\n",
    "sq = []\n",
    "for i in num:\n",
    "    sq.append(i*i)\n",
    "print(sq)\n"
   ]
  },
  {
   "cell_type": "code",
   "execution_count": 19,
   "id": "3d45fd0b",
   "metadata": {},
   "outputs": [
    {
     "name": "stdout",
     "output_type": "stream",
     "text": [
      "[4, 25, 3364, 9604]\n"
     ]
    }
   ],
   "source": [
    "num = [2,5,58,98]\n",
    "sq = []\n",
    "for i in range(len(num)):\n",
    "    sq.append(num[i]*num[i])\n",
    "print(sq)"
   ]
  },
  {
   "cell_type": "code",
   "execution_count": 4,
   "id": "af80b507",
   "metadata": {},
   "outputs": [],
   "source": [
    "num = [45,48,89]\n",
    "odd = []\n",
    "even = []\n",
    "for i in range(len(num)):\n",
    "    if(num[i]%2 !=0):\n",
    "        odd.append(num[i])\n",
    "    else:\n",
    "        even.append(num[i])\n",
    "        "
   ]
  },
  {
   "cell_type": "code",
   "execution_count": 5,
   "id": "5d546c5a",
   "metadata": {},
   "outputs": [
    {
     "data": {
      "text/plain": [
       "[45, 89]"
      ]
     },
     "execution_count": 5,
     "metadata": {},
     "output_type": "execute_result"
    }
   ],
   "source": [
    "odd"
   ]
  },
  {
   "cell_type": "code",
   "execution_count": 6,
   "id": "38fe7307",
   "metadata": {},
   "outputs": [
    {
     "data": {
      "text/plain": [
       "[48]"
      ]
     },
     "execution_count": 6,
     "metadata": {},
     "output_type": "execute_result"
    }
   ],
   "source": [
    "even"
   ]
  },
  {
   "cell_type": "code",
   "execution_count": 2,
   "id": "13e19dc7",
   "metadata": {},
   "outputs": [
    {
     "data": {
      "text/plain": [
       "[23, 45, 56, 89]"
      ]
     },
     "execution_count": 2,
     "metadata": {},
     "output_type": "execute_result"
    }
   ],
   "source": [
    "num = [89,56,23,45]\n",
    "a = num.sort()\n",
    "num"
   ]
  },
  {
   "cell_type": "code",
   "execution_count": 7,
   "id": "1bc9d6dc",
   "metadata": {},
   "outputs": [],
   "source": [
    "l = [45,48,89]\n",
    "odd = []\n",
    "even = []\n",
    "for i in l:\n",
    "    if(i%2 == 1):\n",
    "        odd.append(i)\n",
    "    else:\n",
    "        even.append(i)"
   ]
  },
  {
   "cell_type": "code",
   "execution_count": 9,
   "id": "46921e97",
   "metadata": {},
   "outputs": [
    {
     "name": "stdout",
     "output_type": "stream",
     "text": [
      "Enter the number of Elements you have to store: 2\n",
      "Enter the number: 45\n",
      "Enter the number: 78\n",
      "The final list is  [45, 78]\n"
     ]
    }
   ],
   "source": [
    "#get input from user for appending in list\n",
    "num = []\n",
    "count = int(input(\"Enter the number of Elements you have to store: \"))\n",
    "for i in range (count):\n",
    "    num.append(int(input(\"Enter the number: \")))\n",
    "print(\"The final list is \",num)"
   ]
  },
  {
   "cell_type": "code",
   "execution_count": 13,
   "id": "9af4dadd",
   "metadata": {},
   "outputs": [
    {
     "name": "stdout",
     "output_type": "stream",
     "text": [
      "[78, 45]\n",
      "[45, 78]\n"
     ]
    }
   ],
   "source": [
    " num.reverse()\n",
    "print(num)\n",
    "num.sort()\n",
    "print(num)"
   ]
  },
  {
   "cell_type": "code",
   "execution_count": 14,
   "id": "b852877c",
   "metadata": {},
   "outputs": [
    {
     "name": "stdout",
     "output_type": "stream",
     "text": [
      "Enter the number of Elements you have to store: 5\n",
      "Enter the number: 45\n",
      "Enter the number: 65\n",
      "Enter the number: 78\n",
      "Enter the number: 14\n",
      "Enter the number: 12\n",
      "The final list is  [45, 65, 78, 14, 12]\n",
      "The original list is [45, 65, 78, 14, 12]\n",
      "The even list is:  [78, 14, 12]\n",
      "The odd list is:  [45, 65]\n"
     ]
    }
   ],
   "source": [
    "num = []\n",
    "count = int(input(\"Enter the number of Elements you have to store: \"))\n",
    "for i in range (count):\n",
    "    num.append(int(input(\"Enter the number: \")))\n",
    "print(\"The final list is \",num)\n",
    "odd = []\n",
    "even = []\n",
    "for i in num:\n",
    "    if(i%2 == 0):\n",
    "        even.append(i)\n",
    "    else:\n",
    "        odd.append(i)\n",
    "print(\"The original list is\",num)\n",
    "print(\"The even list is: \",even)\n",
    "print(\"The odd list is: \",odd)"
   ]
  },
  {
   "cell_type": "code",
   "execution_count": 17,
   "id": "42de0dc3",
   "metadata": {},
   "outputs": [
    {
     "data": {
      "text/plain": [
       "{23, 45, 56, 78}"
      ]
     },
     "execution_count": 17,
     "metadata": {},
     "output_type": "execute_result"
    }
   ],
   "source": [
    "#removing duplicate elements from list\n",
    "num = [45,56,78,45,23,56]\n",
    "set(num)"
   ]
  },
  {
   "cell_type": "code",
   "execution_count": 18,
   "id": "865edc89",
   "metadata": {},
   "outputs": [
    {
     "data": {
      "text/plain": [
       "list"
      ]
     },
     "execution_count": 18,
     "metadata": {},
     "output_type": "execute_result"
    }
   ],
   "source": [
    "type(num)"
   ]
  },
  {
   "cell_type": "markdown",
   "id": "08214131",
   "metadata": {},
   "source": [
    "### Write a program that prompts a number from the user and adds it to a list. if the value entered by the user is greater than 100, then add \"excess\" to the list"
   ]
  },
  {
   "cell_type": "code",
   "execution_count": 3,
   "id": "45f2775f",
   "metadata": {},
   "outputs": [
    {
     "name": "stdout",
     "output_type": "stream",
     "text": [
      "Enter the number of elements:5\n",
      "Enter the Number:47\n",
      "Enter the Number:12\n",
      "Enter the Number:45\n",
      "Enter the Number:152\n",
      "Enter the Number:582\n"
     ]
    },
    {
     "data": {
      "text/plain": [
       "[47, 12, 45, 'Excess', 'Excess']"
      ]
     },
     "execution_count": 3,
     "metadata": {},
     "output_type": "execute_result"
    }
   ],
   "source": [
    "num = []\n",
    "count = int(input(\"Enter the number of elements:\"))\n",
    "for i in range(count):\n",
    "    a = int(input(\"Enter the Number:\"))\n",
    "    if(a<100):\n",
    "        num.append(a)\n",
    "    else:\n",
    "        num.append(\"Excess\")\n",
    "num"
   ]
  },
  {
   "cell_type": "code",
   "execution_count": 55,
   "id": "515a6ff6",
   "metadata": {},
   "outputs": [
    {
     "data": {
      "text/plain": [
       "[12, 15, 14]"
      ]
     },
     "execution_count": 55,
     "metadata": {},
     "output_type": "execute_result"
    }
   ],
   "source": [
    "num"
   ]
  },
  {
   "cell_type": "code",
   "execution_count": 22,
   "id": "804b5dd2",
   "metadata": {},
   "outputs": [
    {
     "name": "stdout",
     "output_type": "stream",
     "text": [
      " does not exist\n"
     ]
    }
   ],
   "source": [
    "r=[ 45,78,56,23,45 ]\n",
    "i=25\n",
    "if i in r:\n",
    "    print(\"exists\")\n",
    "else:\n",
    "    print(\" does not exist\")"
   ]
  },
  {
   "cell_type": "code",
   "execution_count": 27,
   "id": "a8643591",
   "metadata": {},
   "outputs": [
    {
     "name": "stdout",
     "output_type": "stream",
     "text": [
      "Enter the number of elements:3\n",
      "Enter the NUmber:45\n",
      "exists\n",
      "Enter the NUmber:56\n",
      " does not exist\n",
      "Enter the NUmber:25\n",
      " does not exist\n"
     ]
    }
   ],
   "source": [
    "num = [45]\n",
    "count = int(input(\"Enter the number of elements:\"))\n",
    "for i in range(count):\n",
    "    a = int(input(\"Enter the NUmber:\"))\n",
    "    if a in num:\n",
    "        print(\"exists\")\n",
    "    else:\n",
    "        print(\" does not exist\")"
   ]
  },
  {
   "cell_type": "code",
   "execution_count": 9,
   "id": "606be366",
   "metadata": {},
   "outputs": [
    {
     "name": "stdout",
     "output_type": "stream",
     "text": [
      "Enter element to search:2\n",
      "Element Present at: 3\n"
     ]
    }
   ],
   "source": [
    "l=[4,5,2,3]\n",
    "a=int(input('Enter element to search:'))\n",
    "for i in l:\n",
    "    if a==i:\n",
    "        print('Element Present at:',i+1)\n",
    "    else:\n",
    "        pass\n",
    "    "
   ]
  },
  {
   "cell_type": "markdown",
   "id": "06f8119c",
   "metadata": {},
   "source": [
    "a = [] \n",
    "b = [] \n",
    "for i in range(1, 51):\n",
    "    a.append(x)\n",
    "for i in range(1, 51): \n",
    "    if(x%3 == 0) or (x % 6 == 0): \n",
    "        b.append(x) \n",
    "print(\"The numbers divisible by 3 or 6 is \" , s)"
   ]
  },
  {
   "cell_type": "code",
   "execution_count": 37,
   "id": "aab98c46",
   "metadata": {},
   "outputs": [
    {
     "name": "stdout",
     "output_type": "stream",
     "text": [
      "The numbers between 1-50 that are divisible by 3 or 6 is [3, 6, 9, 12, 15, 18, 21, 24, 27, 30, 33, 36, 39, 42, 45, 48]\n"
     ]
    }
   ],
   "source": [
    "l = []\n",
    "for i in range(1,51):\n",
    "    if(i%3 == 0 or i%6 == 0):\n",
    "        l.append(i)\n",
    "print(\"The numbers between 1-50 that are divisible by 3 or 6 is\",l)"
   ]
  },
  {
   "cell_type": "code",
   "execution_count": 38,
   "id": "4b480f53",
   "metadata": {},
   "outputs": [],
   "source": [
    "#del element in list\n",
    "r = [1,84,56]\n",
    "del r[0:2]"
   ]
  },
  {
   "cell_type": "code",
   "execution_count": 39,
   "id": "48e0b428",
   "metadata": {},
   "outputs": [
    {
     "data": {
      "text/plain": [
       "[56]"
      ]
     },
     "execution_count": 39,
     "metadata": {},
     "output_type": "execute_result"
    }
   ],
   "source": [
    "r"
   ]
  },
  {
   "cell_type": "markdown",
   "id": "effce59b",
   "metadata": {},
   "source": [
    "# Tuple"
   ]
  },
  {
   "cell_type": "code",
   "execution_count": 40,
   "id": "536890d7",
   "metadata": {},
   "outputs": [
    {
     "data": {
      "text/plain": [
       "(56, 23, 54)"
      ]
     },
     "execution_count": 40,
     "metadata": {},
     "output_type": "execute_result"
    }
   ],
   "source": [
    "num = (56,23,54)\n",
    "num"
   ]
  },
  {
   "cell_type": "code",
   "execution_count": 41,
   "id": "4319b604",
   "metadata": {},
   "outputs": [
    {
     "data": {
      "text/plain": [
       "tuple"
      ]
     },
     "execution_count": 41,
     "metadata": {},
     "output_type": "execute_result"
    }
   ],
   "source": [
    "type(num)"
   ]
  },
  {
   "cell_type": "code",
   "execution_count": 42,
   "id": "5d0e1d09",
   "metadata": {
    "scrolled": true
   },
   "outputs": [
    {
     "ename": "TypeError",
     "evalue": "'tuple' object doesn't support item deletion",
     "output_type": "error",
     "traceback": [
      "\u001b[1;31m---------------------------------------------------------------------------\u001b[0m",
      "\u001b[1;31mTypeError\u001b[0m                                 Traceback (most recent call last)",
      "Input \u001b[1;32mIn [42]\u001b[0m, in \u001b[0;36m<cell line: 2>\u001b[1;34m()\u001b[0m\n\u001b[0;32m      1\u001b[0m \u001b[38;5;66;03m#Tuples are immutable\u001b[39;00m\n\u001b[1;32m----> 2\u001b[0m \u001b[38;5;28;01mdel\u001b[39;00m num[\u001b[38;5;241m1\u001b[39m]\n",
      "\u001b[1;31mTypeError\u001b[0m: 'tuple' object doesn't support item deletion"
     ]
    }
   ],
   "source": [
    "#Tuple and string are immutable\n",
    "del num[1]"
   ]
  },
  {
   "cell_type": "code",
   "execution_count": 43,
   "id": "83b7da8e",
   "metadata": {},
   "outputs": [
    {
     "ename": "AttributeError",
     "evalue": "'tuple' object has no attribute 'append'",
     "output_type": "error",
     "traceback": [
      "\u001b[1;31m---------------------------------------------------------------------------\u001b[0m",
      "\u001b[1;31mAttributeError\u001b[0m                            Traceback (most recent call last)",
      "Input \u001b[1;32mIn [43]\u001b[0m, in \u001b[0;36m<cell line: 1>\u001b[1;34m()\u001b[0m\n\u001b[1;32m----> 1\u001b[0m \u001b[43mnum\u001b[49m\u001b[38;5;241;43m.\u001b[39;49m\u001b[43mappend\u001b[49m(\u001b[38;5;241m45\u001b[39m)\n",
      "\u001b[1;31mAttributeError\u001b[0m: 'tuple' object has no attribute 'append'"
     ]
    }
   ],
   "source": [
    "num.append(45)"
   ]
  },
  {
   "cell_type": "code",
   "execution_count": 15,
   "id": "1ee7b436",
   "metadata": {},
   "outputs": [
    {
     "name": "stdout",
     "output_type": "stream",
     "text": [
      "20\n",
      "0\n"
     ]
    }
   ],
   "source": [
    "#divmod\n",
    "#order is important(1.quotient; 2.Remainder)\n",
    "q,r = divmod(100,5)\n",
    "print(q)\n",
    "print(r)\n"
   ]
  },
  {
   "cell_type": "code",
   "execution_count": 51,
   "id": "35e4439e",
   "metadata": {},
   "outputs": [
    {
     "name": "stdout",
     "output_type": "stream",
     "text": [
      "befor swapping a is 10 b is 20\n",
      "after swapping a is 20 b is 10\n"
     ]
    }
   ],
   "source": [
    "# swapping of two numbers with temp var\n",
    "a=10\n",
    "b= 20\n",
    "print(\"befor swapping a is\",a,\"b is\",b)\n",
    "temp=a  # temp = 10\n",
    "a=b     # a=20\n",
    "b=temp  # b=10 \n",
    "print(\"after swapping a is\",a,\"b is\",b)"
   ]
  },
  {
   "cell_type": "code",
   "execution_count": 50,
   "id": "ccdae8c5",
   "metadata": {},
   "outputs": [
    {
     "name": "stdout",
     "output_type": "stream",
     "text": [
      "Before swap value of a is 10 and b is 20\n",
      "After swap value of a is 20 and b is 10\n"
     ]
    }
   ],
   "source": [
    "#without temp variable\n",
    "a=10\n",
    "b=20      \n",
    "print(\"Before swap value of a is\",a ,\"and b is\",b )      \n",
    "a=a+b   #a = 30 \n",
    "b=a-b   #b = 10\n",
    "a=a-b   #a = 20 \n",
    "print(\"After swap value of a is\",a ,\"and b is\",b )    \n"
   ]
  },
  {
   "cell_type": "code",
   "execution_count": 49,
   "id": "41b85ee4",
   "metadata": {},
   "outputs": [
    {
     "name": "stdout",
     "output_type": "stream",
     "text": [
      "50 89\n"
     ]
    }
   ],
   "source": [
    "#just exchange values with the help of\",\"\n",
    "a = 50\n",
    "b = 89\n",
    "a,b = b,a\n",
    "print(b,a)"
   ]
  },
  {
   "cell_type": "code",
   "execution_count": null,
   "id": "7584a7b2",
   "metadata": {},
   "outputs": [],
   "source": []
  }
 ],
 "metadata": {
  "kernelspec": {
   "display_name": "Python 3 (ipykernel)",
   "language": "python",
   "name": "python3"
  },
  "language_info": {
   "codemirror_mode": {
    "name": "ipython",
    "version": 3
   },
   "file_extension": ".py",
   "mimetype": "text/x-python",
   "name": "python",
   "nbconvert_exporter": "python",
   "pygments_lexer": "ipython3",
   "version": "3.9.12"
  }
 },
 "nbformat": 4,
 "nbformat_minor": 5
}
