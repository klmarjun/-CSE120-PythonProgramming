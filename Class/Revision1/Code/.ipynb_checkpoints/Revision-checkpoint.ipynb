{
 "cells": [
  {
   "cell_type": "markdown",
   "id": "9a96a828",
   "metadata": {},
   "source": [
    "# Module1"
   ]
  },
  {
   "cell_type": "markdown",
   "id": "03db317f",
   "metadata": {},
   "source": [
    "## For Loop"
   ]
  },
  {
   "cell_type": "code",
   "execution_count": 9,
   "id": "818d8c2f",
   "metadata": {},
   "outputs": [
    {
     "name": "stdout",
     "output_type": "stream",
     "text": [
      "A\n",
      "AB\n",
      "ABC\n"
     ]
    }
   ],
   "source": [
    "for i in range (65,68):\n",
    "    for j in range(65,i+1):\n",
    "        print(chr(j),end=\"\")\n",
    "    print()"
   ]
  },
  {
   "cell_type": "code",
   "execution_count": 13,
   "id": "fe9b9f4c",
   "metadata": {},
   "outputs": [
    {
     "name": "stdout",
     "output_type": "stream",
     "text": [
      "\n",
      "1\n",
      "12\n"
     ]
    }
   ],
   "source": [
    "for i in range(3):\n",
    "    for j in range(1,i+1):\n",
    "        print(j,end='')\n",
    "    print()"
   ]
  },
  {
   "cell_type": "code",
   "execution_count": 20,
   "id": "47f5e338",
   "metadata": {},
   "outputs": [
    {
     "name": "stdout",
     "output_type": "stream",
     "text": [
      "\n",
      "1\n",
      "11\n",
      "111\n"
     ]
    }
   ],
   "source": [
    "n=4\n",
    "for i in range(n):\n",
    "    print('1'*i,end='')\n",
    "    print()"
   ]
  },
  {
   "cell_type": "code",
   "execution_count": 21,
   "id": "291ca249",
   "metadata": {},
   "outputs": [
    {
     "name": "stdout",
     "output_type": "stream",
     "text": [
      "1\n",
      "12\n",
      "123\n"
     ]
    }
   ],
   "source": [
    "n=4\n",
    "for i in range(1,n):\n",
    "    for j in range(1, i+1):\n",
    "        print(j, end=\"\")\n",
    "    print()"
   ]
  },
  {
   "cell_type": "code",
   "execution_count": 23,
   "id": "2b6c7b5f",
   "metadata": {},
   "outputs": [
    {
     "name": "stdout",
     "output_type": "stream",
     "text": [
      "\n",
      "\n",
      "# \n",
      "\n",
      "# # \n",
      "\n",
      "# # # \n",
      "\n"
     ]
    }
   ],
   "source": [
    "n = 4\n",
    "for i in range(n):\n",
    "    print('# '*i,end='')\n",
    "    print() \n",
    "    print()"
   ]
  },
  {
   "cell_type": "code",
   "execution_count": 27,
   "id": "f2726493",
   "metadata": {},
   "outputs": [
    {
     "name": "stdout",
     "output_type": "stream",
     "text": [
      "A \n",
      "A B \n",
      "A B C \n",
      "\n",
      "1\n",
      "12\n",
      "123\n",
      "\n",
      "1\n",
      "11\n",
      "111\n",
      "\n",
      "\n",
      "# \n",
      "\n",
      "# # \n",
      "\n",
      "# # # \n",
      "\n"
     ]
    }
   ],
   "source": [
    "#que1\n",
    "for i in range (65,68):\n",
    "    for j in range(65,i+1):\n",
    "        print(chr(j),end=\" \")\n",
    "    print()\n",
    "#que2\n",
    "n=4\n",
    "for i in range(n):\n",
    "    for j in range(1,i+1):\n",
    "        print(j,end='')\n",
    "    print()\n",
    "#que3    \n",
    "n=4\n",
    "for i in range(n):\n",
    "    print('1'*i,end='')\n",
    "    print()\n",
    "#que4    \n",
    "n = 4\n",
    "for i in range(n):\n",
    "    print('# '*i,end='')\n",
    "    print() \n",
    "    print()"
   ]
  },
  {
   "cell_type": "markdown",
   "id": "5bf9285f",
   "metadata": {},
   "source": [
    "## While Loop"
   ]
  },
  {
   "cell_type": "code",
   "execution_count": 35,
   "id": "f5a1bb84",
   "metadata": {},
   "outputs": [
    {
     "name": "stdout",
     "output_type": "stream",
     "text": [
      "enter number: 45\n",
      "rev of number: 54\n"
     ]
    }
   ],
   "source": [
    "num=int(input(\"enter number: \"))\n",
    "rev=0\n",
    "temp=num\n",
    "while num>0:  \n",
    "    digit = num%10\n",
    "    rev=rev*10+digit\n",
    "    num = num//10\n",
    "print(\"rev of number:\",rev)"
   ]
  },
  {
   "cell_type": "code",
   "execution_count": 37,
   "id": "108c7f3e",
   "metadata": {},
   "outputs": [
    {
     "name": "stdout",
     "output_type": "stream",
     "text": [
      "enter number: 47\n",
      "rev of number: 74\n",
      "It is not\n"
     ]
    }
   ],
   "source": [
    "num=int(input(\"enter number: \"))\n",
    "rev=0\n",
    "temp=num\n",
    "while num>0:  \n",
    "    digit = num%10\n",
    "    rev=rev*10+digit\n",
    "    num = num//10\n",
    "print(\"rev of number:\",rev)\n",
    "if temp == rev:\n",
    "    print(\"its an palindrome\")\n",
    "else:\n",
    "    print(\"It is not\")"
   ]
  },
  {
   "cell_type": "code",
   "execution_count": 38,
   "id": "ae5d5420",
   "metadata": {},
   "outputs": [
    {
     "name": "stdout",
     "output_type": "stream",
     "text": [
      "enter number: 456\n",
      "Sum of digits is 15\n"
     ]
    }
   ],
   "source": [
    "num=int(input(\"enter number: \"))\n",
    "sum_val=0\n",
    "temp=num\n",
    "while num>0:  \n",
    "    digit = num%10\n",
    "    sum_val=sum_val+digit\n",
    "    num = num//10\n",
    "print(\"Sum of digits is\",sum_val)"
   ]
  },
  {
   "cell_type": "code",
   "execution_count": 42,
   "id": "3b8ebc0f",
   "metadata": {},
   "outputs": [
    {
     "name": "stdout",
     "output_type": "stream",
     "text": [
      "enter number: 5\n",
      "Sum of cube of digits is 125\n",
      "Its not\n"
     ]
    }
   ],
   "source": [
    "num=int(input(\"enter number: \"))\n",
    "sum_val=0\n",
    "temp=num\n",
    "while num>0:  \n",
    "    digit = num%10\n",
    "    sum_val=sum_val+digit**3\n",
    "    num = num//10\n",
    "print(\"Sum of cube of digits is\",sum_val)\n",
    "if temp == sum_val:\n",
    "    print(\"Its an Armstrong number\")\n",
    "else:\n",
    "    print(\"Its not\")"
   ]
  },
  {
   "cell_type": "code",
   "execution_count": 46,
   "id": "ce9539bf",
   "metadata": {},
   "outputs": [
    {
     "name": "stdout",
     "output_type": "stream",
     "text": [
      "Enter a number: 59\n",
      "45\n",
      "14\n",
      "Its a two digit Special number\n"
     ]
    }
   ],
   "source": [
    "num = int(input(\"Enter a number: \"))\n",
    "temp = num\n",
    "product = 1\n",
    "sum_val = 0\n",
    "\n",
    "while num > 0:\n",
    "    digit = num % 10\n",
    "    product = product*digit\n",
    "    sum_val = sum_val + digit\n",
    "    num = num//10\n",
    "    \n",
    "print(product)\n",
    "print(sum_val)\n",
    "result = product + sum_val\n",
    "\n",
    "if(result == temp):\n",
    "    print(\"Its a two digit Special number\")\n",
    "else:\n",
    "    print(\"Its not a two digit Special number\")"
   ]
  },
  {
   "cell_type": "markdown",
   "id": "fde83611",
   "metadata": {},
   "source": [
    "## ConditionalStatements"
   ]
  },
  {
   "cell_type": "code",
   "execution_count": 58,
   "id": "bd1773f3",
   "metadata": {},
   "outputs": [
    {
     "name": "stdout",
     "output_type": "stream",
     "text": [
      "Enter you current salary amount:9999\n",
      "Enter you work experience in years:5\n",
      "Your bonus amount: 1199.8799999999999\n",
      "Your new salary : 11198.88\n"
     ]
    }
   ],
   "source": [
    "sal=float(input(\"Enter you current salary amount:\"))\n",
    "exp=int(input(\"Enter you work experience in years:\"))\n",
    "\n",
    "bonus=0\n",
    "if(sal<10000):\n",
    "    bonus=0.12*sal\n",
    "elif(exp<2):\n",
    "    bonus=0.2*sal\n",
    "elif(exp>=5):\n",
    "    bonus=0.13*sal\n",
    "else:\n",
    "    print(\"Enter the details required correctly\")  \n",
    "print(\"Your bonus amount:\",bonus)       \n",
    "print(\"Your new salary :\",sal+bonus)"
   ]
  },
  {
   "cell_type": "code",
   "execution_count": 60,
   "id": "d0eb6f4b",
   "metadata": {},
   "outputs": [
    {
     "name": "stdout",
     "output_type": "stream",
     "text": [
      "Welcome..\n",
      "1 for RE \n",
      "2 for Pulsar\n",
      "3 for KTM Duke1\n",
      "Colours available are grey,black\n",
      "Cost of the bike is 1,50,000\n",
      "Available in the location: Porur,Adayar\n"
     ]
    }
   ],
   "source": [
    "print(\"Welcome..\")\n",
    "while True:\n",
    "    print('1.Model\\n2.Colour\\n3.Price\\n4.Location\\n5.Exit')\n",
    "    ch=int(input('Enter choice:'))\n",
    "    if ch==1:\n",
    "        print('1.Royal Enfield\\n2.Pulsar\\n3.KTM Duke')\n",
    "        print(\"For more info about model select the respective options\")\n",
    "        sel = int(input(\"1 for RE \\n2 for Pulsar\\n3 for KTM Duke\" ))\n",
    "        if sel == 1:\n",
    "            print(\"Colours available are grey,black\")\n",
    "            print(\"Cost of the bike is 1,50,000\")\n",
    "            print(\"Available in the location: Porur,Adayar\")\n",
    "        if sel == 2:\n",
    "            print(\"Colours available are Black,Red\")\n",
    "            print(\"Cost of the bike is 1,20,000\")\n",
    "            print(\"Available in the location: valsaravakkam,T Nagar\")\n",
    "        if sel == 3:\n",
    "            print(\"Colours available are Orange\")\n",
    "            print(\"Cost of the bike is 2,00,000\")\n",
    "            print(\"Available in the location: Katupakkam,Vadapalani\")\n",
    "\n",
    "    elif ch==2:\n",
    "        print(\"\"\"For Royal Enfield the Colours available are grey,black\n",
    "        For Pulsar the Colours available are Black,Red\n",
    "        For Duke the Colours available are Orange\"\"\")\n",
    "        \n",
    "    elif ch==3:\n",
    "        print('all price')\n",
    "    elif ch==4:\n",
    "        print('all loc')\n",
    "    elif ch==5:\n",
    "        print('bye')\n",
    "        break\n",
    "    else:\n",
    "        print('imcorrect opt')\n"
   ]
  },
  {
   "cell_type": "code",
   "execution_count": 62,
   "id": "724bb61e",
   "metadata": {},
   "outputs": [
    {
     "name": "stdout",
     "output_type": "stream",
     "text": [
      "Welcome..\n",
      "1 for Model\n",
      "Enter choice:1\n",
      "Available Models:\n",
      "1.Royal Enfield\n",
      "2.Pulsar\n",
      "3.KTM Duke\n",
      "1.Royal Enfield\n",
      "2.Pulsar\n",
      "3.KTM Duke1\n",
      "Colours available are grey,black\n",
      "Cost of the bike is 1,50,000\n",
      "Available in the location: Porur,Adayar\n",
      "1 for Model\n",
      "Enter choice:2\n",
      "1 for Model\n",
      "Enter choice:1\n",
      "Available Models:\n",
      "1.Royal Enfield\n",
      "2.Pulsar\n",
      "3.KTM Duke\n",
      "1.Royal Enfield\n",
      "2.Pulsar\n",
      "3.KTM Duke3\n",
      "Colours available are Orange\n",
      "Cost of the bike is 2,00,000\n",
      "Available in the location: Katupakkam,Vadapalani\n",
      "1 for Model\n",
      "Enter choice:5\n",
      "1 for Model\n",
      "Enter choice:5\n",
      "1 for Model\n",
      "Enter choice:1\n",
      "Available Models:\n",
      "1.Royal Enfield\n",
      "2.Pulsar\n",
      "3.KTM Duke\n"
     ]
    },
    {
     "ename": "KeyboardInterrupt",
     "evalue": "Interrupted by user",
     "output_type": "error",
     "traceback": [
      "\u001b[1;31m---------------------------------------------------------------------------\u001b[0m",
      "\u001b[1;31mKeyboardInterrupt\u001b[0m                         Traceback (most recent call last)",
      "Input \u001b[1;32mIn [62]\u001b[0m, in \u001b[0;36m<cell line: 3>\u001b[1;34m()\u001b[0m\n\u001b[0;32m      5\u001b[0m \u001b[38;5;28;01mif\u001b[39;00m ch\u001b[38;5;241m==\u001b[39m\u001b[38;5;241m1\u001b[39m:\n\u001b[0;32m      6\u001b[0m     \u001b[38;5;28mprint\u001b[39m(\u001b[38;5;124m'\u001b[39m\u001b[38;5;124mAvailable Models:\u001b[39m\u001b[38;5;130;01m\\n\u001b[39;00m\u001b[38;5;124m1.Royal Enfield\u001b[39m\u001b[38;5;130;01m\\n\u001b[39;00m\u001b[38;5;124m2.Pulsar\u001b[39m\u001b[38;5;130;01m\\n\u001b[39;00m\u001b[38;5;124m3.KTM Duke\u001b[39m\u001b[38;5;124m'\u001b[39m)\n\u001b[1;32m----> 7\u001b[0m     sel \u001b[38;5;241m=\u001b[39m \u001b[38;5;28mint\u001b[39m(\u001b[38;5;28;43minput\u001b[39;49m\u001b[43m(\u001b[49m\u001b[38;5;124;43m\"\u001b[39;49m\u001b[38;5;124;43m1.Royal Enfield\u001b[39;49m\u001b[38;5;130;43;01m\\n\u001b[39;49;00m\u001b[38;5;124;43m2.Pulsar\u001b[39;49m\u001b[38;5;130;43;01m\\n\u001b[39;49;00m\u001b[38;5;124;43m3.KTM Duke\u001b[39;49m\u001b[38;5;124;43m\"\u001b[39;49m\u001b[43m)\u001b[49m)\n\u001b[0;32m      8\u001b[0m     \u001b[38;5;28;01mif\u001b[39;00m sel \u001b[38;5;241m==\u001b[39m \u001b[38;5;241m1\u001b[39m:\n\u001b[0;32m      9\u001b[0m         \u001b[38;5;28mprint\u001b[39m(\u001b[38;5;124m\"\u001b[39m\u001b[38;5;124mColours available are grey,black\u001b[39m\u001b[38;5;124m\"\u001b[39m)\n",
      "File \u001b[1;32m~\\anaconda3\\lib\\site-packages\\ipykernel\\kernelbase.py:1075\u001b[0m, in \u001b[0;36mKernel.raw_input\u001b[1;34m(self, prompt)\u001b[0m\n\u001b[0;32m   1071\u001b[0m \u001b[38;5;28;01mif\u001b[39;00m \u001b[38;5;129;01mnot\u001b[39;00m \u001b[38;5;28mself\u001b[39m\u001b[38;5;241m.\u001b[39m_allow_stdin:\n\u001b[0;32m   1072\u001b[0m     \u001b[38;5;28;01mraise\u001b[39;00m StdinNotImplementedError(\n\u001b[0;32m   1073\u001b[0m         \u001b[38;5;124m\"\u001b[39m\u001b[38;5;124mraw_input was called, but this frontend does not support input requests.\u001b[39m\u001b[38;5;124m\"\u001b[39m\n\u001b[0;32m   1074\u001b[0m     )\n\u001b[1;32m-> 1075\u001b[0m \u001b[38;5;28;01mreturn\u001b[39;00m \u001b[38;5;28;43mself\u001b[39;49m\u001b[38;5;241;43m.\u001b[39;49m\u001b[43m_input_request\u001b[49m\u001b[43m(\u001b[49m\n\u001b[0;32m   1076\u001b[0m \u001b[43m    \u001b[49m\u001b[38;5;28;43mstr\u001b[39;49m\u001b[43m(\u001b[49m\u001b[43mprompt\u001b[49m\u001b[43m)\u001b[49m\u001b[43m,\u001b[49m\n\u001b[0;32m   1077\u001b[0m \u001b[43m    \u001b[49m\u001b[38;5;28;43mself\u001b[39;49m\u001b[38;5;241;43m.\u001b[39;49m\u001b[43m_parent_ident\u001b[49m\u001b[43m[\u001b[49m\u001b[38;5;124;43m\"\u001b[39;49m\u001b[38;5;124;43mshell\u001b[39;49m\u001b[38;5;124;43m\"\u001b[39;49m\u001b[43m]\u001b[49m\u001b[43m,\u001b[49m\n\u001b[0;32m   1078\u001b[0m \u001b[43m    \u001b[49m\u001b[38;5;28;43mself\u001b[39;49m\u001b[38;5;241;43m.\u001b[39;49m\u001b[43mget_parent\u001b[49m\u001b[43m(\u001b[49m\u001b[38;5;124;43m\"\u001b[39;49m\u001b[38;5;124;43mshell\u001b[39;49m\u001b[38;5;124;43m\"\u001b[39;49m\u001b[43m)\u001b[49m\u001b[43m,\u001b[49m\n\u001b[0;32m   1079\u001b[0m \u001b[43m    \u001b[49m\u001b[43mpassword\u001b[49m\u001b[38;5;241;43m=\u001b[39;49m\u001b[38;5;28;43;01mFalse\u001b[39;49;00m\u001b[43m,\u001b[49m\n\u001b[0;32m   1080\u001b[0m \u001b[43m\u001b[49m\u001b[43m)\u001b[49m\n",
      "File \u001b[1;32m~\\anaconda3\\lib\\site-packages\\ipykernel\\kernelbase.py:1120\u001b[0m, in \u001b[0;36mKernel._input_request\u001b[1;34m(self, prompt, ident, parent, password)\u001b[0m\n\u001b[0;32m   1117\u001b[0m             \u001b[38;5;28;01mbreak\u001b[39;00m\n\u001b[0;32m   1118\u001b[0m \u001b[38;5;28;01mexcept\u001b[39;00m \u001b[38;5;167;01mKeyboardInterrupt\u001b[39;00m:\n\u001b[0;32m   1119\u001b[0m     \u001b[38;5;66;03m# re-raise KeyboardInterrupt, to truncate traceback\u001b[39;00m\n\u001b[1;32m-> 1120\u001b[0m     \u001b[38;5;28;01mraise\u001b[39;00m \u001b[38;5;167;01mKeyboardInterrupt\u001b[39;00m(\u001b[38;5;124m\"\u001b[39m\u001b[38;5;124mInterrupted by user\u001b[39m\u001b[38;5;124m\"\u001b[39m) \u001b[38;5;28;01mfrom\u001b[39;00m \u001b[38;5;28mNone\u001b[39m\n\u001b[0;32m   1121\u001b[0m \u001b[38;5;28;01mexcept\u001b[39;00m \u001b[38;5;167;01mException\u001b[39;00m:\n\u001b[0;32m   1122\u001b[0m     \u001b[38;5;28mself\u001b[39m\u001b[38;5;241m.\u001b[39mlog\u001b[38;5;241m.\u001b[39mwarning(\u001b[38;5;124m\"\u001b[39m\u001b[38;5;124mInvalid Message:\u001b[39m\u001b[38;5;124m\"\u001b[39m, exc_info\u001b[38;5;241m=\u001b[39m\u001b[38;5;28;01mTrue\u001b[39;00m)\n",
      "\u001b[1;31mKeyboardInterrupt\u001b[0m: Interrupted by user"
     ]
    },
    {
     "name": "stdout",
     "output_type": "stream",
     "text": [
      "1.Royal Enfield\n",
      "2.Pulsar\n",
      "3.KTM Duke\n"
     ]
    }
   ],
   "source": [
    "print(\"Welcome..\")\n",
    "while 1:\n",
    "    print('1 for Model')\n",
    "    ch=int(input('Enter choice:'))\n",
    "    if ch==1:\n",
    "        print('Available Models:\\n1.Royal Enfield\\n2.Pulsar\\n3.KTM Duke')\n",
    "        sel = int(input(\"1 for Royal Enfield\\n2 for Pulsar\\n3 for KTM Duke\"))\n",
    "        if sel == 1:\n",
    "            print(\"1 for Royal Enfield Himalayan 2 for Royal En\")\n",
    "        if sel == 2:\n",
    "            print(\"Colours available are Black,Red\")\n",
    "            print(\"Cost of the bike is 1,20,000\")\n",
    "            print(\"Available in the location: valsaravakkam,T Nagar\")\n",
    "        if sel == 3:\n",
    "            print(\"Colours available are Orange\")\n",
    "            print(\"Cost of the bike is 2,00,000\")\n",
    "            print(\"Available in the location: Katupakkam,Vadapalani\")\n",
    "    \n",
    "            \n",
    "        "
   ]
  },
  {
   "cell_type": "markdown",
   "id": "55837b9d",
   "metadata": {},
   "source": [
    "# Module3"
   ]
  },
  {
   "cell_type": "code",
   "execution_count": 77,
   "id": "f57dddc9",
   "metadata": {},
   "outputs": [
    {
     "name": "stdout",
     "output_type": "stream",
     "text": [
      "Enter the no.of nights stayed: 5\n",
      "7500\n",
      "Enter the no.of hours: 8\n",
      "Choose Any one:\n",
      "1 for CMBT\n",
      "2 for AnnaNagar\n",
      "3 for OMR1\n",
      "The amount to be paid is 1464\n"
     ]
    }
   ],
   "source": [
    "def cost(nights):\n",
    "    print (1500*nights)\n",
    "    def plane_ride_cost(city):\n",
    "        hour = int(input(\"Enter the no.of hours: \"))\n",
    "        sel = int(input(\"Choose Any one:\\n1 for CMBT\\n2 for AnnaNagar\\n3 for OMR\"))\n",
    "        if sel == 1:\n",
    "            print( \"The amount to be paid is\",hour*183)\n",
    "        elif sel == 2:\n",
    "            print( \"The amount to be paid is\" ,hour*222)\n",
    "        elif sel == 3:\n",
    "            print( \"The amount to be paid is\", hour*475)\n",
    "    plane_ride_cost(sel)\n",
    "cost(nights = int(input(\"Enter the no.of nights stayed: \")))"
   ]
  },
  {
   "cell_type": "code",
   "execution_count": 81,
   "id": "17e96f97",
   "metadata": {},
   "outputs": [
    {
     "name": "stdout",
     "output_type": "stream",
     "text": [
      "Enter the no.of hours: 8\n",
      "Choose Any one:\n",
      "1 for CMBT\n",
      "2 for AnnaNagar\n",
      "3 for OMR1\n",
      "The amount to be paid is 1464\n",
      "Enter the no.of nights stayed: 6\n",
      "9000\n"
     ]
    }
   ],
   "source": [
    "def cost(nights):\n",
    "    print (1500*nights)\n",
    "def plane_ride_cost(city):\n",
    "    hour = int(input(\"Enter the no.of hours: \"))\n",
    "    sel = int(input(\"Choose Any one:\\n1 for CMBT\\n2 for AnnaNagar\\n3 for OMR\"))\n",
    "    if sel == 1:\n",
    "        print( \"The amount to be paid is\",hour*183)\n",
    "    elif sel == 2:\n",
    "        print( \"The amount to be paid is\" ,hour*222)\n",
    "    elif sel == 3:\n",
    "        print( \"The amount to be paid is\", hour*475)\n",
    "    else:\n",
    "        pass\n",
    "plane_ride_cost(sel)\n",
    "cost(nights = int(input(\"Enter the no.of nights stayed: \")))"
   ]
  },
  {
   "cell_type": "code",
   "execution_count": 18,
   "id": "3e0e1e95",
   "metadata": {},
   "outputs": [
    {
     "name": "stdout",
     "output_type": "stream",
     "text": [
      "[265, 24, [78, 45, 56], 98]\n",
      "[265, 24, [78, 45], 98]\n"
     ]
    },
    {
     "ename": "ValueError",
     "evalue": "list.remove(x): x not in list",
     "output_type": "error",
     "traceback": [
      "\u001b[1;31m---------------------------------------------------------------------------\u001b[0m",
      "\u001b[1;31mValueError\u001b[0m                                Traceback (most recent call last)",
      "Input \u001b[1;32mIn [18]\u001b[0m, in \u001b[0;36m<cell line: 6>\u001b[1;34m()\u001b[0m\n\u001b[0;32m      4\u001b[0m \u001b[38;5;28;01mdel\u001b[39;00m(s[\u001b[38;5;241m2\u001b[39m][\u001b[38;5;241m2\u001b[39m])\n\u001b[0;32m      5\u001b[0m \u001b[38;5;28mprint\u001b[39m(s)\n\u001b[1;32m----> 6\u001b[0m \u001b[43ms\u001b[49m\u001b[38;5;241;43m.\u001b[39;49m\u001b[43mremove\u001b[49m\u001b[43m(\u001b[49m\u001b[38;5;241;43m2\u001b[39;49m\u001b[43m)\u001b[49m\n\u001b[0;32m      7\u001b[0m s\n",
      "\u001b[1;31mValueError\u001b[0m: list.remove(x): x not in list"
     ]
    }
   ],
   "source": [
    "s = [265,24,98]\n",
    "s.insert(2,[78,45,56])\n",
    "print(s)\n",
    "del(s[2][2])\n",
    "print(s)\n",
    "s.remove(2)\n",
    "s\n"
   ]
  },
  {
   "cell_type": "code",
   "execution_count": 44,
   "id": "babd7f3c",
   "metadata": {},
   "outputs": [
    {
     "name": "stdout",
     "output_type": "stream",
     "text": [
      "['Append', '2']\n",
      "['2']\n",
      "['Append', '14']\n",
      "['2', '14']\n",
      "['Append', '21']\n",
      "['2', '14', '21']\n",
      "['insert', '2', '12']\n",
      "['2', '14', 12, '21']\n",
      "['append', '1']\n",
      "['2', '14', 12, '21', '1']\n",
      "['update', '1', '11']\n",
      "['2', '11', 12, '21', '1']\n",
      "['Delete', '0']\n",
      "['11', 12, '21', '1']\n",
      "['appEnd', '81']\n",
      "['11', 12, '21', '1', '81']\n",
      "['delete', '2']\n",
      "['11', 12, '1', '81']\n",
      "['insert', '1', '14']\n",
      "['11', 14, 12, '1', '81']\n",
      "['Append', '4']\n",
      "['11', 14, 12, '1', '81', '4']\n",
      "['Append', '12']\n",
      "['11', 14, 12, '1', '81', '4', '12']\n",
      "['Delete', '2']\n",
      "['11', 14, '1', '81', '4', '12']\n"
     ]
    },
    {
     "data": {
      "text/plain": [
       "['11', 14, '1', '81', '4', '12']"
      ]
     },
     "execution_count": 44,
     "metadata": {},
     "output_type": "execute_result"
    }
   ],
   "source": [
    "def func_name():\n",
    "    l = []\n",
    "    fp = open(\"Arjun.txt\")\n",
    "    a = fp.readlines()\n",
    "    for i in range(len(a)):\n",
    "        val = a[i].replace(\"\\n\",\"\")\n",
    "        val = val.split(\" \")\n",
    "        print(val)\n",
    "        if val[0].lower() == \"append\":\n",
    "            l.append(val[1])\n",
    "        elif val[0].lower() == \"insert\":\n",
    "            l.insert(int(val[1]),int(val[2]))\n",
    "        elif val[0].lower() == \"delete\":\n",
    "            r = val[1]\n",
    "            l.pop(int(r))\n",
    "        elif val[0].lower() == \"update\":\n",
    "             l[int(val[1])] = val[2]\n",
    "        print(l)\n",
    "    return l\n",
    "func_name()"
   ]
  },
  {
   "cell_type": "markdown",
   "id": "785a919a",
   "metadata": {},
   "source": [
    "file\n",
    "input - update delete insert(position)\n",
    "lst append()"
   ]
  },
  {
   "cell_type": "code",
   "execution_count": null,
   "id": "54b60ba7",
   "metadata": {},
   "outputs": [],
   "source": []
  },
  {
   "cell_type": "code",
   "execution_count": null,
   "id": "eb51074b",
   "metadata": {},
   "outputs": [],
   "source": []
  },
  {
   "cell_type": "code",
   "execution_count": null,
   "id": "4a9abf46",
   "metadata": {},
   "outputs": [],
   "source": []
  },
  {
   "cell_type": "code",
   "execution_count": null,
   "id": "a9e738f4",
   "metadata": {},
   "outputs": [],
   "source": []
  },
  {
   "cell_type": "code",
   "execution_count": null,
   "id": "c4c28af0",
   "metadata": {},
   "outputs": [],
   "source": []
  },
  {
   "cell_type": "code",
   "execution_count": null,
   "id": "90af54a2",
   "metadata": {},
   "outputs": [],
   "source": []
  },
  {
   "cell_type": "code",
   "execution_count": null,
   "id": "80139bab",
   "metadata": {},
   "outputs": [],
   "source": []
  },
  {
   "cell_type": "code",
   "execution_count": null,
   "id": "6003ac61",
   "metadata": {},
   "outputs": [],
   "source": []
  },
  {
   "cell_type": "code",
   "execution_count": null,
   "id": "97b03454",
   "metadata": {},
   "outputs": [],
   "source": []
  }
 ],
 "metadata": {
  "kernelspec": {
   "display_name": "Python 3 (ipykernel)",
   "language": "python",
   "name": "python3"
  },
  "language_info": {
   "codemirror_mode": {
    "name": "ipython",
    "version": 3
   },
   "file_extension": ".py",
   "mimetype": "text/x-python",
   "name": "python",
   "nbconvert_exporter": "python",
   "pygments_lexer": "ipython3",
   "version": "3.9.12"
  },
  "vscode": {
   "interpreter": {
    "hash": "02058b7bb1e9ff3f29782772e0b2aff8b4954dcd6305e12a65b7f84069d1db46"
   }
  }
 },
 "nbformat": 4,
 "nbformat_minor": 5
}
