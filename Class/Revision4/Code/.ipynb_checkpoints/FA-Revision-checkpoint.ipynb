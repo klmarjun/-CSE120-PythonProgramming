{
 "cells": [
  {
   "cell_type": "code",
   "execution_count": 1,
   "id": "8fc3df71",
   "metadata": {},
   "outputs": [
    {
     "name": "stdout",
     "output_type": "stream",
     "text": [
      " Volume in drive D is Arjun\n",
      " Volume Serial Number is 3A19-3650\n",
      "\n",
      " Directory of D:\\SRET\\FirstYear\\PythonProgramming\\Class\\Revision4\\Code\n",
      "\n",
      "02-11-2022  14:41    <DIR>          .\n",
      "02-11-2022  14:09    <DIR>          ..\n",
      "02-11-2022  14:41    <DIR>          .ipynb_checkpoints\n",
      "02-11-2022  14:41                72 Untitled.ipynb\n",
      "               1 File(s)             72 bytes\n",
      "               3 Dir(s)  154,625,036,288 bytes free\n"
     ]
    }
   ],
   "source": [
    "!dir"
   ]
  },
  {
   "cell_type": "markdown",
   "id": "f1750e81",
   "metadata": {},
   "source": [
    "phone number credit card mail id date sub method module 5"
   ]
  },
  {
   "cell_type": "markdown",
   "id": "377c2481",
   "metadata": {},
   "source": [
    "# Module1 - Module5"
   ]
  },
  {
   "cell_type": "markdown",
   "id": "5b6a1eb2",
   "metadata": {},
   "source": [
    "# Module1"
   ]
  },
  {
   "cell_type": "code",
   "execution_count": 2,
   "id": "b07c688d",
   "metadata": {},
   "outputs": [
    {
     "name": "stdout",
     "output_type": "stream",
     "text": [
      "\n",
      "A \n",
      "A B \n",
      "A B C \n",
      "A B C D \n",
      "A B C D E "
     ]
    }
   ],
   "source": [
    "for i in range(1,6):\n",
    "    print()\n",
    "    for j in range(1,i+1):\n",
    "        print(chr(ord('A')+j-1),end =\" \")\n",
    "        "
   ]
  },
  {
   "cell_type": "code",
   "execution_count": 3,
   "id": "542153c9",
   "metadata": {},
   "outputs": [
    {
     "name": "stdout",
     "output_type": "stream",
     "text": [
      "\n",
      "1 \n",
      "1 2 \n",
      "1 2 3 \n",
      "1 2 3 4 \n",
      "1 2 3 4 5 "
     ]
    }
   ],
   "source": [
    "for i in range(1,6):\n",
    "    print()\n",
    "    for j in range(1,i+1):\n",
    "        print(j , end = ' ')"
   ]
  },
  {
   "cell_type": "code",
   "execution_count": 4,
   "id": "5aa79d82",
   "metadata": {},
   "outputs": [
    {
     "name": "stdout",
     "output_type": "stream",
     "text": [
      "\n",
      "1 \n",
      "1 1 \n",
      "1 1 1 \n",
      "1 1 1 1 \n",
      "1 1 1 1 1 "
     ]
    }
   ],
   "source": [
    "for i in range(1,6):\n",
    "    print()\n",
    "    for j in range(1,i+1):\n",
    "        print(\"1\",end = ' ')"
   ]
  },
  {
   "cell_type": "code",
   "execution_count": 5,
   "id": "4a36bc55",
   "metadata": {},
   "outputs": [
    {
     "name": "stdout",
     "output_type": "stream",
     "text": [
      "\n",
      "# \n",
      "# # \n",
      "# # # \n",
      "# # # # \n",
      "# # # # # "
     ]
    }
   ],
   "source": [
    "for i in range(1,6):\n",
    "    print()\n",
    "    for j in range(1,i+1):\n",
    "        print('#',end = \" \")"
   ]
  },
  {
   "cell_type": "code",
   "execution_count": 6,
   "id": "4dd6487b",
   "metadata": {},
   "outputs": [
    {
     "name": "stdout",
     "output_type": "stream",
     "text": [
      "Enter a number: 1234321\n",
      "Palindrome\n"
     ]
    }
   ],
   "source": [
    "#rev number\n",
    "num = int(input(\"Enter a number: \"))\n",
    "temp = num\n",
    "rev = 0\n",
    "while num>0:\n",
    "    dig = num%10\n",
    "    rev = rev*10+dig\n",
    "    num = num//10\n",
    "if temp == rev:\n",
    "    print(\"Palindrome\")\n",
    "else:\n",
    "    print(\"Nit a palindrome\")"
   ]
  },
  {
   "cell_type": "code",
   "execution_count": 7,
   "id": "194e7953",
   "metadata": {},
   "outputs": [
    {
     "name": "stdout",
     "output_type": "stream",
     "text": [
      "Enter a number: 153\n",
      "Armstrong Number\n"
     ]
    }
   ],
   "source": [
    "#Armstrong number\n",
    "num = int(input(\"Enter a number: \"))\n",
    "temp = num\n",
    "sum_val = 0\n",
    "while num>0:\n",
    "    dig = num%10\n",
    "    sum_val = sum_val+dig**3\n",
    "    num = num//10\n",
    "if sum_val == temp:\n",
    "    print(\"Armstrong Number\")\n",
    "else:\n",
    "    print(\"Not a Armstrong Number\")"
   ]
  },
  {
   "cell_type": "code",
   "execution_count": 8,
   "id": "7efa6725",
   "metadata": {},
   "outputs": [
    {
     "name": "stdout",
     "output_type": "stream",
     "text": [
      "Enter a number: 59\n",
      "Two digit special number\n"
     ]
    }
   ],
   "source": [
    "#Two digit special num\n",
    "#rev number\n",
    "num = int(input(\"Enter a number: \"))\n",
    "temp = num\n",
    "sum_val = 0\n",
    "prod_val = 1\n",
    "while num>0:\n",
    "    dig = num%10\n",
    "    sum_val += dig\n",
    "    prod_val *= dig\n",
    "    num = num//10\n",
    "res = sum_val+prod_val\n",
    "if res == temp:\n",
    "    print(\"Two digit special number\")\n",
    "else:\n",
    "    print(\"Not  a two digit special number\")"
   ]
  },
  {
   "cell_type": "code",
   "execution_count": 9,
   "id": "4eda1186",
   "metadata": {},
   "outputs": [
    {
     "name": "stdout",
     "output_type": "stream",
     "text": [
      "Enter name: Arjun\n",
      "Enter no of years of experienece: 6\n",
      "Enter salary: 10001\n",
      "No Bonus\n"
     ]
    }
   ],
   "source": [
    "#if else\n",
    "name = input(\"Enter name: \")\n",
    "exp = int(input('Enter no of years of experienece: '))\n",
    "sal = int(input('Enter salary: '))\n",
    "if sal<10000:\n",
    "    print(\"Name: \",name)\n",
    "    print(\"Bonus: \",0.12*sal)\n",
    "    print(\"Net salary: \",sal+0.12*sal)\n",
    "elif sal>10000 and exp<2:\n",
    "    print(\"Name: \",name)\n",
    "    print(\"Bonus: \",0.02*sal)\n",
    "    print(\"Net salary: \",sal+0.12*sal)\n",
    "elif sal>10000 and exp>5:\n",
    "    print(\"Name: \",name)\n",
    "    print(\"Bonus: \",0.13*sal)\n",
    "    print(\"Net salary: \",sal+0.13*sal)\n",
    "else:\n",
    "    print(\"No Bonus\")\n",
    "\n"
   ]
  },
  {
   "cell_type": "code",
   "execution_count": 10,
   "id": "69e9b96b",
   "metadata": {},
   "outputs": [
    {
     "name": "stdout",
     "output_type": "stream",
     "text": [
      "0\n",
      "1\n",
      "2\n",
      "3\n",
      "4\n",
      "5\n",
      "6\n",
      "7\n",
      "8\n"
     ]
    }
   ],
   "source": [
    "#pass\n",
    "for i in range(9):\n",
    "    print(i)\n",
    "    pass"
   ]
  },
  {
   "cell_type": "code",
   "execution_count": 11,
   "id": "7703eb89",
   "metadata": {},
   "outputs": [
    {
     "name": "stdout",
     "output_type": "stream",
     "text": [
      "0\n",
      "1\n",
      "2\n",
      "3\n",
      "4\n",
      "6\n",
      "7\n",
      "8\n"
     ]
    }
   ],
   "source": [
    "#continue\n",
    "for i in range(9):\n",
    "    if i==5:\n",
    "        continue\n",
    "    print(i)"
   ]
  },
  {
   "cell_type": "code",
   "execution_count": 12,
   "id": "e48a636b",
   "metadata": {},
   "outputs": [
    {
     "name": "stdout",
     "output_type": "stream",
     "text": [
      "0\n",
      "1\n",
      "2\n",
      "3\n",
      "4\n",
      "5\n"
     ]
    }
   ],
   "source": [
    "#break\n",
    "for i in range(9):\n",
    "    if i==6:\n",
    "        break\n",
    "    print(i)"
   ]
  },
  {
   "cell_type": "markdown",
   "id": "7f56d687",
   "metadata": {},
   "source": [
    "# Module2"
   ]
  },
  {
   "cell_type": "code",
   "execution_count": 166,
   "id": "24e7b1b5",
   "metadata": {},
   "outputs": [],
   "source": [
    "lst = [1,5,9,78,56]"
   ]
  },
  {
   "cell_type": "code",
   "execution_count": 167,
   "id": "61936648",
   "metadata": {},
   "outputs": [],
   "source": [
    "lst.sort()"
   ]
  },
  {
   "cell_type": "code",
   "execution_count": 168,
   "id": "9c73d6f3",
   "metadata": {},
   "outputs": [
    {
     "data": {
      "text/plain": [
       "[1, 5, 9, 56, 78]"
      ]
     },
     "execution_count": 168,
     "metadata": {},
     "output_type": "execute_result"
    }
   ],
   "source": [
    "lst"
   ]
  },
  {
   "cell_type": "code",
   "execution_count": 169,
   "id": "c2109cde",
   "metadata": {},
   "outputs": [
    {
     "data": {
      "text/plain": [
       "[1, 5, 9, 56, 78, 78]"
      ]
     },
     "execution_count": 169,
     "metadata": {},
     "output_type": "execute_result"
    }
   ],
   "source": [
    "lst.append(78)\n",
    "lst"
   ]
  },
  {
   "cell_type": "code",
   "execution_count": 170,
   "id": "dfd2b669",
   "metadata": {},
   "outputs": [
    {
     "data": {
      "text/plain": [
       "2"
      ]
     },
     "execution_count": 170,
     "metadata": {},
     "output_type": "execute_result"
    }
   ],
   "source": [
    "lst.count(78)\n"
   ]
  },
  {
   "cell_type": "code",
   "execution_count": 18,
   "id": "71acdf52",
   "metadata": {},
   "outputs": [
    {
     "data": {
      "text/plain": [
       "[1, 5, 9, 78, 56, 78, 78]"
      ]
     },
     "execution_count": 18,
     "metadata": {},
     "output_type": "execute_result"
    }
   ],
   "source": [
    "lst.insert(3,78)\n",
    "lst"
   ]
  },
  {
   "cell_type": "code",
   "execution_count": 19,
   "id": "de693189",
   "metadata": {},
   "outputs": [
    {
     "data": {
      "text/plain": [
       "[1, 9, 78, 56, 78, 78]"
      ]
     },
     "execution_count": 19,
     "metadata": {},
     "output_type": "execute_result"
    }
   ],
   "source": [
    "lst.pop(1)\n",
    "lst"
   ]
  },
  {
   "cell_type": "code",
   "execution_count": 20,
   "id": "b996216f",
   "metadata": {},
   "outputs": [
    {
     "data": {
      "text/plain": [
       "[78, 78, 56, 78, 9, 1]"
      ]
     },
     "execution_count": 20,
     "metadata": {},
     "output_type": "execute_result"
    }
   ],
   "source": [
    "lst.reverse()\n",
    "lst"
   ]
  },
  {
   "cell_type": "code",
   "execution_count": 21,
   "id": "bbdceffc",
   "metadata": {},
   "outputs": [
    {
     "data": {
      "text/plain": [
       "[78, 78, 56, 78, 9, 1]"
      ]
     },
     "execution_count": 21,
     "metadata": {},
     "output_type": "execute_result"
    }
   ],
   "source": [
    "lst"
   ]
  },
  {
   "cell_type": "code",
   "execution_count": 22,
   "id": "7b53c772",
   "metadata": {},
   "outputs": [
    {
     "data": {
      "text/plain": [
       "[1, 9, 78, 56, 78, 78]"
      ]
     },
     "execution_count": 22,
     "metadata": {},
     "output_type": "execute_result"
    }
   ],
   "source": [
    "lst[::-1]"
   ]
  },
  {
   "cell_type": "code",
   "execution_count": 23,
   "id": "d7378089",
   "metadata": {},
   "outputs": [
    {
     "data": {
      "text/plain": [
       "[78, 78, 56, 78, 9]"
      ]
     },
     "execution_count": 23,
     "metadata": {},
     "output_type": "execute_result"
    }
   ],
   "source": [
    "lst.remove(1)\n",
    "lst"
   ]
  },
  {
   "cell_type": "code",
   "execution_count": 24,
   "id": "b50d81f6",
   "metadata": {},
   "outputs": [],
   "source": [
    "lst.sort()"
   ]
  },
  {
   "cell_type": "code",
   "execution_count": 25,
   "id": "466aff14",
   "metadata": {},
   "outputs": [
    {
     "data": {
      "text/plain": [
       "[9, 56, 78, 78, 78]"
      ]
     },
     "execution_count": 25,
     "metadata": {},
     "output_type": "execute_result"
    }
   ],
   "source": [
    "lst"
   ]
  },
  {
   "cell_type": "code",
   "execution_count": 26,
   "id": "05eda9aa",
   "metadata": {},
   "outputs": [
    {
     "data": {
      "text/plain": [
       "{9, 56, 78}"
      ]
     },
     "execution_count": 26,
     "metadata": {},
     "output_type": "execute_result"
    }
   ],
   "source": [
    "lst = set(lst)\n",
    "lst"
   ]
  },
  {
   "cell_type": "code",
   "execution_count": 27,
   "id": "40599545",
   "metadata": {},
   "outputs": [],
   "source": [
    "tuple = tuple(lst)"
   ]
  },
  {
   "cell_type": "code",
   "execution_count": 30,
   "id": "919ac385",
   "metadata": {},
   "outputs": [
    {
     "data": {
      "text/plain": [
       "(56, 9, 78)"
      ]
     },
     "execution_count": 30,
     "metadata": {},
     "output_type": "execute_result"
    }
   ],
   "source": [
    "tuple"
   ]
  },
  {
   "cell_type": "code",
   "execution_count": 31,
   "id": "c40ba6a1",
   "metadata": {},
   "outputs": [
    {
     "data": {
      "text/plain": [
       "0"
      ]
     },
     "execution_count": 31,
     "metadata": {},
     "output_type": "execute_result"
    }
   ],
   "source": [
    "tuple.count(8)"
   ]
  },
  {
   "cell_type": "code",
   "execution_count": 33,
   "id": "c8db0378",
   "metadata": {},
   "outputs": [
    {
     "data": {
      "text/plain": [
       "2"
      ]
     },
     "execution_count": 33,
     "metadata": {},
     "output_type": "execute_result"
    }
   ],
   "source": [
    "tuple.index(78)"
   ]
  },
  {
   "cell_type": "code",
   "execution_count": 34,
   "id": "892275b0",
   "metadata": {},
   "outputs": [
    {
     "data": {
      "text/plain": [
       "78"
      ]
     },
     "execution_count": 34,
     "metadata": {},
     "output_type": "execute_result"
    }
   ],
   "source": [
    "tuple[2]"
   ]
  },
  {
   "cell_type": "code",
   "execution_count": 35,
   "id": "7a687a7c",
   "metadata": {},
   "outputs": [
    {
     "data": {
      "text/plain": [
       "(78, 9)"
      ]
     },
     "execution_count": 35,
     "metadata": {},
     "output_type": "execute_result"
    }
   ],
   "source": [
    "tuple[2:0:-1]"
   ]
  },
  {
   "cell_type": "code",
   "execution_count": 36,
   "id": "5a841398",
   "metadata": {},
   "outputs": [
    {
     "name": "stdout",
     "output_type": "stream",
     "text": [
      "Final list:  [8, 9]\n"
     ]
    }
   ],
   "source": [
    "lst = [7,8,9]\n",
    "fnl_lst = []\n",
    "for i in lst:\n",
    "    if i>=8:\n",
    "        fnl_lst.append(i)\n",
    "print(\"Final list: \",fnl_lst)"
   ]
  },
  {
   "cell_type": "code",
   "execution_count": 39,
   "id": "d414025d",
   "metadata": {},
   "outputs": [
    {
     "name": "stdout",
     "output_type": "stream",
     "text": [
      "Enter the no of elements: 4\n",
      "Enter a number to append: 1\n",
      "Enter a number to append: 7\n",
      "Enter a number to append: 8\n",
      "Enter a number to append: 6\n",
      "Got input from user and appended successfully\n",
      "List:  [1, 7, 8, 6]\n"
     ]
    }
   ],
   "source": [
    "lst = []\n",
    "num = int(input(\"Enter the no of elements: \"))\n",
    "for i in range(num):\n",
    "    val = int(input(\"Enter a number to append: \"))\n",
    "    lst.append(val)\n",
    "print(\"Got input from user and appended successfully\")\n",
    "print(\"List: \",lst)"
   ]
  },
  {
   "cell_type": "code",
   "execution_count": 40,
   "id": "d8794756",
   "metadata": {},
   "outputs": [
    {
     "name": "stdout",
     "output_type": "stream",
     "text": [
      "Enter the no of elements: 4\n",
      "Enter a number to append: 1\n",
      "Enter a number to append: 100\n",
      "Enter a number to append: 78\n",
      "Enter a number to append: 500\n",
      "Got input from user and appended successfully\n",
      "List:  [1, 100, 78, 'Excess']\n"
     ]
    }
   ],
   "source": [
    "lst = []\n",
    "num = int(input(\"Enter the no of elements: \"))\n",
    "for i in range(num):\n",
    "    val = int(input(\"Enter a number to append: \"))\n",
    "    if val>100:\n",
    "        lst.append(\"Excess\")\n",
    "    else:\n",
    "        lst.append(val)\n",
    "print(\"Got input from user and appended successfully\")\n",
    "print(\"List: \",lst)"
   ]
  },
  {
   "cell_type": "code",
   "execution_count": 43,
   "id": "da8d8061",
   "metadata": {},
   "outputs": [
    {
     "name": "stdout",
     "output_type": "stream",
     "text": [
      "Enter the no of elements: 4\n",
      "Enter a number to append: -2\n",
      "Enter a number to append: -6\n",
      "Enter a number to append: 1\n",
      "Enter a number to append: 4\n",
      "Positive list :  [1, 4]\n",
      "Negative List :  [-2, -6]\n"
     ]
    }
   ],
   "source": [
    "pos_lst = []\n",
    "neg_lst = []\n",
    "num = int(input(\"Enter the no of elements: \"))\n",
    "for i in range(num):\n",
    "    val = int(input(\"Enter a number to append: \"))\n",
    "    if val>0:\n",
    "        pos_lst.append(val)\n",
    "    else:\n",
    "        neg_lst.append(val)\n",
    "print(\"Positive list : \",pos_lst)\n",
    "print(\"Negative List : \",neg_lst)        "
   ]
  },
  {
   "cell_type": "code",
   "execution_count": 45,
   "id": "355ae255",
   "metadata": {},
   "outputs": [
    {
     "data": {
      "text/plain": [
       "['Python', 'c', 'Java']"
      ]
     },
     "execution_count": 45,
     "metadata": {},
     "output_type": "execute_result"
    }
   ],
   "source": [
    "lst = [\"Python\",\"\",\"\",\"\",\"c\",\"Java\",\"\"]\n",
    "while \"\" in lst:\n",
    "    lst.remove(\"\")\n",
    "lst"
   ]
  },
  {
   "cell_type": "code",
   "execution_count": 171,
   "id": "f17fd908",
   "metadata": {},
   "outputs": [],
   "source": [
    "lst = [45,56,78,89,56,89,89,23,12,89]\n",
    "while 89 in lst:\n",
    "    lst.remove(89)"
   ]
  },
  {
   "cell_type": "code",
   "execution_count": 172,
   "id": "4acd2e34",
   "metadata": {},
   "outputs": [
    {
     "data": {
      "text/plain": [
       "[45, 56, 78, 56, 23, 12]"
      ]
     },
     "execution_count": 172,
     "metadata": {},
     "output_type": "execute_result"
    }
   ],
   "source": [
    "lst"
   ]
  },
  {
   "cell_type": "code",
   "execution_count": 53,
   "id": "ad0048f1",
   "metadata": {},
   "outputs": [
    {
     "data": {
      "text/plain": [
       "'ARJUN'"
      ]
     },
     "execution_count": 53,
     "metadata": {},
     "output_type": "execute_result"
    }
   ],
   "source": [
    "#string manipulatiuon\n",
    "str = \"Arjun\"\n",
    "str.upper()"
   ]
  },
  {
   "cell_type": "code",
   "execution_count": 54,
   "id": "20111792",
   "metadata": {},
   "outputs": [
    {
     "data": {
      "text/plain": [
       "False"
      ]
     },
     "execution_count": 54,
     "metadata": {},
     "output_type": "execute_result"
    }
   ],
   "source": [
    "str.isupper()"
   ]
  },
  {
   "cell_type": "code",
   "execution_count": 55,
   "id": "6effdcf5",
   "metadata": {},
   "outputs": [
    {
     "data": {
      "text/plain": [
       "True"
      ]
     },
     "execution_count": 55,
     "metadata": {},
     "output_type": "execute_result"
    }
   ],
   "source": [
    "var = \"Arjun\"\n",
    "var = var.upper()\n",
    "var.isupper()"
   ]
  },
  {
   "cell_type": "code",
   "execution_count": 56,
   "id": "c842166c",
   "metadata": {},
   "outputs": [
    {
     "data": {
      "text/plain": [
       "True"
      ]
     },
     "execution_count": 56,
     "metadata": {},
     "output_type": "execute_result"
    }
   ],
   "source": [
    "var = var.lower()\n",
    "var.islower()"
   ]
  },
  {
   "cell_type": "code",
   "execution_count": 57,
   "id": "ebba4f2d",
   "metadata": {},
   "outputs": [
    {
     "data": {
      "text/plain": [
       "'Arjun'"
      ]
     },
     "execution_count": 57,
     "metadata": {},
     "output_type": "execute_result"
    }
   ],
   "source": [
    "var.capitalize()"
   ]
  },
  {
   "cell_type": "code",
   "execution_count": 59,
   "id": "846bd883",
   "metadata": {},
   "outputs": [
    {
     "data": {
      "text/plain": [
       "True"
      ]
     },
     "execution_count": 59,
     "metadata": {},
     "output_type": "execute_result"
    }
   ],
   "source": [
    "var.startswith(\"a\")"
   ]
  },
  {
   "cell_type": "code",
   "execution_count": 61,
   "id": "d573cb21",
   "metadata": {},
   "outputs": [
    {
     "data": {
      "text/plain": [
       "True"
      ]
     },
     "execution_count": 61,
     "metadata": {},
     "output_type": "execute_result"
    }
   ],
   "source": [
    "var = \"Arjjjun\"\n",
    "var.endswith('n')"
   ]
  },
  {
   "cell_type": "code",
   "execution_count": 62,
   "id": "9d93b341",
   "metadata": {},
   "outputs": [
    {
     "data": {
      "text/plain": [
       "3"
      ]
     },
     "execution_count": 62,
     "metadata": {},
     "output_type": "execute_result"
    }
   ],
   "source": [
    "var.count('j')"
   ]
  },
  {
   "cell_type": "code",
   "execution_count": 63,
   "id": "e25dcd1c",
   "metadata": {},
   "outputs": [
    {
     "data": {
      "text/plain": [
       "6"
      ]
     },
     "execution_count": 63,
     "metadata": {},
     "output_type": "execute_result"
    }
   ],
   "source": [
    "var.find(\"n\")"
   ]
  },
  {
   "cell_type": "code",
   "execution_count": 64,
   "id": "ef0a9927",
   "metadata": {},
   "outputs": [
    {
     "data": {
      "text/plain": [
       "0"
      ]
     },
     "execution_count": 64,
     "metadata": {},
     "output_type": "execute_result"
    }
   ],
   "source": [
    "var.index(\"A\")"
   ]
  },
  {
   "cell_type": "code",
   "execution_count": 66,
   "id": "326825ec",
   "metadata": {},
   "outputs": [
    {
     "data": {
      "text/plain": [
       "'rrjjjun'"
      ]
     },
     "execution_count": 66,
     "metadata": {},
     "output_type": "execute_result"
    }
   ],
   "source": [
    "var.replace(\"A\",\"r\")"
   ]
  },
  {
   "cell_type": "code",
   "execution_count": 67,
   "id": "32e54aac",
   "metadata": {},
   "outputs": [],
   "source": [
    "#dictionary - refer ppt()"
   ]
  },
  {
   "cell_type": "code",
   "execution_count": 174,
   "id": "b006fffd",
   "metadata": {},
   "outputs": [],
   "source": [
    "dic = {1:\"Arjun\",2:\"Sathish\",3:\"Thenu\"}"
   ]
  },
  {
   "cell_type": "code",
   "execution_count": 175,
   "id": "50b76312",
   "metadata": {},
   "outputs": [],
   "source": [
    "dic[4] = \"Sundar\""
   ]
  },
  {
   "cell_type": "code",
   "execution_count": 176,
   "id": "b8d63967",
   "metadata": {},
   "outputs": [
    {
     "data": {
      "text/plain": [
       "{1: 'Arjun', 2: 'Sathish', 3: 'Thenu', 4: 'Sundar'}"
      ]
     },
     "execution_count": 176,
     "metadata": {},
     "output_type": "execute_result"
    }
   ],
   "source": [
    "dic"
   ]
  },
  {
   "cell_type": "code",
   "execution_count": 179,
   "id": "ff6a8f98",
   "metadata": {},
   "outputs": [
    {
     "name": "stdout",
     "output_type": "stream",
     "text": [
      "[1, 2, 3, 4]\n",
      "['Arjun', 'Sathish', 'Thenu', 'Sundar']\n"
     ]
    }
   ],
   "source": [
    "print(list(dic.keys()))\n",
    "print(list(dic.values()))"
   ]
  },
  {
   "cell_type": "code",
   "execution_count": 182,
   "id": "736900c3",
   "metadata": {},
   "outputs": [
    {
     "name": "stdout",
     "output_type": "stream",
     "text": [
      "Arjun\n",
      "Sathish\n"
     ]
    }
   ],
   "source": [
    "print(dic[1])\n",
    "print(dic[2])"
   ]
  },
  {
   "cell_type": "code",
   "execution_count": 183,
   "id": "1c14d8ac",
   "metadata": {},
   "outputs": [
    {
     "name": "stdout",
     "output_type": "stream",
     "text": [
      "Arjun\n"
     ]
    }
   ],
   "source": [
    "print(dic.get(1))"
   ]
  },
  {
   "cell_type": "code",
   "execution_count": 184,
   "id": "3bc44a2f",
   "metadata": {},
   "outputs": [],
   "source": [
    "dic[3] = \"Arjun\""
   ]
  },
  {
   "cell_type": "code",
   "execution_count": 185,
   "id": "8e2b30cc",
   "metadata": {},
   "outputs": [
    {
     "data": {
      "text/plain": [
       "{1: 'Arjun', 2: 'Sathish', 3: 'Arjun', 4: 'Sundar'}"
      ]
     },
     "execution_count": 185,
     "metadata": {},
     "output_type": "execute_result"
    }
   ],
   "source": [
    "dic"
   ]
  },
  {
   "cell_type": "code",
   "execution_count": 190,
   "id": "52dbc9ee",
   "metadata": {},
   "outputs": [
    {
     "data": {
      "text/plain": [
       "True"
      ]
     },
     "execution_count": 190,
     "metadata": {},
     "output_type": "execute_result"
    }
   ],
   "source": [
    "1 in dic"
   ]
  },
  {
   "cell_type": "code",
   "execution_count": 191,
   "id": "a5926eca",
   "metadata": {},
   "outputs": [
    {
     "data": {
      "text/plain": [
       "False"
      ]
     },
     "execution_count": 191,
     "metadata": {},
     "output_type": "execute_result"
    }
   ],
   "source": [
    "\"Arjun\" in dic"
   ]
  },
  {
   "cell_type": "code",
   "execution_count": 193,
   "id": "f1067dd6",
   "metadata": {},
   "outputs": [
    {
     "name": "stdout",
     "output_type": "stream",
     "text": [
      "KEY:  1\n",
      "VALUE:  Arjun\n",
      "KEY:  2\n",
      "VALUE:  Sathish\n",
      "KEY:  3\n",
      "VALUE:  Arjun\n",
      "KEY:  4\n",
      "VALUE:  Sundar\n"
     ]
    }
   ],
   "source": [
    "for k in dic:\n",
    "    print(\"KEY: \",k)\n",
    "    print(\"VALUE: \",dic[k])"
   ]
  },
  {
   "cell_type": "code",
   "execution_count": 194,
   "id": "d90ab782",
   "metadata": {},
   "outputs": [
    {
     "name": "stdout",
     "output_type": "stream",
     "text": [
      "KEY:  1\n",
      "VALUE:  Arjun\n",
      "KEY:  2\n",
      "VALUE:  Sathish\n",
      "KEY:  3\n",
      "VALUE:  Arjun\n",
      "KEY:  4\n",
      "VALUE:  Sundar\n"
     ]
    }
   ],
   "source": [
    "for k,v in dic.items():\n",
    "    print(\"KEY: \",k)\n",
    "    print(\"VALUE: \",v)"
   ]
  },
  {
   "cell_type": "code",
   "execution_count": 196,
   "id": "49d561c4",
   "metadata": {},
   "outputs": [
    {
     "data": {
      "text/plain": [
       "{'Arjun': 5, 'Sathish': 7, 'Thenu': 5, 'Sundar': 6}"
      ]
     },
     "execution_count": 196,
     "metadata": {},
     "output_type": "execute_result"
    }
   ],
   "source": [
    "word = [\"Arjun\",\"Sathish\",\"Thenu\",\"Sundar\"]\n",
    "dic1 = {}\n",
    "for i in word:\n",
    "    dic1[i] = len(i)\n",
    "dic1"
   ]
  },
  {
   "cell_type": "markdown",
   "id": "0d2be4dd",
   "metadata": {},
   "source": [
    "# Module3"
   ]
  },
  {
   "cell_type": "code",
   "execution_count": 198,
   "id": "4ccc0552",
   "metadata": {},
   "outputs": [
    {
     "name": "stdout",
     "output_type": "stream",
     "text": [
      "Enter number of nights: 5\n",
      "Cost Ride:  7500\n",
      "Enter no.of hours: 4\n",
      "Choose city:\n",
      "1 for CMBT\n",
      "2 for OMR\n",
      "3 for Anna Nagar\n",
      "1\n",
      "Ride cost:  600\n"
     ]
    }
   ],
   "source": [
    "def cost_ride(nights):\n",
    "    print(\"Cost Ride: \",n*1500)\n",
    "    def plane_ride_cost(city):\n",
    "        hrs = int(input(\"Enter no.of hours: \"))\n",
    "        sel = int(input(\"Choose city:\\n1 for CMBT\\n2 for OMR\\n3 for Anna Nagar\\n\"))\n",
    "        if sel==1:\n",
    "            print(\"Ride cost: \",hrs*150)\n",
    "        elif sel==2:\n",
    "            print(\"Ride cost: \",hrs*250)\n",
    "        elif sel==3:\n",
    "            print(\"Ride cost: \",hrs*350)\n",
    "        else:\n",
    "            pass\n",
    "    plane_ride_cost('hrs')\n",
    "n = int(input(\"Enter number of nights: \"))\n",
    "cost_ride(n)"
   ]
  },
  {
   "cell_type": "code",
   "execution_count": 75,
   "id": "68a349f3",
   "metadata": {},
   "outputs": [
    {
     "name": "stdout",
     "output_type": "stream",
     "text": [
      "Adding : 12\n"
     ]
    }
   ],
   "source": [
    "#required arguments\n",
    "def add(a,b):\n",
    "    print(\"Adding :\",a+b)\n",
    "add(7,5)"
   ]
  },
  {
   "cell_type": "code",
   "execution_count": 89,
   "id": "0e0152a9",
   "metadata": {},
   "outputs": [
    {
     "name": "stdout",
     "output_type": "stream",
     "text": [
      "Name:  Arjun\n",
      "Dept:  CYS\n"
     ]
    }
   ],
   "source": [
    "#keyword Arguments\n",
    "def greet(name,dept):\n",
    "    print(\"Name: \",name)\n",
    "    print(\"Dept: \",dept)\n",
    "greet(dept = \"CYS\",name = \"Arjun\")"
   ]
  },
  {
   "cell_type": "code",
   "execution_count": 87,
   "id": "36368450",
   "metadata": {},
   "outputs": [
    {
     "name": "stdout",
     "output_type": "stream",
     "text": [
      "Enter name: Arjun\n",
      "Enter dept: \n",
      "My name is:  Arjun\n",
      "My dept is:  CYS\n"
     ]
    }
   ],
   "source": [
    "def welcome(name,dept=\"CYS\"):\n",
    "    print(\"My name is: \",name)\n",
    "    print(\"My dept is: \",dept)\n",
    "n = input(\"Enter name: \")\n",
    "d = input(\"Enter dept: \")\n",
    "if len(d) == 0:\n",
    "    welcome(n)\n",
    "else:\n",
    "    welcome(n,d)"
   ]
  },
  {
   "cell_type": "code",
   "execution_count": 94,
   "id": "e82ead31",
   "metadata": {},
   "outputs": [
    {
     "name": "stdout",
     "output_type": "stream",
     "text": [
      "Enter the word to find the count: pYthoN\n",
      "The word  python is found 2 times in the sentence\n"
     ]
    }
   ],
   "source": [
    "#finding a word in a sentence and counting it\n",
    "with open(\"Text.txt\",\"w\") as f:\n",
    "    f.write(\"Hey user! this is a code in Python and tomorrow is my python final exam\")\n",
    "    f.close()\n",
    "with open(\"Text.txt\") as f:\n",
    "    a = f.read()\n",
    "    spl = a.split(\" \")\n",
    "    srch_msg = input('Enter the word to find the count: ')\n",
    "    srch_msg = srch_msg.lower()\n",
    "    word_read = 0\n",
    "    for char in spl:\n",
    "        char = char.lower()\n",
    "        if char == srch_msg:\n",
    "            word_read+=1\n",
    "print(\"The word \",srch_msg,\"is found\",word_read,\"times in the sentence\")\n"
   ]
  },
  {
   "cell_type": "code",
   "execution_count": 202,
   "id": "de85e436",
   "metadata": {},
   "outputs": [
    {
     "name": "stdout",
     "output_type": "stream",
     "text": [
      "Vowel Percentage:  33\n",
      "Consonant Percentage:  66\n"
     ]
    }
   ],
   "source": [
    "#finding count of vowels and percentage of vowels\n",
    "with open(\"Text.txt\",\"w\") as f:\n",
    "    f.write(\"Hello All\")\n",
    "    f.close()\n",
    "with open(\"Text.txt\") as f:\n",
    "    a = f.read()\n",
    "    vow_read = 0\n",
    "    cons_read = 0\n",
    "    space_count = 0\n",
    "    for char in a:\n",
    "        if char in \"aeiouAEIOU\":\n",
    "            vow_read+=1\n",
    "#         elif char == \" \":\n",
    "#             space_count+=1\n",
    "        else:\n",
    "            cons_read+=1\n",
    "    vow_perc = 0\n",
    "    cons_perc = 0\n",
    "    space_perc = 0\n",
    "    vow_perc = vow_read*100//len(a)\n",
    "    cons_perc = cons_read*100//len(a)\n",
    "    space_perc = space_count*100//len(a)\n",
    "    print(\"Vowel Percentage: \",vow_perc)\n",
    "    print(\"Consonant Percentage: \",cons_perc)\n",
    "#     print(\"Space percentage: \",space_perc)"
   ]
  },
  {
   "cell_type": "markdown",
   "id": "6384d47a",
   "metadata": {},
   "source": [
    "#Exception Handling\n",
    "\n",
    "\n",
    "EXCEPTION HANDLING:\n",
    "exceptions are raised when the program is syntactically correct but the code is\n",
    "interrupted and results in error\n",
    "\n",
    "\n",
    "ERROR\n",
    "Errors are the problems in a program due to which the program will stop the\n",
    "execution.two types, run time & logical.\n",
    "\n",
    "\n",
    "Types of error:\n",
    "1.Run time error - syntax correct , logic is wrong poor understanding of the logic.logical error can be handled by program\n",
    "2.Compile time error, syntax error - poor understanding of the program. We can’t handle the syntax error.\n",
    "\n",
    "\n",
    "Important Keywords:\n",
    "try\n",
    "except\n",
    "else\n",
    "finally"
   ]
  },
  {
   "cell_type": "code",
   "execution_count": 103,
   "id": "f1bf85d8",
   "metadata": {},
   "outputs": [
    {
     "name": "stdout",
     "output_type": "stream",
     "text": [
      "Enter the first number: a\n",
      "Some Error \n",
      "Executed without any errors\n"
     ]
    }
   ],
   "source": [
    "try:\n",
    "    num1 = int(input(\"Enter the first number: \"))\n",
    "    num2 = int(input(\"Enter the second number: \"))\n",
    "    res = num1/num2\n",
    "except ZeroDivisionError as z:\n",
    "    print(\"Any value divided by zero gives error..\\nto know more about error refer this..\\n\",z)\n",
    "# except ValueError as v:\n",
    "#     print(\"Error: \",v)\n",
    "except Exception:\n",
    "    print('Some Error ')\n",
    "else:\n",
    "    print(\"Result: \",res)\n",
    "finally:\n",
    "    print(\"Executed without any errors\")"
   ]
  },
  {
   "cell_type": "code",
   "execution_count": 201,
   "id": "58ea78cb",
   "metadata": {},
   "outputs": [
    {
     "name": "stdout",
     "output_type": "stream",
     "text": [
      "enter the locationaa\n",
      "Int value only allowed to access a element in a list\n",
      "Done\n"
     ]
    }
   ],
   "source": [
    "a=[40,80,160]\n",
    "try:\n",
    "    ind=int(input(\"enter the location\"))\n",
    "    a[ind]\n",
    "except IndexError:\n",
    "    print(\"Index not available\")\n",
    "except ValueError:\n",
    "    print(\"Int value only allowed to access a element in a list\")\n",
    "else:\n",
    "    print(a[ind])\n",
    "finally:\n",
    "    print(\"Done\")"
   ]
  },
  {
   "cell_type": "markdown",
   "id": "45c09e5b",
   "metadata": {},
   "source": [
    "# Module4"
   ]
  },
  {
   "cell_type": "code",
   "execution_count": 117,
   "id": "7bcde058",
   "metadata": {},
   "outputs": [
    {
     "name": "stdout",
     "output_type": "stream",
     "text": [
      "Enter a Number: 15451\n",
      "Palindrome\n",
      "\n"
     ]
    }
   ],
   "source": [
    "#(checking palindrome and excepting some errors )inside a class\n",
    "class palindrome:\n",
    "    try:\n",
    "        num = int(input(\"Enter a Number: \"))\n",
    "        temp = num\n",
    "        rev = 0\n",
    "        while num>0:\n",
    "            dig = num%10\n",
    "            rev = rev*10+dig\n",
    "            num = num//10\n",
    "    except ValueError as v:\n",
    "        print(\"Value Error: \",v)\n",
    "    except ZeroDivisionError as z:\n",
    "        print(\"Zero Division Error: \",z)\n",
    "    except Exception as e:\n",
    "        print(\"Error:\",e)\n",
    "    else:\n",
    "        if temp == rev:\n",
    "            print(\"Palindrome\")\n",
    "        else:\n",
    "            print(\"Not a Palindrome\")\n",
    "    finally:\n",
    "        print()\n",
    "obj = palindrome()"
   ]
  },
  {
   "cell_type": "code",
   "execution_count": 119,
   "id": "0b596017",
   "metadata": {},
   "outputs": [
    {
     "name": "stdout",
     "output_type": "stream",
     "text": [
      "This is a parent class named college\n",
      "This is a sub class of college\n"
     ]
    }
   ],
   "source": [
    "#single inheritance\n",
    "class College:\n",
    "    def show(self):\n",
    "        print(\"This is a parent class named college\")\n",
    "class SRIHER(College):\n",
    "    def display(self):\n",
    "        print(\"This is a sub class of college\")\n",
    "obj = SRIHER()\n",
    "obj.show()\n",
    "obj.display()"
   ]
  },
  {
   "cell_type": "code",
   "execution_count": 120,
   "id": "c070aedf",
   "metadata": {},
   "outputs": [
    {
     "name": "stdout",
     "output_type": "stream",
     "text": [
      "This is a grandparent class named university\n",
      "This is a parent class derived from University class\n",
      "This is a child class derived from Sriher class and it can inherit features from University class and Sriher Class\n"
     ]
    }
   ],
   "source": [
    "#multilevel inheritance:\n",
    "class University:\n",
    "    def show(self):\n",
    "        print(\"This is a grandparent class named university\")\n",
    "class Sriher(University):\n",
    "    def display(self):\n",
    "        print(\"This is a parent class derived from University class\")\n",
    "class Sret(Sriher):\n",
    "    def output(self):\n",
    "        print(\"This is a child class derived from Sriher class and it can inherit features from University class and Sriher Class\")\n",
    "obj = Sret()\n",
    "obj.show()\n",
    "obj.display()\n",
    "obj.output()"
   ]
  },
  {
   "cell_type": "code",
   "execution_count": 121,
   "id": "ffec444a",
   "metadata": {},
   "outputs": [
    {
     "name": "stdout",
     "output_type": "stream",
     "text": [
      "This is a class named university\n",
      "This is a class named college\n",
      "This is a class inheriting feature from Univeristy and College class\n"
     ]
    }
   ],
   "source": [
    "#multiple inheritance\n",
    "class University:\n",
    "    def show(self):\n",
    "        print(\"This is a class named university\")\n",
    "class College:\n",
    "    def display(self):\n",
    "        print(\"This is a class named college\")           \n",
    "class SRET(College,University):\n",
    "    def output(self):\n",
    "        print(\"This is a class inheriting feature from Univeristy and College class\")\n",
    "obj = SRET()\n",
    "obj.show()\n",
    "obj.display()\n",
    "obj.output()"
   ]
  },
  {
   "cell_type": "code",
   "execution_count": 203,
   "id": "593b7058",
   "metadata": {},
   "outputs": [
    {
     "name": "stdout",
     "output_type": "stream",
     "text": [
      "This is a class named university\n",
      "This is a class named college\n",
      "This is a class named university\n",
      "This is a class inheriting feature from Univeristy class\n"
     ]
    }
   ],
   "source": [
    "#Hierarchical clustering\n",
    "class University:\n",
    "    def show(self):\n",
    "        print(\"This is a class named university\")\n",
    "class College(University):\n",
    "    def display(self):\n",
    "        print(\"This is a class named college\")           \n",
    "class SRET(University):\n",
    "    def output(self):\n",
    "        print(\"This is a class inheriting feature from Univeristy class\")\n",
    "#one parent class giving its features to its child class\n",
    "#here college class and Sret class are sibling classess\n",
    "obj1 = College()\n",
    "obj2 = SRET()\n",
    "obj1.show()\n",
    "obj1.display()\n",
    "obj2.show()\n",
    "obj2.output()"
   ]
  },
  {
   "cell_type": "code",
   "execution_count": 125,
   "id": "ba5bc3b1",
   "metadata": {},
   "outputs": [
    {
     "name": "stdout",
     "output_type": "stream",
     "text": [
      "This is a class named university\n",
      "This is a class named college\n"
     ]
    }
   ],
   "source": [
    "#Polymorphism(Method Overriding)\n",
    "class University:\n",
    "    def show(self):\n",
    "        print(\"This is a class named university\")\n",
    "class College(University):\n",
    "    def show(self):\n",
    "        super().show()\n",
    "        print(\"This is a class named college\")           \n",
    "obj = College()\n",
    "obj.show()\n"
   ]
  },
  {
   "cell_type": "code",
   "execution_count": null,
   "id": "6b75c750",
   "metadata": {},
   "outputs": [],
   "source": []
  },
  {
   "cell_type": "code",
   "execution_count": null,
   "id": "f34160b9",
   "metadata": {},
   "outputs": [],
   "source": []
  },
  {
   "cell_type": "code",
   "execution_count": 137,
   "id": "03fe4e1f",
   "metadata": {},
   "outputs": [
    {
     "name": "stdout",
     "output_type": "stream",
     "text": [
      "My dept is CYS\n",
      "My age is 17\n",
      "My name is Arjun\n"
     ]
    }
   ],
   "source": [
    "#Polymorphism(Method Overloading)\n",
    "class University:\n",
    "    def show(self,name):\n",
    "        print(\"My name is\",name)\n",
    "class college(University):\n",
    "    def show(self,dept,age):\n",
    "        print(\"My dept is\",dept)\n",
    "        print(\"My age is\",age)\n",
    "obj = college()\n",
    "obj1 = University()\n",
    "obj.show(\"CYS\",17)\n",
    "obj1.show(\"Arjun\")"
   ]
  },
  {
   "cell_type": "code",
   "execution_count": 148,
   "id": "05a5123e",
   "metadata": {},
   "outputs": [
    {
     "name": "stdout",
     "output_type": "stream",
     "text": [
      "Your account is created\n",
      "1 for Deposit\n",
      "2 for Withdraw\n",
      "3 for Enquiry\n",
      "4 for exit1\n",
      "Enter the amount to be Deposited: 45\n",
      "1 for Deposit\n",
      "2 for Withdraw\n",
      "3 for Enquiry\n",
      "4 for exit4\n"
     ]
    }
   ],
   "source": [
    "#bank acc\n",
    "class Bank:\n",
    "    def __init__ (self):\n",
    "        self.balance = 0\n",
    "        print(\"Your account is created\")\n",
    "    def deposit(self):\n",
    "        amount = int(input(\"Enter the amount to be Deposited: \"))\n",
    "        self.balance+= amount\n",
    "        #print(\"Your balance is: \",self.balance)\n",
    "    def withdraw(self):\n",
    "        amount = int(input(\"Enter the amount to be withdrawn: \"))\n",
    "        if amount<self.balance:\n",
    "            self.balance-=amount\n",
    "        else:\n",
    "            print(\"Insufficient balance\")\n",
    "        #print(\"Your balance is: \",self.balance)\n",
    "        \n",
    "    def enquiry(self):\n",
    "        print(\"Your balance is: \",self.balance)\n",
    "ac = Bank()\n",
    "while True:\n",
    "    sel = int(input(\"1 for Deposit\\n2 for Withdraw\\n3 for Enquiry\\n4 for exit\"))\n",
    "    if sel == 1:\n",
    "        ac.deposit()\n",
    "    elif sel == 2:\n",
    "        ac.withdraw()\n",
    "    elif sel == 3:\n",
    "        ac.enquiry()\n",
    "    else:\n",
    "        break"
   ]
  },
  {
   "cell_type": "markdown",
   "id": "dc04079b",
   "metadata": {},
   "source": [
    "# Module5"
   ]
  },
  {
   "cell_type": "markdown",
   "id": "0c20e6e0",
   "metadata": {},
   "source": [
    "regular expression:\n",
    "match()-match only the first word\n",
    "search()- search entire statement\n",
    "sub()- replace\n",
    "findall() - extract string based on pattern"
   ]
  },
  {
   "cell_type": "code",
   "execution_count": 151,
   "id": "ec0b9cf5",
   "metadata": {},
   "outputs": [
    {
     "name": "stdout",
     "output_type": "stream",
     "text": [
      "Found\n"
     ]
    }
   ],
   "source": [
    "import re\n",
    "msg=\"Hello welcome to SRET\"\n",
    "p=\"Hello\"\n",
    "if re.match(p,msg):\n",
    "    print(\"Found\")\n",
    "else:\n",
    "    print(\"Not found\")"
   ]
  },
  {
   "cell_type": "code",
   "execution_count": 152,
   "id": "715f59cb",
   "metadata": {},
   "outputs": [
    {
     "name": "stdout",
     "output_type": "stream",
     "text": [
      "Found\n"
     ]
    }
   ],
   "source": [
    "import re\n",
    "msg=\"Hello welcome to SRET\"\n",
    "p=\"SRET\"\n",
    "if re.search(p,msg):\n",
    "    print(\"Found\")\n",
    "else:\n",
    "    print(\"Not found\")"
   ]
  },
  {
   "cell_type": "code",
   "execution_count": 153,
   "id": "379bf9a1",
   "metadata": {},
   "outputs": [
    {
     "name": "stdout",
     "output_type": "stream",
     "text": [
      "Welcome to SRIHER and SRET\n"
     ]
    }
   ],
   "source": [
    "# sub\n",
    "msg=\"Welcome to SRET and SRET\"\n",
    "oldstring=\"SRET\"\n",
    "new=\"SRIHER\"\n",
    "msg1=re.sub(oldstring,new,msg,1)\n",
    "print(msg1)"
   ]
  },
  {
   "cell_type": "code",
   "execution_count": 154,
   "id": "d1257461",
   "metadata": {},
   "outputs": [
    {
     "name": "stdout",
     "output_type": "stream",
     "text": [
      "Dates are: ['01-11-2022', '11-11-2022']\n"
     ]
    }
   ],
   "source": [
    "# Extract date\n",
    "msg = \"Hey today date is 01-11-2022 http://google.com/11-11-2022\"\n",
    "srch = r'\\d{2}-\\d{2}-\\d{4}'\n",
    "a = re.findall(srch,msg)\n",
    "print(\"Dates are:\",a)"
   ]
  },
  {
   "cell_type": "code",
   "execution_count": 155,
   "id": "ff10002f",
   "metadata": {},
   "outputs": [
    {
     "name": "stdout",
     "output_type": "stream",
     "text": [
      "Dates are: ['2022', '2022']\n"
     ]
    }
   ],
   "source": [
    "# Extract Year\n",
    "msg = \"Hey today date is 01-11-2022 http://google.com/11-11-2022\"\n",
    "srch = r'\\d{2}-\\d{2}-(\\d{4})'\n",
    "a = re.findall(srch,msg)\n",
    "print(\"Dates are:\",a)"
   ]
  },
  {
   "cell_type": "code",
   "execution_count": 156,
   "id": "9d795591",
   "metadata": {},
   "outputs": [
    {
     "data": {
      "text/plain": [
       "['clue']"
      ]
     },
     "execution_count": 156,
     "metadata": {},
     "output_type": "execute_result"
    }
   ],
   "source": [
    "#Extract the word starting with c and end with e\n",
    "msg = \"No clue is left\"\n",
    "p =r'\\bc\\S+e\\b'\n",
    "re.findall(p,msg)"
   ]
  },
  {
   "cell_type": "code",
   "execution_count": 157,
   "id": "5d690278",
   "metadata": {},
   "outputs": [
    {
     "name": "stdout",
     "output_type": "stream",
     "text": [
      "Valid Number:  ['E022205.xx@gmail.com', 'dbbd@gmail.com']\n"
     ]
    }
   ],
   "source": [
    "#Write a program that seperates only the email id\n",
    "p = r'[\\w.]+@[\\w.-]+'\n",
    "msg = \"Official mail id E022205.xx@gmail.com Private mail id dbbd@gmail.com\"\n",
    "a = re.findall(p,msg)\n",
    "print(\"Valid Number: \",a)"
   ]
  },
  {
   "cell_type": "code",
   "execution_count": 158,
   "id": "b35ba5aa",
   "metadata": {},
   "outputs": [
    {
     "name": "stdout",
     "output_type": "stream",
     "text": [
      "Valid Number:  ['7894561231', '9854761235']\n"
     ]
    }
   ],
   "source": [
    "#Write a program that validates a mobile phone number\n",
    "#the number should strat with 7 or 8 or 9 followed by 9 digit\n",
    "p = r'[7-9]{1}[0-9]{9}'\n",
    "msg = \"4578961234 7894561231 845786 9854761235\"\n",
    "a = re.findall(p,msg)\n",
    "print(\"Valid Number: \",a)"
   ]
  },
  {
   "cell_type": "code",
   "execution_count": 159,
   "id": "7ae50afa",
   "metadata": {},
   "outputs": [
    {
     "data": {
      "text/plain": [
       "['Py']"
      ]
     },
     "execution_count": 159,
     "metadata": {},
     "output_type": "execute_result"
    }
   ],
   "source": [
    "#\"Python\" = Py\n",
    "import re\n",
    "msg=\"Python\"\n",
    "p=r'\\b\\w\\w'\n",
    "re.findall(p,msg)"
   ]
  },
  {
   "cell_type": "code",
   "execution_count": null,
   "id": "292e2e81",
   "metadata": {},
   "outputs": [],
   "source": []
  }
 ],
 "metadata": {
  "kernelspec": {
   "display_name": "Python 3 (ipykernel)",
   "language": "python",
   "name": "python3"
  },
  "language_info": {
   "codemirror_mode": {
    "name": "ipython",
    "version": 3
   },
   "file_extension": ".py",
   "mimetype": "text/x-python",
   "name": "python",
   "nbconvert_exporter": "python",
   "pygments_lexer": "ipython3",
   "version": "3.9.12"
  }
 },
 "nbformat": 4,
 "nbformat_minor": 5
}
