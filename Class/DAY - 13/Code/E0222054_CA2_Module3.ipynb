{
 "cells": [
  {
   "cell_type": "code",
   "execution_count": 1,
   "id": "cbfde323",
   "metadata": {},
   "outputs": [
    {
     "name": "stdout",
     "output_type": "stream",
     "text": [
      "Arjun\n",
      "Reversing Arjun gives nujrA\n"
     ]
    }
   ],
   "source": [
    "def rev_val(inp_val): \n",
    "    out_val = inp_val[::-1] \n",
    "    return out_val\n",
    " \n",
    "s = input()\n",
    "\n",
    "print(\"Reversing\",s,\"gives\",rev_val(s))"
   ]
  },
  {
   "cell_type": "code",
   "execution_count": 4,
   "id": "12b174c2",
   "metadata": {},
   "outputs": [
    {
     "name": "stdout",
     "output_type": "stream",
     "text": [
      "Enter String here: Arjun\n",
      "Upper Case Charcaters: 1\n",
      "Lower Case Charcaters: 4\n"
     ]
    }
   ],
   "source": [
    "def upper_lower(inp_val):\n",
    "    upper_count = 0\n",
    "    lower_count = 0\n",
    "    for i in inp_val:\n",
    "        if i.isupper():\n",
    "            upper_count +=1\n",
    "        elif i.islower():\n",
    "            lower_count +=1\n",
    "        else:\n",
    "            pass\n",
    "    return upper_count,lower_count\n",
    "\n",
    "u,l = upper_lower(input(\"Enter String here: \"))\n",
    "print(\"Upper Case Charcaters:\",u)\n",
    "print(\"Lower Case Charcaters:\",l)      "
   ]
  },
  {
   "cell_type": "code",
   "execution_count": null,
   "id": "a6fdfe54",
   "metadata": {},
   "outputs": [],
   "source": []
  }
 ],
 "metadata": {
  "kernelspec": {
   "display_name": "Python 3 (ipykernel)",
   "language": "python",
   "name": "python3"
  },
  "language_info": {
   "codemirror_mode": {
    "name": "ipython",
    "version": 3
   },
   "file_extension": ".py",
   "mimetype": "text/x-python",
   "name": "python",
   "nbconvert_exporter": "python",
   "pygments_lexer": "ipython3",
   "version": "3.9.12"
  }
 },
 "nbformat": 4,
 "nbformat_minor": 5
}
