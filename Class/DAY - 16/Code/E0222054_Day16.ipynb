{
 "cells": [
  {
   "cell_type": "markdown",
   "id": "5b501616",
   "metadata": {},
   "source": [
    "create a class called bank\n",
    "credit and debit method"
   ]
  },
  {
   "cell_type": "markdown",
   "id": "67fc91ba",
   "metadata": {},
   "source": [
    "### Constructor"
   ]
  },
  {
   "cell_type": "code",
   "execution_count": null,
   "id": "f966a7a0",
   "metadata": {},
   "outputs": [],
   "source": [
    "Constructor is generally used for instanting the object.\n",
    "Constructor is a method that is called when an object is created. This method is defined in the class and can be used to initialize basic variables. "
   ]
  },
  {
   "cell_type": "code",
   "execution_count": 17,
   "id": "cbcf05b3",
   "metadata": {},
   "outputs": [
    {
     "name": "stdout",
     "output_type": "stream",
     "text": [
      "Hello Welcome to Sret\n"
     ]
    }
   ],
   "source": [
    "class sample:\n",
    "    def __init__(self):\n",
    "        print(\"Hello Welcome to Sret\")\n",
    "call=sample()"
   ]
  },
  {
   "cell_type": "code",
   "execution_count": 26,
   "id": "3ba895a4",
   "metadata": {},
   "outputs": [
    {
     "name": "stdout",
     "output_type": "stream",
     "text": [
      "From constructor python 18\n"
     ]
    }
   ],
   "source": [
    "class sample:\n",
    "    def __init__(self,name,age):\n",
    "        self.name = name\n",
    "        self.age = age\n",
    "    def display(self):\n",
    "        print(\"From constructor\",self.name,self.age)\n",
    "s = sample(\"python\",18)\n",
    "s.display()"
   ]
  },
  {
   "cell_type": "code",
   "execution_count": 27,
   "id": "ea57efd1",
   "metadata": {},
   "outputs": [
    {
     "name": "stdout",
     "output_type": "stream",
     "text": [
      "My name is  Arjun\n",
      "My age is  17\n",
      "Your account is created.\n"
     ]
    }
   ],
   "source": [
    "class Account:\n",
    "    def __init__(self,name,age):\n",
    "        self.name =name\n",
    "        self.age = age\n",
    "        print(\"My name is \",self.name)\n",
    "        print(\"My age is \",self.age)\n",
    "        self.balance=0\n",
    "        print(\"Your account is created.\")\n",
    "    def deposit(self):\n",
    "        amount = int(input(\"Enter the amount to deposit: \"))\n",
    "        self.balance += amount\n",
    "        print(\"Your new balance = \",self.balance)\n",
    "    def withdraw(self):\n",
    "        amount = int(input(\"Enter the amount to Withdraw: \"))\n",
    "        if (amount>=self.balance):\n",
    "            print(\"Insufficient Balance\")\n",
    "        else:            \n",
    "            self.balance -= amount\n",
    "            print(\"Your remaining balance = \",self.balance)\n",
    "    def enquiry(self):\n",
    "        print(\"Your balance\",self.balance)\n",
    "ac = Account(\"Arjun\",17)\n"
   ]
  },
  {
   "cell_type": "code",
   "execution_count": 22,
   "id": "0fbe8ab2",
   "metadata": {},
   "outputs": [
    {
     "name": "stdout",
     "output_type": "stream",
     "text": [
      "Enter the amount to deposit: 10000\n",
      "Your new balance =  10000\n"
     ]
    }
   ],
   "source": [
    "ac.deposit()"
   ]
  },
  {
   "cell_type": "code",
   "execution_count": 23,
   "id": "2ecb59f9",
   "metadata": {},
   "outputs": [
    {
     "name": "stdout",
     "output_type": "stream",
     "text": [
      "Enter the amount to Withdraw: 5000\n",
      "Your remaining balance =  5000\n"
     ]
    }
   ],
   "source": [
    "ac.withdraw()"
   ]
  },
  {
   "cell_type": "code",
   "execution_count": 24,
   "id": "7e6b9861",
   "metadata": {},
   "outputs": [
    {
     "name": "stdout",
     "output_type": "stream",
     "text": [
      "Your balance 5000\n"
     ]
    }
   ],
   "source": [
    "ac.enquiry()"
   ]
  },
  {
   "cell_type": "markdown",
   "id": "2fa06ceb",
   "metadata": {},
   "source": [
    "### Method Overloading"
   ]
  },
  {
   "cell_type": "code",
   "execution_count": 29,
   "id": "6aa6a4c2",
   "metadata": {},
   "outputs": [
    {
     "name": "stdout",
     "output_type": "stream",
     "text": [
      "Enter name: Arjun\n",
      "Hello Arjun\n"
     ]
    }
   ],
   "source": [
    "class Person:\n",
    "    def Hello(self,name=None):\n",
    "        if name is not None:\n",
    "            print(\"Hello \"+name)\n",
    "#         else:\n",
    "#             print(\"Hello\")\n",
    "n = input('Enter name: ')\n",
    "obj = Person()\n",
    "# obj.Hello()\n",
    "obj.Hello( n)"
   ]
  },
  {
   "cell_type": "markdown",
   "id": "437b5c80",
   "metadata": {},
   "source": [
    "if u hide any variable/attribute then outside of the class we cannot acess it"
   ]
  },
  {
   "cell_type": "markdown",
   "id": "2d3bcb00",
   "metadata": {},
   "source": [
    "### Data Hiding"
   ]
  },
  {
   "cell_type": "code",
   "execution_count": 15,
   "id": "503ae594",
   "metadata": {},
   "outputs": [
    {
     "name": "stdout",
     "output_type": "stream",
     "text": [
      "1\n",
      "2\n",
      "Outside the class\n"
     ]
    },
    {
     "ename": "AttributeError",
     "evalue": "'JustCounter' object has no attribute '__secretCount'",
     "output_type": "error",
     "traceback": [
      "\u001b[1;31m---------------------------------------------------------------------------\u001b[0m",
      "\u001b[1;31mAttributeError\u001b[0m                            Traceback (most recent call last)",
      "Input \u001b[1;32mIn [15]\u001b[0m, in \u001b[0;36m<cell line: 11>\u001b[1;34m()\u001b[0m\n\u001b[0;32m      9\u001b[0m c\u001b[38;5;241m.\u001b[39mcount()\n\u001b[0;32m     10\u001b[0m \u001b[38;5;28mprint\u001b[39m(\u001b[38;5;124m\"\u001b[39m\u001b[38;5;124mOutside the class\u001b[39m\u001b[38;5;124m\"\u001b[39m)\n\u001b[1;32m---> 11\u001b[0m \u001b[38;5;28mprint\u001b[39m(\u001b[43mc\u001b[49m\u001b[38;5;241;43m.\u001b[39;49m\u001b[43m__secretCount\u001b[49m)\n",
      "\u001b[1;31mAttributeError\u001b[0m: 'JustCounter' object has no attribute '__secretCount'"
     ]
    }
   ],
   "source": [
    "#data hiding\n",
    "class JustCounter:\n",
    "    __secretCount = 0\n",
    "    def count(self):\n",
    "        self.__secretCount = self.__secretCount+1\n",
    "        print(self.__secretCount)\n",
    "c= JustCounter()\n",
    "c.count()\n",
    "c.count()\n",
    "print(\"Outside the class\")\n",
    "print(c.__secretCount)"
   ]
  },
  {
   "cell_type": "code",
   "execution_count": 4,
   "id": "3efdfbdd",
   "metadata": {},
   "outputs": [
    {
     "name": "stdout",
     "output_type": "stream",
     "text": [
      "15 Lambo 3\n",
      "10 Lambo 3\n"
     ]
    }
   ],
   "source": [
    "class Car:\n",
    "    wheels = 5\n",
    "    def __init__(self):\n",
    "        self.mil = 10\n",
    "        self.comp =\"Lambo\"\n",
    "obj1 = Car()\n",
    "obj2 = Car()\n",
    "obj1.mil = 15\n",
    "#obj2.wheels = 4\n",
    "Car.wheels = 3\n",
    "print(obj1.mil,obj1.comp,obj1.wheels)\n",
    "print(obj2.mil,obj2.comp,obj2.wheels)"
   ]
  },
  {
   "cell_type": "code",
   "execution_count": 31,
   "id": "b26c0e09",
   "metadata": {},
   "outputs": [
    {
     "name": "stdout",
     "output_type": "stream",
     "text": [
      "Enter mark: 7\n",
      "Enter mark: 8\n",
      "Enter mark: 9\n",
      "8.0\n",
      "TO perform opertaions create and call the object\n"
     ]
    }
   ],
   "source": [
    "class name:\n",
    "    def __init__(self,m1,m2,m3):\n",
    "        self.m1 = m1\n",
    "        self.m2 = m2\n",
    "        self.m3 = m3\n",
    "    def avg(self):\n",
    "        return (self.m1+self.m2+self.m3)/3\n",
    "    def __str__(self):\n",
    "        return \"TO perform opertaions create and call the object\"\n",
    "    \n",
    "mark1 = int(input(\"Enter mark: \"))\n",
    "mark2 = int(input(\"Enter mark: \"))\n",
    "mark3 = int(input(\"Enter mark: \"))\n",
    "obj = name(mark1,mark2,mark3)\n",
    "print(obj.avg())\n",
    "\n",
    "print(obj)\n"
   ]
  },
  {
   "cell_type": "code",
   "execution_count": null,
   "id": "9cceb34a",
   "metadata": {},
   "outputs": [],
   "source": []
  }
 ],
 "metadata": {
  "kernelspec": {
   "display_name": "Python 3 (ipykernel)",
   "language": "python",
   "name": "python3"
  },
  "language_info": {
   "codemirror_mode": {
    "name": "ipython",
    "version": 3
   },
   "file_extension": ".py",
   "mimetype": "text/x-python",
   "name": "python",
   "nbconvert_exporter": "python",
   "pygments_lexer": "ipython3",
   "version": "3.9.12"
  }
 },
 "nbformat": 4,
 "nbformat_minor": 5
}
