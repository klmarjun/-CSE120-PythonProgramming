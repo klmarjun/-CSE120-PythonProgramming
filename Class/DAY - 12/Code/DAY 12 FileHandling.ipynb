{
 "cells": [
  {
   "cell_type": "markdown",
   "id": "2fca9bbe",
   "metadata": {},
   "source": [
    "create an user defined exception \"Not Accepted\" when the user trying to addend negative value in the list"
   ]
  },
  {
   "cell_type": "code",
   "execution_count": 13,
   "id": "5662594a",
   "metadata": {},
   "outputs": [
    {
     "name": "stdout",
     "output_type": "stream",
     "text": [
      "Enter the limit: 5\n",
      "Enter a number: -45\n"
     ]
    },
    {
     "ename": "TypeError",
     "evalue": "catching classes that do not inherit from BaseException is not allowed",
     "output_type": "error",
     "traceback": [
      "\u001b[1;31m---------------------------------------------------------------------------\u001b[0m",
      "\u001b[1;31mTypeError\u001b[0m                                 Traceback (most recent call last)",
      "Input \u001b[1;32mIn [13]\u001b[0m, in \u001b[0;36m<cell line: 3>\u001b[1;34m()\u001b[0m\n\u001b[0;32m      6\u001b[0m     a\u001b[38;5;241m=\u001b[39mnum\u001b[38;5;241m<\u001b[39m\u001b[38;5;241m0\u001b[39m\n\u001b[1;32m----> 7\u001b[0m     lst\u001b[38;5;241m.\u001b[39mappend(\u001b[43mnum\u001b[49m\u001b[43m[\u001b[49m\u001b[43mi\u001b[49m\u001b[43m]\u001b[49m)\n\u001b[0;32m      8\u001b[0m \u001b[38;5;28;01mexcept\u001b[39;00m num \u001b[38;5;241m<\u001b[39m \u001b[38;5;241m0\u001b[39m:\n",
      "\u001b[1;31mTypeError\u001b[0m: 'int' object is not subscriptable",
      "\nDuring handling of the above exception, another exception occurred:\n",
      "\u001b[1;31mTypeError\u001b[0m                                 Traceback (most recent call last)",
      "Input \u001b[1;32mIn [13]\u001b[0m, in \u001b[0;36m<cell line: 3>\u001b[1;34m()\u001b[0m\n\u001b[0;32m      6\u001b[0m         a\u001b[38;5;241m=\u001b[39mnum\u001b[38;5;241m<\u001b[39m\u001b[38;5;241m0\u001b[39m\n\u001b[0;32m      7\u001b[0m         lst\u001b[38;5;241m.\u001b[39mappend(num[i])\n\u001b[1;32m----> 8\u001b[0m     \u001b[38;5;28;01mexcept\u001b[39;00m num \u001b[38;5;241m<\u001b[39m \u001b[38;5;241m0\u001b[39m:\n\u001b[0;32m      9\u001b[0m         \u001b[38;5;28mprint\u001b[39m(\u001b[38;5;124m\"\u001b[39m\u001b[38;5;124mNot Accepted\u001b[39m\u001b[38;5;124m\"\u001b[39m)\n\u001b[0;32m     13\u001b[0m \u001b[38;5;28mprint\u001b[39m(lst)\n",
      "\u001b[1;31mTypeError\u001b[0m: catching classes that do not inherit from BaseException is not allowed"
     ]
    }
   ],
   "source": [
    "lst = []\n",
    "lim = int(input(\"Enter the limit: \"))\n",
    "for i in range (0,lim):\n",
    "    try:\n",
    "        num = int(input(\"Enter a number: \"))\n",
    "        a=num<0\n",
    "        lst.append(num[i])\n",
    "    except num < 0:\n",
    "        print(\"Not Accepted\")\n",
    "\n",
    "            \n",
    "    print(lst)"
   ]
  },
  {
   "cell_type": "code",
   "execution_count": 1,
   "id": "85dc0565",
   "metadata": {},
   "outputs": [
    {
     "name": "stdout",
     "output_type": "stream",
     "text": [
      "Enter the Limit: 4\n",
      "Enter number: 5\n"
     ]
    },
    {
     "ename": "NameError",
     "evalue": "name 'a' is not defined",
     "output_type": "error",
     "traceback": [
      "\u001b[1;31m---------------------------------------------------------------------------\u001b[0m",
      "\u001b[1;31mNameError\u001b[0m                                 Traceback (most recent call last)",
      "Input \u001b[1;32mIn [1]\u001b[0m, in \u001b[0;36m<cell line: 6>\u001b[1;34m()\u001b[0m\n\u001b[0;32m      7\u001b[0m \u001b[38;5;28;01mfor\u001b[39;00m i \u001b[38;5;129;01min\u001b[39;00m \u001b[38;5;28mrange\u001b[39m(lim):\n\u001b[0;32m      8\u001b[0m     num \u001b[38;5;241m=\u001b[39m \u001b[38;5;28mint\u001b[39m(\u001b[38;5;28minput\u001b[39m(\u001b[38;5;124m\"\u001b[39m\u001b[38;5;124mEnter number: \u001b[39m\u001b[38;5;124m\"\u001b[39m))\n\u001b[1;32m----> 9\u001b[0m     \u001b[38;5;28;01mif\u001b[39;00m (\u001b[43ma\u001b[49m\u001b[38;5;241m>\u001b[39m\u001b[38;5;241m0\u001b[39m):\n\u001b[0;32m     10\u001b[0m         lst\u001b[38;5;241m.\u001b[39mappend(num)\n\u001b[0;32m     11\u001b[0m     \u001b[38;5;28;01melse\u001b[39;00m:\n",
      "\u001b[1;31mNameError\u001b[0m: name 'a' is not defined"
     ]
    }
   ],
   "source": [
    "class NotAccepted(Exception):\n",
    "    def display(self):\n",
    "        print(\"Negative Number not allowed\")\n",
    "lst = []\n",
    "lim = int(input(\"Enter the Limit: \"))\n",
    "try:\n",
    "    for i in range(lim):\n",
    "        num = int(input(\"Enter number: \"))\n",
    "        if (a>0):\n",
    "            lst.append(num)\n",
    "        else:\n",
    "            raise NotAccepted\n",
    "except NotAccepted as n:\n",
    "    n.display()\n",
    "print(lst)"
   ]
  },
  {
   "cell_type": "markdown",
   "id": "14cc29f0",
   "metadata": {},
   "source": [
    "# File Handling"
   ]
  },
  {
   "cell_type": "markdown",
   "id": "8eb0c95c",
   "metadata": {},
   "source": [
    "1.Read -r\n",
    "2.Write File -w\n",
    "3.Append File -a"
   ]
  },
  {
   "cell_type": "code",
   "execution_count": 2,
   "id": "c59178c5",
   "metadata": {},
   "outputs": [],
   "source": [
    "with open (\"first.txt\",\"w\")as f:\n",
    "    f.write(\"Hello\\nTesting To Write a file\\nThank You\\n\")\n",
    "f.close()"
   ]
  },
  {
   "cell_type": "code",
   "execution_count": 45,
   "id": "ce85e11b",
   "metadata": {},
   "outputs": [
    {
     "name": "stdout",
     "output_type": "stream",
     "text": [
      "Hello\n",
      "Testing To Write a file\n",
      "Thank You\n",
      "Appending a line\n",
      " Done.Appending a line\n",
      "Done.\n"
     ]
    }
   ],
   "source": [
    "with open(\"first.txt\",\"r\") as r:\n",
    "    temp = r.read()\n",
    "    print(temp)"
   ]
  },
  {
   "cell_type": "code",
   "execution_count": 3,
   "id": "f92cacfa",
   "metadata": {},
   "outputs": [],
   "source": [
    "with open (\"first.txt\",\"a\")as f:\n",
    "    f.write(\"Appending a line, Done.\")\n",
    "f.close()"
   ]
  },
  {
   "cell_type": "code",
   "execution_count": 64,
   "id": "bcf187c0",
   "metadata": {},
   "outputs": [
    {
     "name": "stdout",
     "output_type": "stream",
     "text": [
      "Hello\n",
      "Testing To Write a file\n",
      "Thank You\n",
      "Appending a line\n",
      " Done.Appending a line\n",
      "Done.Appending a line\n",
      "Done.ArjunAppending     a line\n",
      "Done\t\t\t .\n"
     ]
    }
   ],
   "source": [
    "with open(\"first.txt\",\"r\") as r:\n",
    "    temp = r.read()\n",
    "    print(temp)"
   ]
  },
  {
   "cell_type": "code",
   "execution_count": 2,
   "id": "d8c21245",
   "metadata": {},
   "outputs": [
    {
     "name": "stdout",
     "output_type": "stream",
     "text": [
      "Enter the File Name: first.txt\n",
      "Enter the mode: r\n",
      "Hello\n",
      "Testing To Write a file\n",
      "Thank You\n",
      "Appending a line, Done.\n"
     ]
    }
   ],
   "source": [
    "file_name = input(\"Enter the File Name: \")\n",
    "mode = input(\"Enter the mode: \")\n",
    "if mode == \"w\":\n",
    "    with open (file_name,\"w\")as f:\n",
    "        cont = input(\"Type Here\")\n",
    "        print(\"\\n\")\n",
    "        f.write(cont)\n",
    "    f.close()\n",
    "elif mode == \"r\":\n",
    "    with open(file_name,\"r\") as r:\n",
    "        temp = r.read()\n",
    "        print(temp)\n",
    "elif mode == \"a\":\n",
    "    with open (file_name,\"a\")as f:\n",
    "        cont1 = input(\"Type Here: \")\n",
    "        \n",
    "        f.write(cont1)\n",
    "    f.close()\n",
    "else:\n",
    "    print(\"Wrong Input\")\n",
    "    \n"
   ]
  },
  {
   "cell_type": "markdown",
   "id": "96eedf36",
   "metadata": {},
   "source": [
    "1. Write a program that counts the number of tabs,spaces and new line character in a file\n",
    "2. Write a Program that accepts file name as an input from the user. Open the file and count the number of times a given character appears in the file.\n",
    "3. Write a Program that reads the data from a file and calculate the percentage of vowels and consonants in the file.\n",
    "4. Write a program that copies first ten character into another file"
   ]
  },
  {
   "cell_type": "markdown",
   "id": "4ea72496",
   "metadata": {},
   "source": [
    "If mode is not mentioned then it is opened as read mode"
   ]
  },
  {
   "cell_type": "code",
   "execution_count": 59,
   "id": "54aad4c6",
   "metadata": {},
   "outputs": [],
   "source": [
    "#4. Write a program that copies first ten character into another file\n",
    "with open(\"first.txt\",\"r\")as f:\n",
    "    with open(\"second.txt\",\"w\") as f1:\n",
    "        a = f.read(50)\n",
    "        f1.write(a)"
   ]
  },
  {
   "cell_type": "markdown",
   "id": "04e85959",
   "metadata": {},
   "source": [
    "Write a program that counts the number of tabs,spaces and new line character in a file"
   ]
  },
  {
   "cell_type": "code",
   "execution_count": 9,
   "id": "93172a23",
   "metadata": {},
   "outputs": [
    {
     "name": "stdout",
     "output_type": "stream",
     "text": [
      "Enter File Name: second.txt\n",
      "Tab: 0\n",
      "Spaces: 6\n",
      "New Lines: 3\n"
     ]
    }
   ],
   "source": [
    "name = input(\"Enter File Name: \")\n",
    "with open(name,\"r\") as f1:\n",
    "    txt=f1.read()\n",
    "    tab_cnt = 0\n",
    "    space_cnt = 0\n",
    "    newline_cnt = 0\n",
    "    for char in txt:\n",
    "        if char =='\\t':\n",
    "            tab_cnt+=1\n",
    "        elif char == ' ':\n",
    "            space_cnt+=1\n",
    "        elif char =='\\n':\n",
    "            newline_cnt+=1\n",
    "        else:\n",
    "            pass\n",
    "print(\"Tab:\", tab_cnt)\n",
    "print(\"Spaces:\", space_cnt)\n",
    "print(\"New Lines:\", newline_cnt)"
   ]
  },
  {
   "cell_type": "markdown",
   "id": "3a607470",
   "metadata": {},
   "source": [
    "Write a Program that accepts file name as an input from the user. Open the file and count the number of times a given character appears in the file."
   ]
  },
  {
   "cell_type": "code",
   "execution_count": 70,
   "id": "88a69357",
   "metadata": {},
   "outputs": [
    {
     "name": "stdout",
     "output_type": "stream",
     "text": [
      "Enter File Name: first.txt\n",
      "Enter The character to search: a\n",
      "The letter a appears 11 times in the file\n"
     ]
    }
   ],
   "source": [
    "name = input(\"Enter File Name: \")\n",
    "with open(name,\"r\") as f1:\n",
    "    txt=f1.read()\n",
    "    char_read = 0\n",
    "    ltr = input('Enter The character to search: ')\n",
    "    for char in txt:\n",
    "        char = char.lower()\n",
    "        if char == ltr:\n",
    "            char_read+=1\n",
    "print('The letter',ltr,\"appears\",char_read,\"times in the file\")"
   ]
  },
  {
   "cell_type": "markdown",
   "id": "168173bf",
   "metadata": {},
   "source": [
    "3. Write a Program that reads the data from a file and calculate the percentage of vowels and consonants in the file."
   ]
  },
  {
   "cell_type": "code",
   "execution_count": 6,
   "id": "5b2118a5",
   "metadata": {},
   "outputs": [
    {
     "name": "stdout",
     "output_type": "stream",
     "text": [
      "Enter File Name: second.txt\n",
      "Length of text is: 50\n",
      "Vowels: 16\n",
      "Consonants: 34\n",
      "Vowels Percentage: 32\n",
      "Consonants Percentage: 68\n"
     ]
    }
   ],
   "source": [
    "name = input(\"Enter File Name: \")\n",
    "with open(name,\"r\") as f1:\n",
    "    txt=f1.read()\n",
    "    vow_read = 0\n",
    "    cons_read = 0\n",
    "    for char in txt:\n",
    "        if char in \"aeiouAEIOU\":\n",
    "            vow_read+=1\n",
    "        else:\n",
    "            cons_read += 1\n",
    "print(\"Length of text is:\",len(txt))\n",
    "print(\"Vowels:\",vow_read)\n",
    "print(\"Consonants:\",cons_read)\n",
    "perc_vow = (vow_read*100)//len(txt)\n",
    "perc_cons = 100 - perc_vow\n",
    "print(\"Vowels Percentage:\",perc_vow)\n",
    "print(\"Consonants Percentage:\",perc_cons)\n"
   ]
  },
  {
   "cell_type": "code",
   "execution_count": 15,
   "id": "de05151c",
   "metadata": {},
   "outputs": [],
   "source": [
    "with open(\"doubt.txt\",\"w\") as d:\n",
    "    d.write(\"Test\\n\\t\")"
   ]
  },
  {
   "cell_type": "code",
   "execution_count": 3,
   "id": "6fd3ed57",
   "metadata": {},
   "outputs": [
    {
     "name": "stdout",
     "output_type": "stream",
     "text": [
      "Length of text is: 6\n",
      "Vowels: 1\n",
      "Consonants: 5\n"
     ]
    }
   ],
   "source": [
    "with open(\"doubt.txt\",\"r\") as r:\n",
    "    txt = r.read()\n",
    "    vow_read = 0\n",
    "    cons_read = 0\n",
    "    for char in txt:\n",
    "        if char in \"aeiouAEIOU\":\n",
    "            vow_read+=1\n",
    "        else:\n",
    "            cons_read += 1\n",
    "print(\"Length of text is:\",len(txt))\n",
    "print(\"Vowels:\",vow_read)\n",
    "print(\"Consonants:\",cons_read)\n",
    "# print(temp)"
   ]
  },
  {
   "cell_type": "code",
   "execution_count": 4,
   "id": "08d9e5fa",
   "metadata": {},
   "outputs": [
    {
     "ename": "UnsupportedOperation",
     "evalue": "not readable",
     "output_type": "error",
     "traceback": [
      "\u001b[1;31m---------------------------------------------------------------------------\u001b[0m",
      "\u001b[1;31mUnsupportedOperation\u001b[0m                      Traceback (most recent call last)",
      "Input \u001b[1;32mIn [4]\u001b[0m, in \u001b[0;36m<cell line: 1>\u001b[1;34m()\u001b[0m\n\u001b[0;32m      1\u001b[0m \u001b[38;5;28;01mwith\u001b[39;00m \u001b[38;5;28mopen\u001b[39m(\u001b[38;5;124m\"\u001b[39m\u001b[38;5;124mpavan.txt\u001b[39m\u001b[38;5;124m\"\u001b[39m,\u001b[38;5;124m\"\u001b[39m\u001b[38;5;124mw\u001b[39m\u001b[38;5;124m\"\u001b[39m) \u001b[38;5;28;01mas\u001b[39;00m r:\n\u001b[1;32m----> 2\u001b[0m     temp \u001b[38;5;241m=\u001b[39m \u001b[43mr\u001b[49m\u001b[38;5;241;43m.\u001b[39;49m\u001b[43mread\u001b[49m\u001b[43m(\u001b[49m\u001b[43m)\u001b[49m\n\u001b[0;32m      3\u001b[0m     \u001b[38;5;28mprint\u001b[39m(temp)\n",
      "\u001b[1;31mUnsupportedOperation\u001b[0m: not readable"
     ]
    }
   ],
   "source": [
    "with open(\"pavan.txt\",\"w\") as r:\n",
    "    temp = r.read()\n",
    "    print(temp)"
   ]
  },
  {
   "cell_type": "code",
   "execution_count": 2,
   "id": "9537cdb2",
   "metadata": {},
   "outputs": [],
   "source": [
    "with open (\"pavan.txt\",\"w\")as f:\n",
    "    f.write(\"Hello\\nTesting To Write a file\\nThank You\\n\")\n",
    "f.close()"
   ]
  },
  {
   "cell_type": "code",
   "execution_count": 5,
   "id": "84e32152",
   "metadata": {},
   "outputs": [
    {
     "data": {
      "text/plain": [
       "{int: [1, 2, 5],\n",
       " float: [5.6, 78.45789654123458],\n",
       " str: ['hey', 'find my type'],\n",
       " list: [['hello world', 'this is a list']],\n",
       " tuple: [('Tuple!!', 'Tuple!!')],\n",
       " complex: [(5+6j)]}"
      ]
     },
     "execution_count": 5,
     "metadata": {},
     "output_type": "execute_result"
    }
   ],
   "source": [
    "def func_name(*arg):\n",
    "    dic = {}\n",
    "    for i in arg:\n",
    "        if type(i) in dic:\n",
    "            dic[type(i)].append(i)\n",
    "        else:\n",
    "            dic[type(i)] = [i]\n",
    "    return dic\n",
    "func_name(1,2,5,5.6,78.457896541234569,'hey','find my type',['hello world','this is a list'],(\"Tuple!!\",\"Tuple!!\"),5+6j)\n",
    "        \n",
    "        "
   ]
  },
  {
   "cell_type": "code",
   "execution_count": 22,
   "id": "d5a8d738",
   "metadata": {},
   "outputs": [
    {
     "data": {
      "text/plain": [
       "46"
      ]
     },
     "execution_count": 22,
     "metadata": {},
     "output_type": "execute_result"
    }
   ],
   "source": [
    "f = open(\"Text.txt\",\"w\")\n",
    "f.write(\"Hello\\tworld    \\tex how are  \\t   you     doin\\n?\")"
   ]
  },
  {
   "cell_type": "code",
   "execution_count": 23,
   "id": "e0e6e4c9",
   "metadata": {},
   "outputs": [
    {
     "name": "stdout",
     "output_type": "stream",
     "text": [
      "Hello\tworld    \tex how are  \t   you     doin\n",
      "?\n"
     ]
    }
   ],
   "source": [
    "f = open(\"Text.txt\")\n",
    "a = f.read()\n",
    "print(a)"
   ]
  },
  {
   "cell_type": "code",
   "execution_count": 24,
   "id": "0c063a7b",
   "metadata": {},
   "outputs": [
    {
     "name": "stdout",
     "output_type": "stream",
     "text": [
      "Char\n",
      "Char\n",
      "Char\n",
      "Char\n",
      "Char\n",
      "Tab Space\n",
      "Char\n",
      "Char\n",
      "Char\n",
      "Char\n",
      "Char\n",
      "Space\n",
      "Space\n",
      "Space\n",
      "Space\n",
      "Tab Space\n",
      "Char\n",
      "Char\n",
      "Space\n",
      "Char\n",
      "Char\n",
      "Char\n",
      "Space\n",
      "Char\n",
      "Char\n",
      "Char\n",
      "Space\n",
      "Space\n",
      "Tab Space\n",
      "Space\n",
      "Space\n",
      "Space\n",
      "Char\n",
      "Char\n",
      "Char\n",
      "Space\n",
      "Space\n",
      "Space\n",
      "Space\n",
      "Space\n",
      "Char\n",
      "Char\n",
      "Char\n",
      "Char\n",
      "Newline\n",
      "Char\n"
     ]
    }
   ],
   "source": [
    "for i in a:\n",
    "    if i == \"\\n\":\n",
    "        print(\"Newline\")\n",
    "    elif i == \" \":\n",
    "        print(\"Space\")\n",
    "    elif i == \"\\t\":\n",
    "        print(\"Tab Space\")\n",
    "    else:\n",
    "        print(\"Char\")"
   ]
  },
  {
   "cell_type": "code",
   "execution_count": null,
   "id": "e5bb57a0",
   "metadata": {},
   "outputs": [],
   "source": [
    "\n"
   ]
  }
 ],
 "metadata": {
  "kernelspec": {
   "display_name": "Python 3 (ipykernel)",
   "language": "python",
   "name": "python3"
  },
  "language_info": {
   "codemirror_mode": {
    "name": "ipython",
    "version": 3
   },
   "file_extension": ".py",
   "mimetype": "text/x-python",
   "name": "python",
   "nbconvert_exporter": "python",
   "pygments_lexer": "ipython3",
   "version": "3.9.12"
  }
 },
 "nbformat": 4,
 "nbformat_minor": 5
}
