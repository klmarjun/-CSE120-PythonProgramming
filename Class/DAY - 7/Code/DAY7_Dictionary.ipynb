{
 "cells": [
  {
   "cell_type": "raw",
   "id": "45b3eb37",
   "metadata": {},
   "source": [
    "Dictionary - key and value are seperated by colon\n",
    "each element is seperated by comma\n",
    "dictionary is mutable\n",
    "{Key:Value,Key1:Value}"
   ]
  },
  {
   "cell_type": "code",
   "execution_count": 28,
   "id": "72883801",
   "metadata": {},
   "outputs": [],
   "source": [
    "dictionary = {\"name\":\"Mike\",\"phone number\":\"958746213\",\"Dept\":\"Btech\"}"
   ]
  },
  {
   "cell_type": "code",
   "execution_count": 29,
   "id": "a630d2aa",
   "metadata": {},
   "outputs": [
    {
     "data": {
      "text/plain": [
       "dict"
      ]
     },
     "execution_count": 29,
     "metadata": {},
     "output_type": "execute_result"
    }
   ],
   "source": [
    "type(dictionary)"
   ]
  },
  {
   "cell_type": "code",
   "execution_count": 30,
   "id": "48cd0df3",
   "metadata": {},
   "outputs": [
    {
     "data": {
      "text/plain": [
       "'Btech'"
      ]
     },
     "execution_count": 30,
     "metadata": {},
     "output_type": "execute_result"
    }
   ],
   "source": [
    "dictionary[\"Dept\"]"
   ]
  },
  {
   "cell_type": "code",
   "execution_count": 31,
   "id": "773e60cb",
   "metadata": {},
   "outputs": [
    {
     "name": "stdout",
     "output_type": "stream",
     "text": [
      "name Mike\n",
      "phone number 958746213\n",
      "Dept Btech\n"
     ]
    }
   ],
   "source": [
    "for i in dictionary:\n",
    "    print(i,dictionary[i])"
   ]
  },
  {
   "cell_type": "code",
   "execution_count": 56,
   "id": "79ba8a1a",
   "metadata": {},
   "outputs": [
    {
     "name": "stdout",
     "output_type": "stream",
     "text": [
      "{'name': 'Mike', 'phone number': '958746213', 'Dept': 'Btech'}\n"
     ]
    },
    {
     "data": {
      "text/html": [
       "<div>\n",
       "<style scoped>\n",
       "    .dataframe tbody tr th:only-of-type {\n",
       "        vertical-align: middle;\n",
       "    }\n",
       "\n",
       "    .dataframe tbody tr th {\n",
       "        vertical-align: top;\n",
       "    }\n",
       "\n",
       "    .dataframe thead th {\n",
       "        text-align: right;\n",
       "    }\n",
       "</style>\n",
       "<table border=\"1\" class=\"dataframe\">\n",
       "  <thead>\n",
       "    <tr style=\"text-align: right;\">\n",
       "      <th></th>\n",
       "      <th>name</th>\n",
       "      <th>phone number</th>\n",
       "      <th>Dept</th>\n",
       "    </tr>\n",
       "  </thead>\n",
       "  <tbody>\n",
       "    <tr>\n",
       "      <th>0</th>\n",
       "      <td>Mike</td>\n",
       "      <td>958746213</td>\n",
       "      <td>Btech</td>\n",
       "    </tr>\n",
       "    <tr>\n",
       "      <th>1</th>\n",
       "      <td>Mike</td>\n",
       "      <td>958746213</td>\n",
       "      <td>Btech</td>\n",
       "    </tr>\n",
       "    <tr>\n",
       "      <th>2</th>\n",
       "      <td>Mike</td>\n",
       "      <td>958746213</td>\n",
       "      <td>Btech</td>\n",
       "    </tr>\n",
       "    <tr>\n",
       "      <th>3</th>\n",
       "      <td>Mike</td>\n",
       "      <td>958746213</td>\n",
       "      <td>Btech</td>\n",
       "    </tr>\n",
       "  </tbody>\n",
       "</table>\n",
       "</div>"
      ],
      "text/plain": [
       "   name phone number   Dept\n",
       "0  Mike    958746213  Btech\n",
       "1  Mike    958746213  Btech\n",
       "2  Mike    958746213  Btech\n",
       "3  Mike    958746213  Btech"
      ]
     },
     "execution_count": 56,
     "metadata": {},
     "output_type": "execute_result"
    }
   ],
   "source": [
    "import pandas as pd\n",
    "print(dictionary)\n",
    "df = pd.DataFrame(dictionary,index=(0,1,2,3))\n",
    "df\n"
   ]
  },
  {
   "cell_type": "code",
   "execution_count": 36,
   "id": "d4b7d104",
   "metadata": {},
   "outputs": [
    {
     "data": {
      "text/plain": [
       "'name'"
      ]
     },
     "execution_count": 36,
     "metadata": {},
     "output_type": "execute_result"
    }
   ],
   "source": [
    "df.columns[0]"
   ]
  },
  {
   "cell_type": "code",
   "execution_count": 52,
   "id": "a8087c1a",
   "metadata": {},
   "outputs": [
    {
     "data": {
      "text/plain": [
       "['Mike', 'Mike', 'Mike']"
      ]
     },
     "execution_count": 52,
     "metadata": {},
     "output_type": "execute_result"
    }
   ],
   "source": [
    "name = list(df[df.columns[0]])\n",
    "name"
   ]
  },
  {
   "cell_type": "code",
   "execution_count": 55,
   "id": "1c5e6139",
   "metadata": {},
   "outputs": [],
   "source": [
    "l = []\n",
    "dct = {}\n",
    "\n",
    "for i in range(len(df.columns)):\n",
    "    \n",
    "    dct[df.columns[i]] = df.columns[l]\n",
    "    \n"
   ]
  },
  {
   "cell_type": "code",
   "execution_count": null,
   "id": "3157fe44",
   "metadata": {},
   "outputs": [],
   "source": []
  },
  {
   "cell_type": "code",
   "execution_count": null,
   "id": "7b384607",
   "metadata": {},
   "outputs": [],
   "source": []
  },
  {
   "cell_type": "code",
   "execution_count": null,
   "id": "805fd838",
   "metadata": {},
   "outputs": [],
   "source": []
  },
  {
   "cell_type": "code",
   "execution_count": 7,
   "id": "292dc760",
   "metadata": {},
   "outputs": [
    {
     "data": {
      "text/html": [
       "<div>\n",
       "<style scoped>\n",
       "    .dataframe tbody tr th:only-of-type {\n",
       "        vertical-align: middle;\n",
       "    }\n",
       "\n",
       "    .dataframe tbody tr th {\n",
       "        vertical-align: top;\n",
       "    }\n",
       "\n",
       "    .dataframe thead th {\n",
       "        text-align: right;\n",
       "    }\n",
       "</style>\n",
       "<table border=\"1\" class=\"dataframe\">\n",
       "  <thead>\n",
       "    <tr style=\"text-align: right;\">\n",
       "      <th></th>\n",
       "      <th>name</th>\n",
       "      <th>phone number</th>\n",
       "      <th>Dept</th>\n",
       "    </tr>\n",
       "  </thead>\n",
       "  <tbody>\n",
       "    <tr>\n",
       "      <th>1</th>\n",
       "      <td>Mike</td>\n",
       "      <td>958746213</td>\n",
       "      <td>Btech</td>\n",
       "    </tr>\n",
       "    <tr>\n",
       "      <th>3</th>\n",
       "      <td>Raj</td>\n",
       "      <td>56649898</td>\n",
       "      <td>CSE</td>\n",
       "    </tr>\n",
       "    <tr>\n",
       "      <th>5</th>\n",
       "      <td>Raj</td>\n",
       "      <td>484877787</td>\n",
       "      <td>IT</td>\n",
       "    </tr>\n",
       "  </tbody>\n",
       "</table>\n",
       "</div>"
      ],
      "text/plain": [
       "   name  phone number   Dept\n",
       "1  Mike     958746213  Btech\n",
       "3   Raj      56649898    CSE\n",
       "5   Raj     484877787     IT"
      ]
     },
     "execution_count": 7,
     "metadata": {},
     "output_type": "execute_result"
    }
   ],
   "source": [
    "import pandas as pd\n",
    "dictionary = {\"name\":[\"Mike\",\"Raj\",\"Raj\"],\"phone number\":[958746213,56649898,484877787],\"Dept\":[\"Btech\",\"CSE\",\"IT\"]}\n",
    "Dictionary1 = pd.DataFrame(dictionary,index=(1,3,5))\n",
    "Dictionary1"
   ]
  },
  {
   "cell_type": "code",
   "execution_count": 13,
   "id": "bc7d3581",
   "metadata": {},
   "outputs": [
    {
     "name": "stdout",
     "output_type": "stream",
     "text": [
      "{1: 2, 3: 6, 5: 10, 7: 14, 9: 18, 11: 22, 13: 26, 15: 30, 17: 34, 19: 38}\n"
     ]
    }
   ],
   "source": [
    "d=dict()\n",
    "for i in range(1,21,2):\n",
    "    d[i]=i*2\n",
    "print(d)  "
   ]
  },
  {
   "cell_type": "code",
   "execution_count": 8,
   "id": "2f9ffd5b",
   "metadata": {},
   "outputs": [
    {
     "name": "stdout",
     "output_type": "stream",
     "text": [
      "{1: 1, 3: 27, 5: 125, 7: 343, 9: 729, 11: 1331, 13: 2197, 15: 3375, 17: 4913, 19: 6859}\n"
     ]
    }
   ],
   "source": [
    "d=dict()\n",
    "for i in range(1,21,2):\n",
    "    d[i]=i*i*i\n",
    "print(d) "
   ]
  },
  {
   "cell_type": "code",
   "execution_count": 10,
   "id": "9f2d8e7a",
   "metadata": {},
   "outputs": [
    {
     "data": {
      "text/plain": [
       "{1: 2, 3: 6, 5: 10, 7: 14, 9: 18, 11: 22, 13: 26, 15: 30, 17: 34, 19: 38}"
      ]
     },
     "execution_count": 10,
     "metadata": {},
     "output_type": "execute_result"
    }
   ],
   "source": [
    "d = {i:2*i for i in range (1,21,2)}\n",
    "d"
   ]
  },
  {
   "cell_type": "raw",
   "id": "ea040a3b",
   "metadata": {},
   "source": [
    "write a proram that prompts the user to enter a message . now count and print the number of occurence of each character"
   ]
  },
  {
   "cell_type": "code",
   "execution_count": 16,
   "id": "c8305da2",
   "metadata": {},
   "outputs": [],
   "source": [
    "did = {\"fd\":{\"cs\":90,\"Math\": 100,\"Eng\":56},\n",
    "      \"sd\":{\"cs\":120,\"Math\": 10,\"Eng\":6}}"
   ]
  },
  {
   "cell_type": "code",
   "execution_count": 17,
   "id": "545b7baf",
   "metadata": {},
   "outputs": [
    {
     "name": "stdout",
     "output_type": "stream",
     "text": [
      "fd {'cs': 90, 'Math': 100, 'Eng': 56}\n",
      "sd {'cs': 120, 'Math': 10, 'Eng': 6}\n"
     ]
    }
   ],
   "source": [
    "for k,v in did.items():\n",
    "    print(k,v)"
   ]
  },
  {
   "cell_type": "code",
   "execution_count": 19,
   "id": "ded54b9e",
   "metadata": {},
   "outputs": [
    {
     "data": {
      "text/plain": [
       "{'cs': 90, 'Math': 100, 'Eng': 56}"
      ]
     },
     "execution_count": 19,
     "metadata": {},
     "output_type": "execute_result"
    }
   ],
   "source": [
    "did.get(\"fd\")"
   ]
  },
  {
   "cell_type": "code",
   "execution_count": 20,
   "id": "e97367a2",
   "metadata": {},
   "outputs": [
    {
     "data": {
      "text/plain": [
       "{'cs': 90, 'Math': 100, 'Eng': 56}"
      ]
     },
     "execution_count": 20,
     "metadata": {},
     "output_type": "execute_result"
    }
   ],
   "source": [
    "did[\"fd\"]"
   ]
  },
  {
   "cell_type": "markdown",
   "id": "5000cc9f",
   "metadata": {},
   "source": [
    "# write a proram that prompts the user to enter a message . now count and print the number of occurence of each character"
   ]
  },
  {
   "cell_type": "code",
   "execution_count": 25,
   "id": "6a44c413",
   "metadata": {},
   "outputs": [
    {
     "name": "stdout",
     "output_type": "stream",
     "text": [
      "Enter the messgae: \n",
      "Hello Arjun\n",
      "{'h': 1, 'e': 1, 'l': 2, 'o': 1, ' ': 1, 'a': 1, 'r': 1, 'j': 1, 'u': 1, 'n': 1}\n"
     ]
    }
   ],
   "source": [
    "msg = input(\"Enter the messgae: \\n\")\n",
    "msg = msg.lower()\n",
    "d = dict()\n",
    "for word in msg:\n",
    "    if word not in d:\n",
    "        d[word] = 1\n",
    "    else:\n",
    "        d[word] = d[word]+1\n",
    "print(d)"
   ]
  },
  {
   "cell_type": "raw",
   "id": "fdbec2d8",
   "metadata": {},
   "source": [
    "write a program to count the number of characters in the string and store them in a dictionary datastructure"
   ]
  },
  {
   "cell_type": "code",
   "execution_count": 30,
   "id": "cd92e70a",
   "metadata": {},
   "outputs": [
    {
     "name": "stdout",
     "output_type": "stream",
     "text": [
      "Enter a string: aRJUN\n"
     ]
    }
   ],
   "source": [
    "string = input(\"Enter a string: \")\n",
    "l = len(string)\n",
    "d = {string: len(string)}"
   ]
  },
  {
   "cell_type": "code",
   "execution_count": 32,
   "id": "bd53320e",
   "metadata": {},
   "outputs": [
    {
     "data": {
      "text/plain": [
       "{'aRJUN': 5}"
      ]
     },
     "execution_count": 32,
     "metadata": {},
     "output_type": "execute_result"
    }
   ],
   "source": [
    "d"
   ]
  },
  {
   "cell_type": "code",
   "execution_count": 36,
   "id": "d8b79522",
   "metadata": {},
   "outputs": [
    {
     "data": {
      "text/plain": [
       "64"
      ]
     },
     "execution_count": 36,
     "metadata": {},
     "output_type": "execute_result"
    }
   ],
   "source": [
    "ord(\"@\")"
   ]
  },
  {
   "cell_type": "markdown",
   "id": "5c75d7c6",
   "metadata": {},
   "source": [
    "Write a program that combines a list to a dictionary\n"
   ]
  },
  {
   "cell_type": "code",
   "execution_count": 14,
   "id": "0e97cbab",
   "metadata": {},
   "outputs": [],
   "source": [
    "a = [\"Mike\",\"Sars\"]\n",
    "r = [\"start\",\"stop\"]\n",
    "d = zip(r,a)\n",
    "res = dict(d)\n"
   ]
  },
  {
   "cell_type": "code",
   "execution_count": 15,
   "id": "1f174c53",
   "metadata": {},
   "outputs": [
    {
     "data": {
      "text/plain": [
       "{'start': 'Mike', 'stop': 'Sars'}"
      ]
     },
     "execution_count": 15,
     "metadata": {},
     "output_type": "execute_result"
    }
   ],
   "source": [
    "res"
   ]
  },
  {
   "cell_type": "code",
   "execution_count": 44,
   "id": "fde211ae",
   "metadata": {},
   "outputs": [
    {
     "data": {
      "text/plain": [
       "<zip at 0x1e1b3e61f40>"
      ]
     },
     "execution_count": 44,
     "metadata": {},
     "output_type": "execute_result"
    }
   ],
   "source": [
    "a = [\"Mike\",\"Sars\"]\n",
    "r = [\"start\",\"stop\"]\n",
    "d = zip(a,r)\n",
    "d"
   ]
  },
  {
   "cell_type": "markdown",
   "id": "78f1734d",
   "metadata": {},
   "source": [
    "Write a program to make a quiz. Use zip function to extract the question into and answer into two seperate list"
   ]
  },
  {
   "cell_type": "code",
   "execution_count": null,
   "id": "73e63e6f",
   "metadata": {},
   "outputs": [],
   "source": [
    "name = input(\"Enter Your Name: \")\n",
    "unique_id = int(input(\"Enter Unique ID: \"))\n",
    "dep = input(\"Enter your Department: \")\n",
    "while True:\n",
    "    QUESTIONS = [\n",
    "        (\"1. What is a correct syntax to output 'Hello World' in Python?\", 'print(\"Hello World\")'),\n",
    "        (\"2. How do you insert COMMENTS in Python code?\", \"#\"),\n",
    "        (\"3. Which keyword is used to loop over a given list of elements\", \"for\" ),\n",
    "        (\"4. Which method can be used to return a string in upper case letters?\", \"upper()\"),\n",
    "        (\"5. Which operator can be used to compare two values?\", \"==\"),\n",
    "        (\"6. Which Bracket is used for creating a list?\", \"[]\"),\n",
    "        (\"7. Which collection is ordered, changeable, and allows duplicate members?\", \"list\"),\n",
    "        (\"8. Which statement is used to stop a loop?\",\"break\"),\n",
    "        (\"9. How to count the length of the string entered?\", \"len()\"),\n",
    "        (\"10. How to find the Datatype in Python?\", \"type()\"),\n",
    "    ]\n",
    "    count = 0\n",
    "    for question, correct_answer in QUESTIONS:\n",
    "        answer = input(f\"{question}? \")\n",
    "        if answer == correct_answer:\n",
    "            count +=  1\n",
    "    if count > 6:\n",
    "        print(\"Yayy !! That's a good score with\",(count/len(QUESTIONS))*100,\"%\")\n",
    "    else:\n",
    "        print(\"Its okay! Try Again .You can score better than\",(count/len(QUESTIONS))*100,\"%\")\n",
    "    flag = input(\"Do you want to attend the test again. Enter yes to continue and exit to end the program\\n\")\n",
    "    if flag == \"exit\":\n",
    "        break\n",
    "    elif flag == \"yes\":\n",
    "        pass\n",
    "    else:\n",
    "        print(\"Sorry, Enter an valid input\")\n",
    "    \n"
   ]
  },
  {
   "cell_type": "code",
   "execution_count": 73,
   "id": "77f4664b",
   "metadata": {},
   "outputs": [
    {
     "name": "stdout",
     "output_type": "stream",
     "text": [
      "Enter the messgae: \n",
      "Hello world\n",
      "{'e': 1, 'o': 2}\n"
     ]
    }
   ],
   "source": [
    "msg = input(\"Enter the messgae: \\n\")\n",
    "msg = msg.lower()\n",
    "d = dict()\n",
    "for word in msg:\n",
    "    \n",
    "    if word in [\"a\",\"e\",\"i\",\"o\",\"u\"]:\n",
    "        if word not in d:\n",
    "            d[word] = 1\n",
    "        else:\n",
    "            d[word] = d[word]+1\n",
    "print(d)"
   ]
  },
  {
   "cell_type": "code",
   "execution_count": null,
   "id": "eb4f9d26",
   "metadata": {},
   "outputs": [],
   "source": []
  }
 ],
 "metadata": {
  "kernelspec": {
   "display_name": "Python 3 (ipykernel)",
   "language": "python",
   "name": "python3"
  },
  "language_info": {
   "codemirror_mode": {
    "name": "ipython",
    "version": 3
   },
   "file_extension": ".py",
   "mimetype": "text/x-python",
   "name": "python",
   "nbconvert_exporter": "python",
   "pygments_lexer": "ipython3",
   "version": "3.9.12"
  }
 },
 "nbformat": 4,
 "nbformat_minor": 5
}
