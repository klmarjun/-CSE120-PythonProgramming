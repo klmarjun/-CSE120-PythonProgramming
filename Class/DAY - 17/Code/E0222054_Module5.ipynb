{
 "cells": [
  {
   "cell_type": "markdown",
   "id": "c6158149",
   "metadata": {},
   "source": [
    "Super keyword is used to call the parent class in method overriding especially\n",
    "usually called in child class bcoz of the function name of parent class is override by child class.\n",
    "The super() function is used to give access to methods and properties of a parent or sibling class."
   ]
  },
  {
   "cell_type": "code",
   "execution_count": 3,
   "id": "7287a6cc",
   "metadata": {},
   "outputs": [
    {
     "name": "stdout",
     "output_type": "stream",
     "text": [
      "Parent Class\n",
      "Child Class\n"
     ]
    }
   ],
   "source": [
    "class sample:\n",
    "    def show(self):\n",
    "        print(\"Parent Class\")\n",
    "class simple(sample):\n",
    "    def show(self):\n",
    "        super().show()\n",
    "        print(\"Child Class\")\n",
    "s = simple()\n",
    "s.show()\n"
   ]
  },
  {
   "cell_type": "code",
   "execution_count": 6,
   "id": "b6b684c6",
   "metadata": {},
   "outputs": [
    {
     "name": "stdout",
     "output_type": "stream",
     "text": [
      "1\n",
      "2\n",
      "3\n",
      "outside of the class\n"
     ]
    },
    {
     "ename": "AttributeError",
     "evalue": "'JustCounter' object has no attribute '__secretCount'",
     "output_type": "error",
     "traceback": [
      "\u001b[1;31m---------------------------------------------------------------------------\u001b[0m",
      "\u001b[1;31mAttributeError\u001b[0m                            Traceback (most recent call last)",
      "Input \u001b[1;32mIn [6]\u001b[0m, in \u001b[0;36m<cell line: 16>\u001b[1;34m()\u001b[0m\n\u001b[0;32m     14\u001b[0m c\u001b[38;5;241m.\u001b[39mcount()\n\u001b[0;32m     15\u001b[0m \u001b[38;5;28mprint\u001b[39m(\u001b[38;5;124m\"\u001b[39m\u001b[38;5;124moutside of the class\u001b[39m\u001b[38;5;124m\"\u001b[39m)\n\u001b[1;32m---> 16\u001b[0m \u001b[38;5;28mprint\u001b[39m(\u001b[43mc\u001b[49m\u001b[38;5;241;43m.\u001b[39;49m\u001b[43m__secretCount\u001b[49m)\n",
      "\u001b[1;31mAttributeError\u001b[0m: 'JustCounter' object has no attribute '__secretCount'"
     ]
    }
   ],
   "source": [
    "class JustCounter:\n",
    "    \n",
    "    __secretCount=0\n",
    "    \n",
    "    def count(self):\n",
    "        \n",
    "        self.__secretCount =self.__secretCount+1\n",
    "        \n",
    "        print(self.__secretCount)\n",
    "        \n",
    "c = JustCounter()\n",
    "c.count()\n",
    "c.count()\n",
    "c.count()\n",
    "print(\"outside of the class\")\n",
    "print(c.__secretCount)"
   ]
  },
  {
   "cell_type": "markdown",
   "id": "e2170914",
   "metadata": {},
   "source": [
    "# Module 5 - Regular Expression"
   ]
  },
  {
   "cell_type": "markdown",
   "id": "f7e7e7c0",
   "metadata": {},
   "source": [
    "Regular expression is a powerful tool for various kinds of string manipulation\n",
    "these are basically a special text that is used for describing a search pattern to extract the information from text such as paragraphs,file,spreadsheet,logs"
   ]
  },
  {
   "cell_type": "markdown",
   "id": "dca5bbf0",
   "metadata": {},
   "source": [
    "Regular Expression:Module\n",
    "    match()\n",
    "    search()\n",
    "    sub()\n",
    "    findAll()"
   ]
  },
  {
   "cell_type": "code",
   "execution_count": 2,
   "id": "3b804ec1",
   "metadata": {},
   "outputs": [],
   "source": [
    "import re"
   ]
  },
  {
   "cell_type": "code",
   "execution_count": 6,
   "id": "5701c458",
   "metadata": {},
   "outputs": [
    {
     "name": "stdout",
     "output_type": "stream",
     "text": [
      "<re.Match object; span=(0, 7), match='Welcome'>\n"
     ]
    }
   ],
   "source": [
    "txt = \"Welcome to SRET\"\n",
    "ptrn = \"Welcome\"\n",
    "# if re.match(ptrn,txt):\n",
    "#     print(\"Match found\")\n",
    "# else:\n",
    "#     print(\"Match not found\")\n",
    "a = re.match(ptrn,txt)\n",
    "print(a)"
   ]
  },
  {
   "cell_type": "markdown",
   "id": "f8c04a22",
   "metadata": {},
   "source": [
    "Match function will match only the first word in the given string"
   ]
  },
  {
   "cell_type": "code",
   "execution_count": 10,
   "id": "698c398f",
   "metadata": {},
   "outputs": [
    {
     "name": "stdout",
     "output_type": "stream",
     "text": [
      "Match not found\n"
     ]
    }
   ],
   "source": [
    "txt = \"Welcome to SRET\"\n",
    "ptrn = \"SRET\"\n",
    "if re.match(ptrn,txt):\n",
    "    print(\"Match found\")\n",
    "else:\n",
    "    print(\"Match not found\")"
   ]
  },
  {
   "cell_type": "code",
   "execution_count": 14,
   "id": "11a5ae2f",
   "metadata": {},
   "outputs": [
    {
     "name": "stdout",
     "output_type": "stream",
     "text": [
      "Match found\n"
     ]
    }
   ],
   "source": [
    "txt = \"Welcome to SRET\"\n",
    "ptrn = \"SRET\"\n",
    "if re.search(ptrn,txt):\n",
    "    print(\"Match found\")\n",
    "else:\n",
    "    print(\"Match not found\")"
   ]
  },
  {
   "cell_type": "code",
   "execution_count": 18,
   "id": "6418eb62",
   "metadata": {},
   "outputs": [
    {
     "name": "stdout",
     "output_type": "stream",
     "text": [
      " Hello Hello,Welcome to SRET\n"
     ]
    }
   ],
   "source": [
    "msg = \" Hi Hi,Welcome to SRET\"\n",
    "ptrn = \"Hello\"\n",
    "rpl = \"Hi\"\n",
    "newMsg = re.sub(rpl,ptrn,msg,2)#2 is for replace the no.of times \n",
    "print(newMsg)"
   ]
  },
  {
   "cell_type": "markdown",
   "id": "f14c1a2f",
   "metadata": {},
   "source": [
    "Format for sub()\n",
    "sub(\"which word u want to replace\",\"With which word u want to replace\",\"In which msg\",\"How many times\")\n",
    "re.sub(rpl,ptrn,msg,2)"
   ]
  },
  {
   "cell_type": "code",
   "execution_count": 19,
   "id": "0382da9d",
   "metadata": {},
   "outputs": [
    {
     "name": "stdout",
     "output_type": "stream",
     "text": [
      "Enter the Message:Hello User\n",
      "Which word you want to replace:Hello\n",
      "Give the new word for changing:Hi\n",
      "Hi User\n"
     ]
    }
   ],
   "source": [
    "msg = input(\"Enter the Message:\")\n",
    "rpl = input(\"Which word you want to replace:\")\n",
    "p = input(\"Give the new word for changing:\")\n",
    "newMsg = re.sub(rpl,p,msg,1)\n",
    "print(newMsg)"
   ]
  },
  {
   "cell_type": "code",
   "execution_count": 20,
   "id": "38dfd49c",
   "metadata": {},
   "outputs": [
    {
     "name": "stdout",
     "output_type": "stream",
     "text": [
      "Enter the Message:this is our 17 class\n",
      "Which word you want to replace:17\n",
      "Give the new word for changing:Seventeen\n",
      "this is our Seventeen class\n"
     ]
    }
   ],
   "source": [
    "msg = input(\"Enter the Message:\")\n",
    "rpl = input(\"Which word you want to replace:\")\n",
    "p = input(\"Give the new word for changing:\")\n",
    "newMsg = re.sub(rpl,p,msg,1)\n",
    "print(newMsg)"
   ]
  },
  {
   "cell_type": "code",
   "execution_count": 28,
   "id": "c7da695a",
   "metadata": {},
   "outputs": [
    {
     "name": "stdout",
     "output_type": "stream",
     "text": [
      " This is our Seventeen class\n"
     ]
    }
   ],
   "source": [
    "msg = \" This is our 17 class\"\n",
    "ptrn = \"Seventeen\"\n",
    "rpl = \"17\"\n",
    "newMsg = re.sub(rpl,ptrn,msg,1) \n",
    "print(newMsg)"
   ]
  },
  {
   "cell_type": "markdown",
   "id": "da6808c5",
   "metadata": {},
   "source": [
    "FindAll()\n",
    "Msg beginning with one or more char followed by space followed by one or more digits"
   ]
  },
  {
   "cell_type": "code",
   "execution_count": 39,
   "id": "1b1412a3",
   "metadata": {},
   "outputs": [],
   "source": [
    "p = r'[a-zA-Z]+ \\d+'"
   ]
  },
  {
   "cell_type": "code",
   "execution_count": 40,
   "id": "ccdbd308",
   "metadata": {},
   "outputs": [
    {
     "data": {
      "text/plain": [
       "['LXI 2015', 'VXI 2017']"
      ]
     },
     "execution_count": 40,
     "metadata": {},
     "output_type": "execute_result"
    }
   ],
   "source": [
    "msg = \"LXI 2015 VXI 2017 maruti cars in india\"\n",
    "re.findall(p,msg)"
   ]
  },
  {
   "cell_type": "markdown",
   "id": "437cadef",
   "metadata": {},
   "source": [
    "Metacharcter                      Description\n",
    "\\d+                               Matches the digits\n",
    "\\d{n}                             Matches exactly n digits\n",
    "^                                 Matches at the beginning of the line\n",
    "$                                 Matches at the end of the line\n",
    "[]                                Matches any character inside the brackets\n",
    "[^]                               Matches any single character not inside the bracket\n",
    "\\w                                Matches word character\n",
    "\\W                                Matches non-word characters\n",
    ".                                 Matches any single character except the new line character"
   ]
  },
  {
   "cell_type": "markdown",
   "id": "a7dadd6b",
   "metadata": {},
   "source": [
    "program to extract an email adress from a text"
   ]
  },
  {
   "cell_type": "code",
   "execution_count": 50,
   "id": "3624d2d4",
   "metadata": {},
   "outputs": [],
   "source": [
    "p = r'[\\w.-]+@[\\w.-]+'\n",
    "msg = \"Hello my personal mail id is klmarjun@gmail.com and my official maid id is e0222054@sret.edu.in,india@info-oxford.com\"\n",
    "mail = re.findall(p,msg)"
   ]
  },
  {
   "cell_type": "code",
   "execution_count": 51,
   "id": "c2d37a7f",
   "metadata": {},
   "outputs": [
    {
     "name": "stdout",
     "output_type": "stream",
     "text": [
      "Mail IDs:  ['klmarjun@gmail.com', 'e0222054@sret.edu.in', 'india@info-oxford.com']\n"
     ]
    }
   ],
   "source": [
    "print(\"Mail IDs: \",mail)"
   ]
  },
  {
   "cell_type": "code",
   "execution_count": 9,
   "id": "7546b1ba",
   "metadata": {},
   "outputs": [
    {
     "name": "stdout",
     "output_type": "stream",
     "text": [
      "Valid Number:  ['E022205.xx@gmail.com', 'dbbd@gmail.com']\n"
     ]
    }
   ],
   "source": [
    "p = r'[\\w.]+@[\\w.-]+'\n",
    "msg = \"Official mail id E022205.xx@gmail.com Private mail id dbbd@gmail.com\"\n",
    "a = re.findall(p,msg)\n",
    "print(\"Valid Number: \",a)"
   ]
  },
  {
   "cell_type": "code",
   "execution_count": 13,
   "id": "148980ef",
   "metadata": {},
   "outputs": [
    {
     "data": {
      "text/plain": [
       "['Py']"
      ]
     },
     "execution_count": 13,
     "metadata": {},
     "output_type": "execute_result"
    }
   ],
   "source": [
    "import re\n",
    "msg=\"Python\"\n",
    "p=r'\\b\\w\\w'\n",
    "re.findall(p,msg)\n"
   ]
  },
  {
   "cell_type": "code",
   "execution_count": 24,
   "id": "b369bd0b",
   "metadata": {},
   "outputs": [
    {
     "data": {
      "text/plain": [
       "<re.Match object; span=(6, 10), match='This'>"
      ]
     },
     "execution_count": 24,
     "metadata": {},
     "output_type": "execute_result"
    }
   ],
   "source": [
    "import re \n",
    "msg = \"Hello This is a test msg\"\n",
    "txt = \"This\"\n",
    "re.search(txt,msg)\n",
    "#     print(True)"
   ]
  },
  {
   "cell_type": "code",
   "execution_count": 26,
   "id": "e7e3f542",
   "metadata": {},
   "outputs": [
    {
     "data": {
      "text/plain": [
       "'Hello all'"
      ]
     },
     "execution_count": 26,
     "metadata": {},
     "output_type": "execute_result"
    }
   ],
   "source": [
    "import re\n",
    "msg = \"Hey all\"\n",
    "old_str = \"Hey\"\n",
    "new_str = \"Hello\"\n",
    "re.sub(old_str,new_str,msg,1)"
   ]
  },
  {
   "cell_type": "code",
   "execution_count": 31,
   "id": "2dec1ce0",
   "metadata": {},
   "outputs": [
    {
     "data": {
      "text/plain": [
       "'Py is the language which i am studying currently and my Py faculty is teaching well'"
      ]
     },
     "execution_count": 31,
     "metadata": {},
     "output_type": "execute_result"
    }
   ],
   "source": [
    "count = 0\n",
    "msg = \"Python is the language which i am studying currently and my Python faculty is teaching well\"\n",
    "# msg = msg.lower()\n",
    "# msg = msg.split(\" \")\n",
    "# for i in msg:\n",
    "#     if i == \"python\":\n",
    "#         count +=1\n",
    "# print(count)\n",
    "old_str = \"Python\"\n",
    "new_str = \"Py\"\n",
    "re.sub(old_str,new_str,msg,2)"
   ]
  },
  {
   "cell_type": "code",
   "execution_count": 33,
   "id": "f8e49478",
   "metadata": {},
   "outputs": [
    {
     "data": {
      "text/plain": [
       "['clue']"
      ]
     },
     "execution_count": 33,
     "metadata": {},
     "output_type": "execute_result"
    }
   ],
   "source": [
    "msg = \"Hey this is a clue\"\n",
    "ptrn = r'\\bc\\S+e\\b'\n",
    "re.findall(ptrn,msg)"
   ]
  },
  {
   "cell_type": "code",
   "execution_count": 34,
   "id": "a812dc92",
   "metadata": {},
   "outputs": [
    {
     "data": {
      "text/plain": [
       "['7010013336']"
      ]
     },
     "execution_count": 34,
     "metadata": {},
     "output_type": "execute_result"
    }
   ],
   "source": [
    "msg = \"9710448000 9487773428 7010013336 9080561443\"\n",
    "ptrn = r'[7]\\d{9}'\n",
    "re.findall(ptrn,msg)"
   ]
  },
  {
   "cell_type": "code",
   "execution_count": 39,
   "id": "fe7b138a",
   "metadata": {},
   "outputs": [
    {
     "data": {
      "text/plain": [
       "['12-24-2056', '20/56/2027']"
      ]
     },
     "execution_count": 39,
     "metadata": {},
     "output_type": "execute_result"
    }
   ],
   "source": [
    "msg = \"today date 12-24-2056 and tomorrow is 20/56/2027\"\n",
    "ptrn = r'\\d{2}[-|/]\\d{2}[-|/]\\d{4}'\n",
    "re.findall(ptrn,msg)"
   ]
  },
  {
   "cell_type": "code",
   "execution_count": 40,
   "id": "4be7ce12",
   "metadata": {},
   "outputs": [
    {
     "data": {
      "text/plain": [
       "['Py', 'Su']"
      ]
     },
     "execution_count": 40,
     "metadata": {},
     "output_type": "execute_result"
    }
   ],
   "source": [
    "msg = \"Python Subject\"\n",
    "ptrn = r'\\b\\w\\w'\n",
    "re.findall(ptrn,msg)"
   ]
  },
  {
   "cell_type": "code",
   "execution_count": null,
   "id": "3bd8aa69",
   "metadata": {},
   "outputs": [],
   "source": []
  }
 ],
 "metadata": {
  "kernelspec": {
   "display_name": "Python 3 (ipykernel)",
   "language": "python",
   "name": "python3"
  },
  "language_info": {
   "codemirror_mode": {
    "name": "ipython",
    "version": 3
   },
   "file_extension": ".py",
   "mimetype": "text/x-python",
   "name": "python",
   "nbconvert_exporter": "python",
   "pygments_lexer": "ipython3",
   "version": "3.9.12"
  }
 },
 "nbformat": 4,
 "nbformat_minor": 5
}
