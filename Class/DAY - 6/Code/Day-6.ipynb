{
 "cells": [
  {
   "cell_type": "code",
   "execution_count": 5,
   "id": "4727c31a",
   "metadata": {},
   "outputs": [
    {
     "name": "stdout",
     "output_type": "stream",
     "text": [
      "Enter the starting number: 0\n",
      "Enter the ending number: 10\n",
      "1 3 5 7 9 "
     ]
    }
   ],
   "source": [
    "start = int(input(\"Enter the starting number: \"))\n",
    "end = int(input(\"Enter the ending number: \"))\n",
    " \n",
    "for num in range(start, end + 1):\n",
    "    if num % 2 == 1:\n",
    "        print(num, end = \" \")"
   ]
  },
  {
   "cell_type": "code",
   "execution_count": 9,
   "id": "61b515b1",
   "metadata": {
    "scrolled": true
   },
   "outputs": [
    {
     "name": "stdout",
     "output_type": "stream",
     "text": [
      "0 1\n",
      "1 2\n",
      "2 4\n",
      "[1, 32, 48]\n"
     ]
    }
   ],
   "source": [
    "num = [1,2,32,4,48]\n",
    "for index,value in enumerate(num):\n",
    "    #print(index,value)\n",
    "    if(value%2 == 0):\n",
    "        num.remove(value)    \n",
    "#del num[index]\n",
    "#     print(num)\n",
    "print(num)"
   ]
  },
  {
   "cell_type": "code",
   "execution_count": 50,
   "id": "ee3e9fc7",
   "metadata": {},
   "outputs": [
    {
     "name": "stdout",
     "output_type": "stream",
     "text": [
      "Index 0 value 1\n",
      "Index 1 value 2\n",
      "Index 2 value 32\n",
      "Index 3 value 4\n",
      "Index 4 value 49\n",
      "[1, 49]\n"
     ]
    }
   ],
   "source": [
    "num = [1,2,32,4,49]\n",
    "for index,value in enumerate(num):\n",
    "    print(index,value)\n",
    "    if(value%2 == 0):\n",
    "        num[index] = -1\n",
    "while -1 in num:\n",
    "    num.remove(-1)\n",
    "print(num)"
   ]
  },
  {
   "cell_type": "raw",
   "id": "8f8dfcb1",
   "metadata": {},
   "source": [
    "Write a program that forms a list of first character of every word in the another list"
   ]
  },
  {
   "cell_type": "code",
   "execution_count": 16,
   "id": "3c3bb749",
   "metadata": {},
   "outputs": [
    {
     "name": "stdout",
     "output_type": "stream",
     "text": [
      "['a', 'b', 'c']\n"
     ]
    }
   ],
   "source": [
    "L1 = ['Arjun','bbb','ccc']\n",
    "L2 = []\n",
    "for string in L1:\n",
    "    L2.append(string[0])\n",
    "print(L2)"
   ]
  },
  {
   "cell_type": "code",
   "execution_count": 13,
   "id": "5b7de19a",
   "metadata": {},
   "outputs": [
    {
     "data": {
      "text/plain": [
       "['a', 'b', 'c']"
      ]
     },
     "execution_count": 13,
     "metadata": {},
     "output_type": "execute_result"
    }
   ],
   "source": [
    "L2"
   ]
  },
  {
   "cell_type": "markdown",
   "id": "19855514",
   "metadata": {},
   "source": [
    "### Matrix Addition"
   ]
  },
  {
   "cell_type": "code",
   "execution_count": 11,
   "id": "bc9586e1",
   "metadata": {},
   "outputs": [
    {
     "name": "stdout",
     "output_type": "stream",
     "text": [
      "3\n",
      "[4, 5, 6]\n"
     ]
    }
   ],
   "source": [
    "#matrix addition\n",
    "#nested list(list inside another list)\n",
    "mat = [[1,2,3],[4,5,6]]\n",
    "print(mat[0][2])\n",
    "print(mat[1][0:])"
   ]
  },
  {
   "cell_type": "code",
   "execution_count": 12,
   "id": "387be8a8",
   "metadata": {},
   "outputs": [
    {
     "data": {
      "text/plain": [
       "3"
      ]
     },
     "execution_count": 12,
     "metadata": {},
     "output_type": "execute_result"
    }
   ],
   "source": [
    "mat1 = [[1,2,3],[4,5,6],[7,8,9]]\n",
    "mat2 = [[3,2,1],[6,5,4],[9,8,7]]\n",
    "res = [[0,0,0],[0,0,0],[0,0,0]]\n",
    "len(mat1[0])"
   ]
  },
  {
   "cell_type": "code",
   "execution_count": 16,
   "id": "3a5ea6ea",
   "metadata": {},
   "outputs": [
    {
     "name": "stdout",
     "output_type": "stream",
     "text": [
      "[4, 4, 4][10, 10, 10][16, 16, 16]"
     ]
    }
   ],
   "source": [
    "for i in range (len(mat1)):\n",
    "    for j in range(len(mat1[0])):\n",
    "        res[i][j] = mat1[i][j] + mat2[i][j]\n",
    "for mat in res:\n",
    "    print(mat,end = \"\")"
   ]
  },
  {
   "cell_type": "markdown",
   "id": "b4a9e145",
   "metadata": {},
   "source": [
    "### List inside Tuple"
   ]
  },
  {
   "cell_type": "code",
   "execution_count": 53,
   "id": "79af89e7",
   "metadata": {},
   "outputs": [
    {
     "name": "stdout",
     "output_type": "stream",
     "text": [
      "The name of the topper is: Mike\n",
      "His mark is  [45, 23, 56, 45]\n"
     ]
    }
   ],
   "source": [
    "Topper = (\"Mike\",[45,23,56,45])\n",
    "print(\"The name of the topper is:\",Topper[0])\n",
    "print(\"His mark is \",Topper[1])"
   ]
  },
  {
   "cell_type": "code",
   "execution_count": 54,
   "id": "9500634f",
   "metadata": {},
   "outputs": [
    {
     "name": "stdout",
     "output_type": "stream",
     "text": [
      "56\n"
     ]
    }
   ],
   "source": [
    "#can change the value of the list elements inside a tuple\n",
    "print(max(Topper[1]))"
   ]
  },
  {
   "cell_type": "code",
   "execution_count": 57,
   "id": "7fb29523",
   "metadata": {},
   "outputs": [
    {
     "name": "stdout",
     "output_type": "stream",
     "text": [
      "E0222054\n"
     ]
    }
   ],
   "source": [
    "email_id = \"E0222054sret.edu.in\"\n",
    "print(email_id[:-11])"
   ]
  },
  {
   "cell_type": "markdown",
   "id": "bad0e795",
   "metadata": {},
   "source": [
    "Write a program that has two sequences. First which stores and second\n",
    "stores corresponding answer use the zip function to form a valid question\n",
    "and answers series."
   ]
  },
  {
   "cell_type": "code",
   "execution_count": 59,
   "id": "e8a832e0",
   "metadata": {},
   "outputs": [
    {
     "name": "stdout",
     "output_type": "stream",
     "text": [
      "What is your name\n",
      "My name is Mike\n",
      "What is your age\n",
      "My age is 20\n",
      "What is your id\n",
      "My id is 45687\n"
     ]
    }
   ],
   "source": [
    "que = [\"name\",\"age\",\"id\"]\n",
    "ans = [\"Mike\",20,45687]\n",
    "for q,a in zip(que,ans):\n",
    "    print(\"What is your\",q,\"?\")\n",
    "    print(\"My\",q, \"is\",a)"
   ]
  },
  {
   "cell_type": "code",
   "execution_count": 60,
   "id": "209a438d",
   "metadata": {},
   "outputs": [
    {
     "name": "stdout",
     "output_type": "stream",
     "text": [
      "name Mike\n",
      "age 20\n",
      "id 45687\n"
     ]
    }
   ],
   "source": [
    "que = [\"name\",\"age\",\"id\"]\n",
    "ans = [\"Mike\",20,45687]\n",
    "for q,a in zip(que,ans):\n",
    "    print(q,a)"
   ]
  },
  {
   "cell_type": "code",
   "execution_count": 18,
   "id": "02093475",
   "metadata": {},
   "outputs": [
    {
     "ename": "TypeError",
     "evalue": "'str' object does not support item assignment",
     "output_type": "error",
     "traceback": [
      "\u001b[1;31m---------------------------------------------------------------------------\u001b[0m",
      "\u001b[1;31mTypeError\u001b[0m                                 Traceback (most recent call last)",
      "Input \u001b[1;32mIn [18]\u001b[0m, in \u001b[0;36m<cell line: 3>\u001b[1;34m()\u001b[0m\n\u001b[0;32m      1\u001b[0m \u001b[38;5;66;03m#String is immutbale\u001b[39;00m\n\u001b[0;32m      2\u001b[0m string \u001b[38;5;241m=\u001b[39m \u001b[38;5;124m\"\u001b[39m\u001b[38;5;124mMike\u001b[39m\u001b[38;5;124m\"\u001b[39m\n\u001b[1;32m----> 3\u001b[0m string[\u001b[38;5;241m0\u001b[39m]\u001b[38;5;241m=\u001b[39m \u001b[38;5;241m5\u001b[39m\n",
      "\u001b[1;31mTypeError\u001b[0m: 'str' object does not support item assignment"
     ]
    }
   ],
   "source": [
    "#String is immutbale\n",
    "string = \"Mike\"\n",
    "string[0]= 5\n"
   ]
  },
  {
   "cell_type": "code",
   "execution_count": 64,
   "id": "c5c49725",
   "metadata": {},
   "outputs": [
    {
     "name": "stdout",
     "output_type": "stream",
     "text": [
      "Enter any word:Mam\n",
      "Its a palindrome\n"
     ]
    }
   ],
   "source": [
    "string = input(\"Enter any word:\")\n",
    "string = string.lower()\n",
    "string1 = string[::-1]\n",
    "if (string==string1):\n",
    "    print(\"Its a palindrome\")\n",
    "else:\n",
    "    print(\"Its not an palindrome\")"
   ]
  },
  {
   "cell_type": "markdown",
   "id": "d23085d4",
   "metadata": {},
   "source": [
    "Write a program that accepts differentr number of arguments and return sum of only the positive values\n",
    "Write a program that vombines the two list\n",
    "Write a program to cube every elements in the tuple\n",
    "Write a program that has list of numbers (Both positive and negative). Make a new tuple that has only positive values for the tuple."
   ]
  },
  {
   "cell_type": "markdown",
   "id": "72b83610",
   "metadata": {},
   "source": [
    "print the character which presents more than 3 times in a given string"
   ]
  },
  {
   "cell_type": "code",
   "execution_count": 22,
   "id": "c6b60bd2",
   "metadata": {},
   "outputs": [
    {
     "name": "stdout",
     "output_type": "stream",
     "text": [
      "g\n",
      "y\n"
     ]
    }
   ],
   "source": [
    "char = \"gyyyyfugsgdagu\"\n",
    "for i in set(char):\n",
    "    #print(i)\n",
    "    if char.count(i) > 3:\n",
    "        print(i)"
   ]
  },
  {
   "cell_type": "code",
   "execution_count": 34,
   "id": "5d671a26",
   "metadata": {},
   "outputs": [
    {
     "name": "stdout",
     "output_type": "stream",
     "text": [
      "Enter the no.of elements: 4\n",
      "Enter some value: 7\n",
      "Enter some value: 8\n",
      "Enter some value: 1\n",
      "Enter some value: 2\n",
      "0\n"
     ]
    }
   ],
   "source": [
    "sum_val=0\n",
    "inp = int(input(\"Enter the no.of elements: \"))\n",
    "for i in range(1,inp+1):\n",
    "    num = input(\"Enter some value: \")\n",
    "\n",
    "        if num>0:\n",
    "            sum_val+=num\n",
    "        else:\n",
    "            pass\n",
    "        \n",
    "print(sum_val)\n",
    "        \n",
    "        "
   ]
  },
  {
   "cell_type": "code",
   "execution_count": null,
   "id": "7d64eec3",
   "metadata": {},
   "outputs": [],
   "source": []
  }
 ],
 "metadata": {
  "kernelspec": {
   "display_name": "Python 3 (ipykernel)",
   "language": "python",
   "name": "python3"
  },
  "language_info": {
   "codemirror_mode": {
    "name": "ipython",
    "version": 3
   },
   "file_extension": ".py",
   "mimetype": "text/x-python",
   "name": "python",
   "nbconvert_exporter": "python",
   "pygments_lexer": "ipython3",
   "version": "3.9.12"
  }
 },
 "nbformat": 4,
 "nbformat_minor": 5
}
