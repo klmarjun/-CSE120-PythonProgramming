{
 "cells": [
  {
   "cell_type": "code",
   "execution_count": 1,
   "id": "4041901f",
   "metadata": {},
   "outputs": [
    {
     "name": "stdout",
     "output_type": "stream",
     "text": [
      "Name: Sathish\n",
      "Name:  Arjun\n"
     ]
    }
   ],
   "source": [
    "name = \"Arjun\"\n",
    "def printName():\n",
    "    name = \"Sathish\"\n",
    "    print(\"Name:\",name)\n",
    "printName()\n",
    "print(\"Name: \",name)    "
   ]
  },
  {
   "cell_type": "code",
   "execution_count": 2,
   "id": "9402ac95",
   "metadata": {},
   "outputs": [
    {
     "name": "stdout",
     "output_type": "stream",
     "text": [
      "Name: Sathish\n",
      "Name: Sathish\n"
     ]
    }
   ],
   "source": [
    "name = \"Arjun\"\n",
    "def printName():\n",
    "    name = \"Sathish\"\n",
    "    print(\"Name:\",name)\n",
    "    print(\"Name:\",name)\n",
    "printName()"
   ]
  },
  {
   "cell_type": "markdown",
   "id": "9641ad39",
   "metadata": {},
   "source": [
    "Global Variable: Outside of all the functions\n",
    "Local Variable: Within a function block\n",
    "scope of global variable is both inside an outside the func.\n",
    "scope of local variable is only iside function\n",
    "local variable overwrites the global variable ig given inside a function"
   ]
  },
  {
   "cell_type": "code",
   "execution_count": 1,
   "id": "f05e9d60",
   "metadata": {},
   "outputs": [
    {
     "name": "stdout",
     "output_type": "stream",
     "text": [
      "Enter name: Sats\n",
      "I dont know JAVA\n",
      "My Name is Sats\n",
      "I Hate songs\n",
      "My Name is Sats\n"
     ]
    }
   ],
   "source": [
    "#eg\n",
    "name = input(\"Enter name: \")\n",
    "def example():\n",
    "    sub = \"JAVA\"\n",
    "    print(\"I dont know\",sub)\n",
    "    print(\"My Name is\",name)\n",
    "def display():\n",
    "    var = \"songs\"\n",
    "    print(\"I Hate\",var)\n",
    "    print(\"My Name is\",name)\n",
    "example()\n",
    "display()"
   ]
  },
  {
   "cell_type": "code",
   "execution_count": 5,
   "id": "6e68324c",
   "metadata": {},
   "outputs": [
    {
     "name": "stdout",
     "output_type": "stream",
     "text": [
      "Enter value:8\n",
      "Enter value:7\n",
      "Enter\n",
      "'1'For Addition \n",
      "'2'For Subraction \n",
      "'3'For Multiplication \n",
      "'4'For Division5\n",
      "Please Enter an Valid Input\n"
     ]
    }
   ],
   "source": [
    "num1 = int(input(\"Enter value:\")) #global variable\n",
    "num2 = int(input(\"Enter value:\")) #global Varible\n",
    "def add():\n",
    "    print(\"Addition:\",num1+num2)\n",
    "def sub():\n",
    "    print(\"Subtraction:\",num1-num2)\n",
    "def mul():\n",
    "    print(\"Multiplication:\",num1*num2)\n",
    "def div():\n",
    "    print(\"Division:\",num1/num2)\n",
    "inp = int(input(\"Enter\\n'1'For Addition \\n'2'For Subraction \\n'3'For Multiplication \\n'4'For Division\"))\n",
    "if (inp == 1):\n",
    "    add()\n",
    "elif (inp == 2):\n",
    "    sub()\n",
    "elif (inp == 3):\n",
    "    mul()\n",
    "elif (inp == 4):\n",
    "    div()\n",
    "else:\n",
    "    print('Please Enter an Valid Input')"
   ]
  },
  {
   "cell_type": "markdown",
   "id": "12a72646",
   "metadata": {},
   "source": [
    "'float' object cannot be interpreted as an integer"
   ]
  },
  {
   "cell_type": "markdown",
   "id": "3b0e8825",
   "metadata": {},
   "source": [
    "set.add() takes exactly one argument (2 given)"
   ]
  },
  {
   "cell_type": "code",
   "execution_count": 5,
   "id": "a462cc7e",
   "metadata": {},
   "outputs": [
    {
     "name": "stdout",
     "output_type": "stream",
     "text": [
      "3\n"
     ]
    }
   ],
   "source": [
    "x = 0\n",
    "a = 5\n",
    "b = 5\n",
    "if a > 0:\n",
    "    if b < 0: \n",
    "        x = x + 5 \n",
    "    elif a > 5:\n",
    "        x = x + 4\n",
    "    else:\n",
    "        x = x + 3\n",
    "else:\n",
    "    x = x + 2\n",
    "print(x)"
   ]
  },
  {
   "cell_type": "code",
   "execution_count": 6,
   "id": "6e356e04",
   "metadata": {},
   "outputs": [
    {
     "name": "stdout",
     "output_type": "stream",
     "text": [
      "-1\n",
      "-2\n",
      "-3\n",
      "-4\n",
      "-5\n",
      "-6\n",
      "-7\n",
      "-8\n",
      "-9\n",
      "9\n",
      "-1\n",
      "-2\n",
      "-3\n",
      "-4\n",
      "-5\n",
      "-6\n",
      "-7\n",
      "-8\n",
      "-9\n",
      "18\n",
      "-1\n",
      "-2\n",
      "-3\n",
      "-4\n",
      "-5\n",
      "-6\n",
      "-7\n",
      "-8\n",
      "-9\n",
      "27\n",
      "-1\n",
      "-2\n",
      "-3\n",
      "-4\n",
      "-5\n",
      "-6\n",
      "-7\n",
      "-8\n",
      "-9\n",
      "36\n",
      "-1\n",
      "-2\n",
      "-3\n",
      "-4\n",
      "-5\n",
      "-6\n",
      "-7\n",
      "-8\n",
      "-9\n",
      "45\n",
      "-1\n",
      "-2\n",
      "-3\n",
      "-4\n",
      "-5\n",
      "-6\n",
      "-7\n",
      "-8\n",
      "-9\n",
      "54\n",
      "-1\n",
      "-2\n",
      "-3\n",
      "-4\n",
      "-5\n",
      "-6\n",
      "-7\n",
      "-8\n",
      "-9\n",
      "63\n",
      "-1\n",
      "-2\n",
      "-3\n",
      "-4\n",
      "-5\n",
      "-6\n",
      "-7\n",
      "-8\n",
      "-9\n",
      "72\n",
      "-1\n",
      "-2\n",
      "-3\n",
      "-4\n",
      "-5\n",
      "-6\n",
      "-7\n",
      "-8\n",
      "-9\n",
      "81\n",
      "-1\n",
      "-2\n",
      "-3\n",
      "-4\n",
      "-5\n",
      "-6\n",
      "-7\n",
      "-8\n",
      "-9\n",
      "90\n"
     ]
    }
   ],
   "source": [
    "x = 0\n",
    "for i in range(10):\n",
    "    for j in range(-1, -10, -1):\n",
    "        x += 1\n",
    "        print(j)\n",
    "    print(x)"
   ]
  },
  {
   "cell_type": "code",
   "execution_count": 11,
   "id": "6e66cd9c",
   "metadata": {},
   "outputs": [
    {
     "name": "stdout",
     "output_type": "stream",
     "text": [
      "Enter\n",
      "'1'For Bike \n",
      "'2'For Car \n",
      "'3'For Any heavy load vehicle4\n",
      "Enter the number of Hours:5\n"
     ]
    }
   ],
   "source": [
    "\n",
    "def parking_charge(time):\n",
    "\n",
    "    if (inp == 1):\n",
    "        \n",
    "        print(\"The total fare is \",time*10)\n",
    "    elif (inp == 2):\n",
    "        time = int(input(\"Enter the number of Hours:\"))\n",
    "        print(\"The total fare is \",time*15)\n",
    "    elif (inp == 3):\n",
    "        time = int(input(\"Enter the number of Hours:\"))\n",
    "        print(\"The total fare is \",time*20)\n",
    "inp = int(input(\"Enter\\n'1'For Bike \\n'2'For Car \\n'3'For Any heavy load vehicle\"))\n",
    "\n",
    "\n",
    "parking_charge(time = int(input(\"Enter the number of Hours:\")))\n",
    "           "
   ]
  },
  {
   "cell_type": "markdown",
   "id": "1aaacafc",
   "metadata": {},
   "source": [
    "## MODULE"
   ]
  },
  {
   "cell_type": "code",
   "execution_count": 8,
   "id": "9bfd3eef",
   "metadata": {},
   "outputs": [],
   "source": [
    "# A module is a file containing python definitions and statements.\n",
    "# can be function, class, variable"
   ]
  },
  {
   "cell_type": "code",
   "execution_count": 9,
   "id": "a6ef95e4",
   "metadata": {},
   "outputs": [],
   "source": [
    "parking_charge()"
   ]
  },
  {
   "cell_type": "code",
   "execution_count": 10,
   "id": "641d080e",
   "metadata": {},
   "outputs": [],
   "source": [
    "import calendar as c"
   ]
  },
  {
   "cell_type": "code",
   "execution_count": 11,
   "id": "979d4351",
   "metadata": {},
   "outputs": [
    {
     "name": "stdout",
     "output_type": "stream",
     "text": [
      "   September 2022\n",
      "Mo Tu We Th Fr Sa Su\n",
      "          1  2  3  4\n",
      " 5  6  7  8  9 10 11\n",
      "12 13 14 15 16 17 18\n",
      "19 20 21 22 23 24 25\n",
      "26 27 28 29 30\n",
      "\n"
     ]
    }
   ],
   "source": [
    "print(c.month(2022,9))"
   ]
  },
  {
   "cell_type": "code",
   "execution_count": 13,
   "id": "ee8af6ae",
   "metadata": {},
   "outputs": [
    {
     "name": "stdout",
     "output_type": "stream",
     "text": [
      "Enter the year: 2022\n",
      "Enter the Month: 5\n",
      "      May 2022\n",
      "Mo Tu We Th Fr Sa Su\n",
      "                   1\n",
      " 2  3  4  5  6  7  8\n",
      " 9 10 11 12 13 14 15\n",
      "16 17 18 19 20 21 22\n",
      "23 24 25 26 27 28 29\n",
      "30 31\n",
      "\n"
     ]
    }
   ],
   "source": [
    "year = int(input(\"Enter the year: \"))\n",
    "mon = int(input(\"Enter the Month: \"))\n",
    "print(c.month(year,mon))"
   ]
  },
  {
   "cell_type": "code",
   "execution_count": 14,
   "id": "86fc0d93",
   "metadata": {},
   "outputs": [
    {
     "name": "stdout",
     "output_type": "stream",
     "text": [
      "Enter the year: 2022\n",
      "                                  2022\n",
      "\n",
      "      January                   February                   March\n",
      "Mo Tu We Th Fr Sa Su      Mo Tu We Th Fr Sa Su      Mo Tu We Th Fr Sa Su\n",
      "                1  2          1  2  3  4  5  6          1  2  3  4  5  6\n",
      " 3  4  5  6  7  8  9       7  8  9 10 11 12 13       7  8  9 10 11 12 13\n",
      "10 11 12 13 14 15 16      14 15 16 17 18 19 20      14 15 16 17 18 19 20\n",
      "17 18 19 20 21 22 23      21 22 23 24 25 26 27      21 22 23 24 25 26 27\n",
      "24 25 26 27 28 29 30      28                        28 29 30 31\n",
      "31\n",
      "\n",
      "       April                      May                       June\n",
      "Mo Tu We Th Fr Sa Su      Mo Tu We Th Fr Sa Su      Mo Tu We Th Fr Sa Su\n",
      "             1  2  3                         1             1  2  3  4  5\n",
      " 4  5  6  7  8  9 10       2  3  4  5  6  7  8       6  7  8  9 10 11 12\n",
      "11 12 13 14 15 16 17       9 10 11 12 13 14 15      13 14 15 16 17 18 19\n",
      "18 19 20 21 22 23 24      16 17 18 19 20 21 22      20 21 22 23 24 25 26\n",
      "25 26 27 28 29 30         23 24 25 26 27 28 29      27 28 29 30\n",
      "                          30 31\n",
      "\n",
      "        July                     August                  September\n",
      "Mo Tu We Th Fr Sa Su      Mo Tu We Th Fr Sa Su      Mo Tu We Th Fr Sa Su\n",
      "             1  2  3       1  2  3  4  5  6  7                1  2  3  4\n",
      " 4  5  6  7  8  9 10       8  9 10 11 12 13 14       5  6  7  8  9 10 11\n",
      "11 12 13 14 15 16 17      15 16 17 18 19 20 21      12 13 14 15 16 17 18\n",
      "18 19 20 21 22 23 24      22 23 24 25 26 27 28      19 20 21 22 23 24 25\n",
      "25 26 27 28 29 30 31      29 30 31                  26 27 28 29 30\n",
      "\n",
      "      October                   November                  December\n",
      "Mo Tu We Th Fr Sa Su      Mo Tu We Th Fr Sa Su      Mo Tu We Th Fr Sa Su\n",
      "                1  2          1  2  3  4  5  6                1  2  3  4\n",
      " 3  4  5  6  7  8  9       7  8  9 10 11 12 13       5  6  7  8  9 10 11\n",
      "10 11 12 13 14 15 16      14 15 16 17 18 19 20      12 13 14 15 16 17 18\n",
      "17 18 19 20 21 22 23      21 22 23 24 25 26 27      19 20 21 22 23 24 25\n",
      "24 25 26 27 28 29 30      28 29 30                  26 27 28 29 30 31\n",
      "31\n",
      "\n"
     ]
    }
   ],
   "source": [
    "year = int(input(\"Enter the year: \"))\n",
    "print(c.calendar(year))"
   ]
  },
  {
   "cell_type": "code",
   "execution_count": 2,
   "id": "9f2aeee6",
   "metadata": {},
   "outputs": [
    {
     "name": "stdout",
     "output_type": "stream",
     "text": [
      "[]\n",
      "[]\n",
      "[1, 2, 3, 4]\n"
     ]
    }
   ],
   "source": [
    "def Hanoi(n,one,two,three):\n",
    "    if n>0:\n",
    "        Hanoi(n-1,one,three,two)\n",
    "        if one:\n",
    "            three.append(one.pop())\n",
    "        Hanoi(n-1,two,one,three)\n",
    "one = [1,2,3,4]\n",
    "three = []\n",
    "two = []\n",
    "Hanoi(len(one),one,two,three)\n",
    "print(one)\n",
    "print(two)\n",
    "print(three)"
   ]
  },
  {
   "cell_type": "code",
   "execution_count": null,
   "id": "ee651210",
   "metadata": {},
   "outputs": [],
   "source": []
  },
  {
   "cell_type": "code",
   "execution_count": null,
   "id": "930769dc",
   "metadata": {},
   "outputs": [],
   "source": []
  }
 ],
 "metadata": {
  "kernelspec": {
   "display_name": "Python 3 (ipykernel)",
   "language": "python",
   "name": "python3"
  },
  "language_info": {
   "codemirror_mode": {
    "name": "ipython",
    "version": 3
   },
   "file_extension": ".py",
   "mimetype": "text/x-python",
   "name": "python",
   "nbconvert_exporter": "python",
   "pygments_lexer": "ipython3",
   "version": "3.9.12"
  }
 },
 "nbformat": 4,
 "nbformat_minor": 5
}
