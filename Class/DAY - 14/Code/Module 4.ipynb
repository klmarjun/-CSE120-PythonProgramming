{
 "cells": [
  {
   "cell_type": "markdown",
   "id": "856debe5",
   "metadata": {},
   "source": [
    "### OOPs concepts\n",
    "   #### Class\n",
    "   #### Object\n",
    "   #### Abstraction\n",
    "   #### Encapsulation\n",
    "   #### Inheritance\n",
    "   #### Polymorphism"
   ]
  },
  {
   "cell_type": "markdown",
   "id": "2050af3b",
   "metadata": {},
   "source": [
    "Class \n",
    "It is the design or blueprint of any entity\n",
    "Class: Member Variable and Member method"
   ]
  },
  {
   "cell_type": "markdown",
   "id": "704917e6",
   "metadata": {},
   "source": [
    "Inheritance\n",
    "Extracting features from the existing class\n",
    "Types\n",
    "1. Single inheritance\n",
    "2. Multilevel inheritance\n",
    "3. Hierarchical inheritance\n",
    "4. Multiple inheritance"
   ]
  },
  {
   "cell_type": "markdown",
   "id": "4093ee59",
   "metadata": {},
   "source": [
    "Abstraction\n",
    "giving only essential information to the user\n",
    "eg: while booking a ticket"
   ]
  },
  {
   "cell_type": "markdown",
   "id": "bb232bcc",
   "metadata": {},
   "source": [
    "Data Encapsulation\n",
    "binding the member method and member variable.wrapping up variables and methods into a single entity.user without access cannot access the file"
   ]
  },
  {
   "cell_type": "markdown",
   "id": "c0e3c9d1",
   "metadata": {},
   "source": [
    "Polymorphism\n",
    "Ability to take more than one form\n",
    "eg.game(football,volleyball,badminton,free fire,pubg)\n",
    "Types\n",
    "1. Method overloading\n",
    "def area(r):\n",
    "    pass #circle\n",
    "def area(l,b):\n",
    "    pass #rectangle\n",
    "2. Method overriding\n",
    "class A:\n",
    "    def area(r):\n",
    "        pass #circle\n",
    "class B(A):\n",
    "    def area(a):\n",
    "        pass #square"
   ]
  },
  {
   "cell_type": "code",
   "execution_count": 3,
   "id": "569d4be3",
   "metadata": {},
   "outputs": [],
   "source": [
    "class parentClass: \n",
    "    #member variable - parent\n",
    "    #member method(Function) - parent\n",
    "    pass\n",
    "class childClass(parentClass):\n",
    "    ''' member variable - parent\n",
    "        member method(Function) - parent\n",
    "        member variable - child\n",
    "        member method - child '''\n",
    "    pass"
   ]
  },
  {
   "cell_type": "code",
   "execution_count": 4,
   "id": "0b81a32d",
   "metadata": {},
   "outputs": [],
   "source": [
    "#single\n",
    "class parentClass:\n",
    "    pass\n",
    "class childClass(parentClass):\n",
    "    pass"
   ]
  },
  {
   "cell_type": "code",
   "execution_count": 5,
   "id": "fc9a3482",
   "metadata": {},
   "outputs": [],
   "source": [
    "#multilevel\n",
    "class grandparentClass:\n",
    "    pass\n",
    "class parentClass(grandparentClass):\n",
    "    pass\n",
    "class childClass(parentClass):\n",
    "    pass"
   ]
  },
  {
   "cell_type": "code",
   "execution_count": 7,
   "id": "346a3334",
   "metadata": {},
   "outputs": [],
   "source": [
    "#hierarchical inheritance\n",
    "class parentClass:\n",
    "    pass\n",
    "class sibClass1(parentClass):\n",
    "    pass\n",
    "class sibClass2(parentClass):\n",
    "    pass\n",
    "#hierarchical inheritance\n",
    "class EntranceExam:\n",
    "    pass\n",
    "class eng(EntranceExam):\n",
    "    pass\n",
    "class mbbs(EntranceExam):\n",
    "    pass"
   ]
  },
  {
   "cell_type": "code",
   "execution_count": 8,
   "id": "930b4ac5",
   "metadata": {},
   "outputs": [],
   "source": [
    "#multiple inheritance\n",
    "class father():\n",
    "    pass\n",
    "class mother():\n",
    "    pass\n",
    "class child(father,mother):\n",
    "    pass"
   ]
  },
  {
   "cell_type": "code",
   "execution_count": 11,
   "id": "df39f568",
   "metadata": {},
   "outputs": [],
   "source": [
    "#Abstraction\n",
    "class abstract():\n",
    "    #abstarcter method\n",
    "    pass\n",
    "class test(abstract):\n",
    "    pass\n",
    "class display:\n",
    "    pass"
   ]
  },
  {
   "cell_type": "code",
   "execution_count": 12,
   "id": "b82a8793",
   "metadata": {},
   "outputs": [],
   "source": [
    "#Data Encapsulation\n",
    "class sample:\n",
    "    a = 10\n",
    "    def show(self):\n",
    "        pass\n",
    "    pass"
   ]
  },
  {
   "cell_type": "markdown",
   "id": "ae7b3a7e",
   "metadata": {},
   "source": [
    "#polymorphism(Method Overloading)\n",
    "#same function name diffferent number of parameter"
   ]
  },
  {
   "cell_type": "markdown",
   "id": "3c4ab331",
   "metadata": {},
   "source": [
    "#polymorphism(Method Overriding)\n",
    "#same function name same number of parameter"
   ]
  },
  {
   "cell_type": "markdown",
   "id": "008c3989",
   "metadata": {},
   "source": [
    "Object - instance of the class\n",
    "member variable and member method is accessed thru class."
   ]
  },
  {
   "cell_type": "code",
   "execution_count": 12,
   "id": "ef32b285",
   "metadata": {},
   "outputs": [
    {
     "name": "stdout",
     "output_type": "stream",
     "text": [
      "Welcome\n",
      "100\n"
     ]
    }
   ],
   "source": [
    "class sample:\n",
    "    def simple(self,a=10):\n",
    "        print('Welcome')\n",
    "        print(a)\n",
    "    \n",
    "#object\n",
    "#object_name = class_name()\n",
    "obj = sample()\n",
    "obj.simple(100)"
   ]
  },
  {
   "cell_type": "markdown",
   "id": "61f15e81",
   "metadata": {},
   "source": [
    "Class is a desingn\n",
    "Object is a instance"
   ]
  },
  {
   "cell_type": "markdown",
   "id": "907031de",
   "metadata": {},
   "source": [
    " In Class\n",
    "    Member variable is known as attributes\n",
    "    Member methods is known as functions"
   ]
  },
  {
   "cell_type": "code",
   "execution_count": 13,
   "id": "4b146306",
   "metadata": {},
   "outputs": [
    {
     "name": "stdout",
     "output_type": "stream",
     "text": [
      "AMD Ryzen,nvidia,3060 ti,16GB,512GB Storage\n"
     ]
    }
   ],
   "source": [
    "#Sample program for object and class\n",
    "class Computer:  #defining a class\n",
    "    def config(self):  #any function inside the class should have the parameter self\n",
    "        print(\"AMD Ryzen,nvidia,3060 ti,16GB,512GB Storage\")\n",
    "        \n",
    "comp1 = Computer()  #comp1 is a object inside the class computer\n",
    "comp1.config() #class name+ . + function name + parameter"
   ]
  },
  {
   "cell_type": "code",
   "execution_count": null,
   "id": "96a518a5",
   "metadata": {},
   "outputs": [],
   "source": []
  }
 ],
 "metadata": {
  "kernelspec": {
   "display_name": "Python 3 (ipykernel)",
   "language": "python",
   "name": "python3"
  },
  "language_info": {
   "codemirror_mode": {
    "name": "ipython",
    "version": 3
   },
   "file_extension": ".py",
   "mimetype": "text/x-python",
   "name": "python",
   "nbconvert_exporter": "python",
   "pygments_lexer": "ipython3",
   "version": "3.9.12"
  }
 },
 "nbformat": 4,
 "nbformat_minor": 5
}
