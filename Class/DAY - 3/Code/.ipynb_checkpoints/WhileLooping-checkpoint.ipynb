{
 "cells": [
  {
   "cell_type": "code",
   "execution_count": 3,
   "id": "bf1394f7",
   "metadata": {},
   "outputs": [
    {
     "name": "stdout",
     "output_type": "stream",
     "text": [
      "1.Enter the Area of Circle\n",
      "2.Enter the Area of Rectangle\n",
      "3.Enter the Area of Square1\n"
     ]
    }
   ],
   "source": [
    "select = int(input(\"1.Enter the Area of Circle\\n\" \"2.Enter the Area of Rectangle\\n\"\n",
    "\"3.Enter the Area of Square\"))"
   ]
  },
  {
   "cell_type": "code",
   "execution_count": 5,
   "id": "7038d179",
   "metadata": {},
   "outputs": [
    {
     "name": "stdout",
     "output_type": "stream",
     "text": [
      "Enter radius of the circle: 5\n",
      "Area of the circle is 78.57142857142857\n"
     ]
    }
   ],
   "source": [
    "if (select == 1 ):\n",
    "    rad = int(input(\"Enter radius of the circle: \"))\n",
    "    area = (22/7)*rad*rad\n",
    "    print('Area of the circle is',area)\n",
    "    \n",
    "elif (select == 2 ):\n",
    "    Side = int(input(\"Enter side value: \"))\n",
    "    area = Side*Side\n",
    "    print('Area of the Square is',Area)\n",
    "    \n",
    "elif (select == 3 ):\n",
    "    length = int(input(\"Enter length : \"))\n",
    "    breadth = int(input(\"Enter Breadth: \"))\n",
    "    area = length*breadth\n",
    "    print('Area of the Rectangle is',area)\n",
    "                        \n",
    "else:\n",
    "    print(\"Please enter a valid one\")"
   ]
  },
  {
   "cell_type": "code",
   "execution_count": 62,
   "id": "8dc7f9f4",
   "metadata": {},
   "outputs": [],
   "source": [
    "# Num=153\n",
    "# sum=0\n",
    "# Iteration 1:   \n",
    "#     digit=153%10 = 3\n",
    "#     sum=0+3=3\n",
    "#     num=153//10= 15\n",
    "# I2:num=15\n",
    "#     digit=15%10=5\n",
    "#     sum=3+5=8\n",
    "#     num=15//10=1\n",
    "# I3: num=1\n",
    "#     digit=1%10=1\n",
    "#     sum=8+1=9\n",
    "#     num=1//10=0\n",
    "    \n",
    "# print(sum)"
   ]
  },
  {
   "cell_type": "markdown",
   "id": "2d850529",
   "metadata": {},
   "source": [
    "### PrintingSumOfASingleDigit"
   ]
  },
  {
   "cell_type": "code",
   "execution_count": 90,
   "id": "f0108385",
   "metadata": {},
   "outputs": [
    {
     "name": "stdout",
     "output_type": "stream",
     "text": [
      "Enter the number: 27\n",
      "Sum of 27 is 9\n"
     ]
    }
   ],
   "source": [
    "num = int(input(\"Enter the number: \"))\n",
    "temp = num\n",
    "sum = 0\n",
    "while(num>0):\n",
    "    digit = num%10\n",
    "    sum += digit\n",
    "    num = num//10\n",
    "print(\"Sum of\",temp,\"is\",sum)"
   ]
  },
  {
   "cell_type": "code",
   "execution_count": 63,
   "id": "2b3aa63f",
   "metadata": {},
   "outputs": [],
   "source": [
    "# #armstrong number = a number equal to the sum of its digits cubes\n",
    "# 153 = 1*1*1 + 5*5*5 +3*3*3\n",
    "# 153 = 1 +125+27\n",
    "# 153 = 153\n",
    "#  num=153\n",
    "#     sum=0\n",
    "\n",
    "# while(num>0):\n",
    "        \n",
    "# digit = num % 10\n",
    "# sum =sum+digit ** 3\n",
    "# num =num// 10\n",
    "\n",
    "# i1:\n",
    "#     digit=153%10=3\n",
    "#     sum=0+3**3=27\n",
    "#     num=153//10=15\n",
    "    \n",
    "# i2:\n",
    "#     digit=15%10=5\n",
    "#     sum=27+5**3= 27+125= 152\n",
    "#     num=15//10=1\n",
    "\n",
    "# i3:\n",
    "#     digit=1%10=1\n",
    "#     sum=152+1**3= 152+1=153\n",
    "#     num=1//10=0"
   ]
  },
  {
   "cell_type": "markdown",
   "id": "be954ed7",
   "metadata": {},
   "source": [
    "### Amstrong NUmber"
   ]
  },
  {
   "cell_type": "code",
   "execution_count": 108,
   "id": "a7eca031",
   "metadata": {},
   "outputs": [
    {
     "name": "stdout",
     "output_type": "stream",
     "text": [
      "Enter the number: 153\n",
      "It is an Armstrong number\n"
     ]
    }
   ],
   "source": [
    "num = int(input(\"Enter the number: \"))\n",
    "temp = num\n",
    "sum = 0\n",
    "while(num>0):\n",
    "    digit = num%10\n",
    "    sum += digit**3\n",
    "    num = num//10\n",
    "if (temp==sum):\n",
    "    print(\"It is an Armstrong number\")\n",
    "    \n",
    "else:\n",
    "    print(temp ,\"is Not an Armstrong Number\")"
   ]
  },
  {
   "cell_type": "code",
   "execution_count": 107,
   "id": "7b395d94",
   "metadata": {},
   "outputs": [],
   "source": [
    "# input: 123\n",
    "# rev=0\n",
    "# output:321\n",
    "#     digit = num % 10\n",
    "#     rev = rev * 10 + digit\n",
    "#     num =num// 10\n",
    "    \n",
    "# i1:\n",
    "#     digit=123%10=3\n",
    "#     rev=0*10+3=3\n",
    "#     num=123//10=12\n",
    "# i2:\n",
    "#     digit=12%10=2\n",
    "#     rev=3*10+2=30+2=32\n",
    "#     num=12//10=1\n",
    "# i3:\n",
    "#     digit=1%10=1\n",
    "#     rev=32*10+1=320+1=321\n",
    "#     num=1//10=0\n",
    "    \n",
    "# print(rev)"
   ]
  },
  {
   "cell_type": "markdown",
   "id": "9793c80d",
   "metadata": {},
   "source": [
    "### ReversingANumber"
   ]
  },
  {
   "cell_type": "code",
   "execution_count": 94,
   "id": "93e2eec2",
   "metadata": {},
   "outputs": [
    {
     "name": "stdout",
     "output_type": "stream",
     "text": [
      "Enter a number: 1025\n",
      "Reversed Number:  5201\n"
     ]
    }
   ],
   "source": [
    "num = int(input(\"Enter a number: \"))\n",
    "reversed_num = 0\n",
    "\n",
    "while num != 0:\n",
    "    digit = num % 10\n",
    "    reversed_num = reversed_num * 10 + digit\n",
    "    num //= 10\n",
    "\n",
    "print(\"Reversed Number: \",(reversed_num))"
   ]
  },
  {
   "cell_type": "markdown",
   "id": "b6fdb755",
   "metadata": {},
   "source": [
    "### PalindromicNumber"
   ]
  },
  {
   "cell_type": "code",
   "execution_count": 104,
   "id": "c391698d",
   "metadata": {},
   "outputs": [
    {
     "name": "stdout",
     "output_type": "stream",
     "text": [
      "Enter a number: 1456789\n",
      "Reversed Number:  9876541\n",
      "Its not an Palindrome\n"
     ]
    }
   ],
   "source": [
    "num = int(input(\"Enter a number: \"))\n",
    "reversed_num = 0\n",
    "temp = num\n",
    "\n",
    "while num >0 :\n",
    "    digit = num % 10\n",
    "    reversed_num = reversed_num * 10 + digit\n",
    "    num //= 10\n",
    "\n",
    "print(\"Reversed Number: \",(reversed_num))\n",
    "\n",
    "if (temp == reversed_num):\n",
    "    print(\"The number you entered is a Palindrome\")\n",
    "    \n",
    "else:\n",
    "    print(\"Its not an Palindrome\")"
   ]
  },
  {
   "cell_type": "code",
   "execution_count": 64,
   "id": "c9aea156",
   "metadata": {},
   "outputs": [],
   "source": [
    "# product of the digit :\n",
    "#     digit = num%10\n",
    "#     product = product*digit\n",
    "#     num = num//10"
   ]
  },
  {
   "cell_type": "markdown",
   "id": "ba69586c",
   "metadata": {},
   "source": [
    "### SpecialNumber"
   ]
  },
  {
   "cell_type": "code",
   "execution_count": 98,
   "id": "c6ef7799",
   "metadata": {},
   "outputs": [
    {
     "name": "stdout",
     "output_type": "stream",
     "text": [
      "Enter a number: 59\n",
      "45\n",
      "14\n",
      "Its a two digit Special number\n"
     ]
    }
   ],
   "source": [
    "num = int(input(\"Enter a number: \"))\n",
    "temp = num\n",
    "product = 1\n",
    "sum = 0\n",
    "\n",
    "while num > 0:\n",
    "    digit = num % 10\n",
    "    product = product*digit\n",
    "    sum = sum + digit\n",
    "    num = num//10\n",
    "    \n",
    "print(product)\n",
    "print(sum)\n",
    "result = product + sum\n",
    "\n",
    "if(result == temp):\n",
    "    print(\"Its a two digit Special number\")\n",
    "else:\n",
    "    print(\"Its not a two digit Special number\")"
   ]
  },
  {
   "cell_type": "markdown",
   "id": "e2cb5f94",
   "metadata": {},
   "source": [
    "# CompilationOfProgramms  "
   ]
  },
  {
   "cell_type": "code",
   "execution_count": 131,
   "id": "e1c6377c",
   "metadata": {},
   "outputs": [
    {
     "name": "stdout",
     "output_type": "stream",
     "text": [
      "Enter a number:\n",
      "1.Palindrome\n",
      "2.Amstrong number\n",
      "3.Special number\n",
      "4.Sum of digits of a number \n",
      "4\n",
      "Enter a Number:  589\n",
      "Sum of digits in 589 is 22\n"
     ]
    }
   ],
   "source": [
    "\n",
    "select = int(input(\"Enter a number:\\n\"\"1.Palindrome\\n\"\"2.Amstrong number\\n\"\"3.Special number\\n\"\"4.Sum of digits of a number \\n\"))\n",
    "if select == 1:\n",
    "    num = int(input(\"Enter a Number:  \"))\n",
    "    reversed_num = 0\n",
    "    temp = num\n",
    "\n",
    "    while num >0 :\n",
    "        digit = num % 10\n",
    "        reversed_num = reversed_num * 10 + digit\n",
    "        num //= 10\n",
    "\n",
    "    print(\"Reversed Number: \",(reversed_num))\n",
    "\n",
    "    if (temp == reversed_num):\n",
    "        print(\"The number you entered is a Palindrome\")\n",
    "    \n",
    "    else:\n",
    "        print(\"Its not an Palindrome\")\n",
    "        \n",
    "elif select == 2:\n",
    "    \n",
    "    num = int(input(\"Enter a Number:  \"))\n",
    "    temp = num\n",
    "    sum_val = 0\n",
    "    while(num>0):\n",
    "        digit = num%10\n",
    "        sum_val = sum_val + digit**3\n",
    "        num = num//10\n",
    "    if (temp==sum_val):\n",
    "        print(\"It is an Armstrong number\")\n",
    "    \n",
    "    else:\n",
    "        print(\"It is Not an Armstrong Number\")\n",
    "elif select == 3:\n",
    "    num = int(input(\"Enter a Number:  \"))\n",
    "    temp = num\n",
    "    product = 1\n",
    "    sum = 0\n",
    "\n",
    "    while num > 0:\n",
    "        digit = num % 10\n",
    "        product = product*digit\n",
    "        sum = sum + digit\n",
    "        num = num//10\n",
    "    \n",
    "    print(product)\n",
    "    print(sum)\n",
    "    result = product + sum\n",
    "\n",
    "    if(result == temp):\n",
    "        print(\"Its a two digit Special number\")\n",
    "    else:\n",
    "        print(\"Its not a two digit Special number\")\n",
    "        \n",
    "        \n",
    "elif select == 4:\n",
    "   \n",
    "    num = int(input(\"Enter a Number:  \"))\n",
    "    temp = num\n",
    "    sum = 0\n",
    "    while(num>0):\n",
    "        digit = num%10\n",
    "        sum += digit\n",
    "        num = num//10\n",
    "    print(\"Sum of digits in\",temp,\"is\",sum)\n",
    "    \n",
    "    6\n",
    "else:\n",
    "    print(\"Please enter an Valid Input\")\n",
    "    \n",
    "    \n",
    "    \n",
    "    \n",
    "    \n",
    "\n",
    "    "
   ]
  },
  {
   "cell_type": "code",
   "execution_count": null,
   "id": "531a6ef1",
   "metadata": {},
   "outputs": [],
   "source": [
    "num = 65\n"
   ]
  },
  {
   "cell_type": "code",
   "execution_count": null,
   "id": "82b21b92",
   "metadata": {},
   "outputs": [],
   "source": []
  }
 ],
 "metadata": {
  "kernelspec": {
   "display_name": "Python 3 (ipykernel)",
   "language": "python",
   "name": "python3"
  },
  "language_info": {
   "codemirror_mode": {
    "name": "ipython",
    "version": 3
   },
   "file_extension": ".py",
   "mimetype": "text/x-python",
   "name": "python",
   "nbconvert_exporter": "python",
   "pygments_lexer": "ipython3",
   "version": "3.9.12"
  }
 },
 "nbformat": 4,
 "nbformat_minor": 5
}
