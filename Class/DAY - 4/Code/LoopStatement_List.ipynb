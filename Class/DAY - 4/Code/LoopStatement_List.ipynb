{
 "cells": [
  {
   "cell_type": "markdown",
   "id": "1bb362c6",
   "metadata": {},
   "source": [
    "\n",
    "### Break - Terminates loop once the condition is satisfied"
   ]
  },
  {
   "cell_type": "code",
   "execution_count": 2,
   "id": "5a7e7d79",
   "metadata": {},
   "outputs": [
    {
     "name": "stdout",
     "output_type": "stream",
     "text": [
      "1\n",
      "2\n",
      "3\n",
      "4\n"
     ]
    }
   ],
   "source": [
    "for i in range(1,10):\n",
    "    if(i==5):\n",
    "        break\n",
    "    print(i)"
   ]
  },
  {
   "cell_type": "markdown",
   "id": "ef452051",
   "metadata": {},
   "source": [
    "### Continue -  Skip the rest of the statement "
   ]
  },
  {
   "cell_type": "code",
   "execution_count": 3,
   "id": "7727d893",
   "metadata": {},
   "outputs": [
    {
     "name": "stdout",
     "output_type": "stream",
     "text": [
      "1\n",
      "2\n",
      "3\n",
      "4\n",
      "6\n",
      "7\n",
      "8\n",
      "9\n"
     ]
    }
   ],
   "source": [
    "for i in range(1,10):\n",
    "    if(i==5):\n",
    "        continue\n",
    "    print(i)"
   ]
  },
  {
   "cell_type": "markdown",
   "id": "ca49a0cb",
   "metadata": {},
   "source": [
    "### Pass -  For Syntax Purpose"
   ]
  },
  {
   "cell_type": "code",
   "execution_count": 4,
   "id": "d213eae6",
   "metadata": {},
   "outputs": [
    {
     "name": "stdout",
     "output_type": "stream",
     "text": [
      "1\n",
      "2\n",
      "3\n",
      "4\n",
      "5\n",
      "6\n",
      "7\n",
      "8\n",
      "9\n"
     ]
    }
   ],
   "source": [
    "for i in range(1,10):\n",
    "    if(i==5):\n",
    "        pass\n",
    "    print(i)"
   ]
  },
  {
   "cell_type": "markdown",
   "id": "f474c5d8",
   "metadata": {},
   "source": [
    "# Module-1"
   ]
  },
  {
   "cell_type": "markdown",
   "id": "3e9ea9c8",
   "metadata": {},
   "source": [
    "### List - Collection of versatile Datatypes available in python\n"
   ]
  },
  {
   "cell_type": "markdown",
   "id": "a335e37a",
   "metadata": {},
   "source": [
    "### Sequence in which elements are written as csv b/w []\n",
    "### Index and Slicing\n",
    "### Index : strts with 0, in rev order it strts with -1"
   ]
  },
  {
   "cell_type": "markdown",
   "id": "6ebf437d",
   "metadata": {},
   "source": [
    "#### type"
   ]
  },
  {
   "cell_type": "code",
   "execution_count": 7,
   "id": "08d36f38",
   "metadata": {},
   "outputs": [
    {
     "data": {
      "text/plain": [
       "list"
      ]
     },
     "execution_count": 7,
     "metadata": {},
     "output_type": "execute_result"
    }
   ],
   "source": [
    "a = [\"Arjun\",\"Sathish \",\"Python\",5,6.45,58]\n",
    "type(a)"
   ]
  },
  {
   "cell_type": "markdown",
   "id": "8c50384d",
   "metadata": {},
   "source": [
    "#### index"
   ]
  },
  {
   "cell_type": "code",
   "execution_count": 8,
   "id": "0ba3a9a1",
   "metadata": {},
   "outputs": [
    {
     "name": "stdout",
     "output_type": "stream",
     "text": [
      "Sathish \n"
     ]
    }
   ],
   "source": [
    "print(a[1])"
   ]
  },
  {
   "cell_type": "markdown",
   "id": "331d6d88",
   "metadata": {},
   "source": [
    "#### reversing list"
   ]
  },
  {
   "cell_type": "code",
   "execution_count": 9,
   "id": "aad0c36f",
   "metadata": {},
   "outputs": [
    {
     "name": "stdout",
     "output_type": "stream",
     "text": [
      "[58, 6.45, 5, 'Python', 'Sathish ', 'Arjun']\n"
     ]
    }
   ],
   "source": [
    "print(a[::-1])"
   ]
  },
  {
   "cell_type": "code",
   "execution_count": 10,
   "id": "c610ebf9",
   "metadata": {},
   "outputs": [
    {
     "data": {
      "text/plain": [
       "['Arjun', 'Sathish ', 'Python', 5, 6.45, 58]"
      ]
     },
     "execution_count": 10,
     "metadata": {},
     "output_type": "execute_result"
    }
   ],
   "source": [
    "a"
   ]
  },
  {
   "cell_type": "markdown",
   "id": "37dcb71a",
   "metadata": {},
   "source": [
    "#### Slicing"
   ]
  },
  {
   "cell_type": "code",
   "execution_count": 13,
   "id": "0bf59c10",
   "metadata": {},
   "outputs": [
    {
     "name": "stdout",
     "output_type": "stream",
     "text": [
      "These are numbers [5, 6.45, 58]\n"
     ]
    }
   ],
   "source": [
    "print(\"These are numbers\",a[3:6])"
   ]
  },
  {
   "cell_type": "markdown",
   "id": "9bdaa0a3",
   "metadata": {},
   "source": [
    "#### Check is_present or not"
   ]
  },
  {
   "cell_type": "code",
   "execution_count": 15,
   "id": "2f15bfed",
   "metadata": {},
   "outputs": [
    {
     "name": "stdout",
     "output_type": "stream",
     "text": [
      "Enter some value to check45\n",
      "45 Not present in ['Arjun', 'Sathish ', 'Python', 5, 6.45, 58]\n"
     ]
    }
   ],
   "source": [
    "r = input(\"Enter some value to check\")\n",
    "if r not in a:\n",
    "    print(r,\"Not present in\",a)\n",
    "else:\n",
    "    print(r,\"Present in\",a)"
   ]
  },
  {
   "cell_type": "markdown",
   "id": "fbd3bde9",
   "metadata": {},
   "source": [
    "# Operations:\n",
    "    max(list)\n",
    "    min(list)\n",
    "    len(list)\n",
    "    sum(list)\n",
    "Methods:\n",
    "    list.remove()\n",
    "    list.sort()\n",
    "    list.reverse()"
   ]
  },
  {
   "cell_type": "markdown",
   "id": "d8423c11",
   "metadata": {},
   "source": [
    "### Squaring every element in list"
   ]
  },
  {
   "cell_type": "code",
   "execution_count": 19,
   "id": "b154cca3",
   "metadata": {},
   "outputs": [
    {
     "name": "stdout",
     "output_type": "stream",
     "text": [
      "3136\n",
      "6084\n",
      "25\n"
     ]
    }
   ],
   "source": [
    "a = [56,78,5]\n",
    "for i in a:\n",
    "    print(i*i)"
   ]
  },
  {
   "cell_type": "markdown",
   "id": "ae923b8b",
   "metadata": {},
   "source": [
    "### squaring every element in a list and storing in another list(Append)"
   ]
  },
  {
   "cell_type": "code",
   "execution_count": 20,
   "id": "0612159e",
   "metadata": {},
   "outputs": [
    {
     "name": "stdout",
     "output_type": "stream",
     "text": [
      "[4, 36, 81]\n"
     ]
    }
   ],
   "source": [
    "a = [2,6,9]\n",
    "#creating an empty list\n",
    "aa = []\n",
    "for i in a:\n",
    "    aa.append(i*i)\n",
    "print(aa)"
   ]
  }
 ],
 "metadata": {
  "kernelspec": {
   "display_name": "Python 3 (ipykernel)",
   "language": "python",
   "name": "python3"
  },
  "language_info": {
   "codemirror_mode": {
    "name": "ipython",
    "version": 3
   },
   "file_extension": ".py",
   "mimetype": "text/x-python",
   "name": "python",
   "nbconvert_exporter": "python",
   "pygments_lexer": "ipython3",
   "version": "3.9.12"
  }
 },
 "nbformat": 4,
 "nbformat_minor": 5
}
