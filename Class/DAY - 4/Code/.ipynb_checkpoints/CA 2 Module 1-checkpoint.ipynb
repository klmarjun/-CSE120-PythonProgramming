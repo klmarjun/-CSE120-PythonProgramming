{
 "cells": [
  {
   "cell_type": "markdown",
   "metadata": {},
   "source": [
    "### Name: Mathew\n",
    "### Unique ID: E0123O2\n",
    "### Subject: CSE 120 Python Programming "
   ]
  },
  {
   "cell_type": "raw",
   "metadata": {},
   "source": [
    "Q.NO: 1 Write a python code for converting length in cm to km"
   ]
  },
  {
   "cell_type": "code",
   "execution_count": null,
   "metadata": {},
   "outputs": [],
   "source": []
  },
  {
   "cell_type": "raw",
   "metadata": {},
   "source": [
    "Q.NO: 2 Write a python program to check whether given number is palindrome or not"
   ]
  },
  {
   "cell_type": "code",
   "execution_count": null,
   "metadata": {},
   "outputs": [],
   "source": []
  },
  {
   "cell_type": "raw",
   "metadata": {},
   "source": [
    "Q.NO: 3 Write a menu driven program for the following task\n",
    "    a. factorial number\n",
    "    b. Prime number\n",
    "    c. Digit Product \n",
    "    d. Digit Sum"
   ]
  },
  {
   "cell_type": "code",
   "execution_count": null,
   "metadata": {},
   "outputs": [],
   "source": []
  },
  {
   "cell_type": "raw",
   "metadata": {},
   "source": [
    "Q.NO 4: Write a program to check whether given input is vowel or not"
   ]
  },
  {
   "cell_type": "code",
   "execution_count": null,
   "metadata": {},
   "outputs": [],
   "source": []
  },
  {
   "cell_type": "raw",
   "metadata": {},
   "source": [
    "Q.NO 5: Write a that prompts the user to enter a string. The program calculates and displays the length of the string until user enters \"quit\".\n",
    "    HINT: use while loop"
   ]
  },
  {
   "cell_type": "code",
   "execution_count": 1,
   "metadata": {},
   "outputs": [
    {
     "data": {
      "text/plain": [
       "6"
      ]
     },
     "execution_count": 1,
     "metadata": {},
     "output_type": "execute_result"
    }
   ],
   "source": []
  },
  {
   "cell_type": "raw",
   "metadata": {},
   "source": [
    "Q.NO 6: Write a program to calculate parking charge of a vehicle. Enter the type of vehicle as character (c for car, b for bus, K for bike)\n",
    "    and number of hours, then calculate charge as given below \n",
    "    Bus- 20 per Hour\n",
    "    Bike - 10 per hour \n",
    "    Car - 15 Per Hour\n"
   ]
  },
  {
   "cell_type": "code",
   "execution_count": null,
   "metadata": {},
   "outputs": [],
   "source": []
  }
 ],
 "metadata": {
  "kernelspec": {
   "display_name": "Python 3",
   "language": "python",
   "name": "python3"
  },
  "language_info": {
   "codemirror_mode": {
    "name": "ipython",
    "version": 3
   },
   "file_extension": ".py",
   "mimetype": "text/x-python",
   "name": "python",
   "nbconvert_exporter": "python",
   "pygments_lexer": "ipython3",
   "version": "3.8.5"
  }
 },
 "nbformat": 4,
 "nbformat_minor": 4
}
