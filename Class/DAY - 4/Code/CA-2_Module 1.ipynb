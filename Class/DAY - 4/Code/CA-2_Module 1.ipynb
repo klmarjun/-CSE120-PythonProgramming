{
 "cells": [
  {
   "cell_type": "markdown",
   "id": "31133fd1",
   "metadata": {},
   "source": [
    "# Name:  \n",
    "# Unique Id:\n",
    "# Subject: CSE 120 Python Programming\n"
   ]
  },
  {
   "cell_type": "raw",
   "id": "17ab0d82",
   "metadata": {},
   "source": [
    "Q.No 1: Write a python code for converting length in cm to km"
   ]
  },
  {
   "cell_type": "code",
   "execution_count": 7,
   "id": "11438559",
   "metadata": {},
   "outputs": [
    {
     "name": "stdout",
     "output_type": "stream",
     "text": [
      "Enter a value: 1000\n",
      "1000.0 cm =  1.0 km\n"
     ]
    }
   ],
   "source": [
    "a = float(input(\"Enter a value: \"))\n",
    "convert = a/1000\n",
    "print(a ,\"cm = \",convert, \"km\")"
   ]
  },
  {
   "cell_type": "code",
   "execution_count": null,
   "id": "84ff966c",
   "metadata": {},
   "outputs": [],
   "source": []
  },
  {
   "cell_type": "code",
   "execution_count": null,
   "id": "84caf0ab",
   "metadata": {},
   "outputs": [],
   "source": []
  },
  {
   "cell_type": "code",
   "execution_count": null,
   "id": "9bb6a602",
   "metadata": {},
   "outputs": [],
   "source": []
  },
  {
   "cell_type": "raw",
   "id": "2646af5f",
   "metadata": {},
   "source": [
    "Q.No 3: Write a Menu driven program for the following task\n",
    "        a.Factorial Number\n",
    "        b.Prime Number\n",
    "        c.Digit Product\n",
    "        d.Digit Sum"
   ]
  },
  {
   "cell_type": "code",
   "execution_count": 10,
   "id": "c560dd2d",
   "metadata": {},
   "outputs": [
    {
     "name": "stdout",
     "output_type": "stream",
     "text": [
      "Enter a Number: 6\n",
      "The Factorial of 6 is: 720\n"
     ]
    }
   ],
   "source": [
    "a = int(input(\"Enter a Number: \"))\n",
    "factorial = 1\n",
    "for i in range (1,a+1):\n",
    "    factorial *= i\n",
    "        \n",
    "print(\"The Factorial of\",a, \"is: \",end =\"\")\n",
    "print(factorial)\n",
    "        "
   ]
  },
  {
   "cell_type": "raw",
   "id": "2b93806b",
   "metadata": {},
   "source": [
    "Q.No 4: Write a program to check whether given input is vowel or not"
   ]
  },
  {
   "cell_type": "code",
   "execution_count": null,
   "id": "7794237e",
   "metadata": {},
   "outputs": [],
   "source": []
  },
  {
   "cell_type": "code",
   "execution_count": null,
   "id": "1c0c45aa",
   "metadata": {},
   "outputs": [],
   "source": [
    "Q.No 5:  Write a Program that prompts the user to enter a string. The program calculates and  "
   ]
  },
  {
   "cell_type": "code",
   "execution_count": null,
   "id": "77d728de",
   "metadata": {},
   "outputs": [],
   "source": []
  },
  {
   "cell_type": "code",
   "execution_count": null,
   "id": "1e741894",
   "metadata": {},
   "outputs": [],
   "source": [
    "Q.No 6: Write a program to calculate parking charge of a vehicle. Enter the type of vehicle as character (c for Car, b for Bus, and K for Bike) andnumber of hours, then calculate the charge as given below"
   ]
  },
  {
   "cell_type": "code",
   "execution_count": 12,
   "id": "7f6fd18d",
   "metadata": {},
   "outputs": [
    {
     "ename": "IndentationError",
     "evalue": "unindent does not match any outer indentation level (<tokenize>, line 5)",
     "output_type": "error",
     "traceback": [
      "\u001b[1;36m  File \u001b[1;32m<tokenize>:5\u001b[1;36m\u001b[0m\n\u001b[1;33m    for i in range(2, n):\u001b[0m\n\u001b[1;37m    ^\u001b[0m\n\u001b[1;31mIndentationError\u001b[0m\u001b[1;31m:\u001b[0m unindent does not match any outer indentation level\n"
     ]
    }
   ],
   "source": [
    "if n <= 1:\n",
    "        return False\n",
    "  \n",
    "    # Check from 2 to n-1\n",
    "    for i in range(2, n):\n",
    "        if n % i == 0:\n",
    "            return False;\n",
    "  \n",
    "    return True\n",
    "  \n",
    "# Driver Program to test above function\n",
    "print(\"true\") if isPrime(11) else print(\"false\")\n",
    "print(\"true\") if isPrime(14) else print(\"false\")\n",
    "  "
   ]
  },
  {
   "cell_type": "code",
   "execution_count": null,
   "id": "3cd179d5",
   "metadata": {},
   "outputs": [],
   "source": []
  }
 ],
 "metadata": {
  "kernelspec": {
   "display_name": "Python 3 (ipykernel)",
   "language": "python",
   "name": "python3"
  },
  "language_info": {
   "codemirror_mode": {
    "name": "ipython",
    "version": 3
   },
   "file_extension": ".py",
   "mimetype": "text/x-python",
   "name": "python",
   "nbconvert_exporter": "python",
   "pygments_lexer": "ipython3",
   "version": "3.9.12"
  }
 },
 "nbformat": 4,
 "nbformat_minor": 5
}
