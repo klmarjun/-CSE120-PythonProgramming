{
 "cells": [
  {
   "cell_type": "markdown",
   "metadata": {},
   "source": [
    "### Name: Arjun\n",
    "### Unique ID: E0222054\n",
    "### Subject: CSE 120 Python Programming "
   ]
  },
  {
   "cell_type": "raw",
   "metadata": {},
   "source": [
    "Q.NO: 1 Write a python code for converting length in cm to km"
   ]
  },
  {
   "cell_type": "code",
   "execution_count": 1,
   "metadata": {},
   "outputs": [
    {
     "name": "stdout",
     "output_type": "stream",
     "text": [
      "Enter a value: 4\n",
      "4.0 cm =  0.004 km\n"
     ]
    }
   ],
   "source": [
    "a = float(input(\"Enter a value: \"))\n",
    "convert = a/1000\n",
    "print(a ,\"cm = \",convert, \"km\")"
   ]
  },
  {
   "cell_type": "raw",
   "metadata": {},
   "source": [
    "Q.NO: 2 Write a python program to check whether given number is palindrome or not"
   ]
  },
  {
   "cell_type": "code",
   "execution_count": 1,
   "metadata": {},
   "outputs": [
    {
     "name": "stdout",
     "output_type": "stream",
     "text": [
      "Enter a number: 127\n",
      "7\n",
      "72\n",
      "721\n",
      "Reversed Number:  721\n",
      "Its not an Palindrome\n"
     ]
    }
   ],
   "source": [
    "num = int(input(\"Enter a number: \"))\n",
    "reversed_num = 0\n",
    "check = num\n",
    "\n",
    "while num >0 :\n",
    "    digit = num % 10\n",
    "    reversed_num = reversed_num * 10 + digit\n",
    "    print(reversed_num)\n",
    "    num //= 10\n",
    "\n",
    "print(\"Reversed Number: \",(reversed_num))\n",
    "\n",
    "if (check == reversed_num):\n",
    "    print(\"The number you entered is a Palindrome\")\n",
    "    \n",
    "else:\n",
    "    print(\"Its not an Palindrome\")"
   ]
  },
  {
   "cell_type": "raw",
   "metadata": {},
   "source": [
    "Q.NO: 3 Write a menu driven program for the following task\n",
    "    a. factorial number\n",
    "    b. Prime number\n",
    "    c. Digit Product \n",
    "    d. Digit Sum"
   ]
  },
  {
   "cell_type": "code",
   "execution_count": 16,
   "metadata": {},
   "outputs": [
    {
     "name": "stdout",
     "output_type": "stream",
     "text": [
      "Enter a number 45\n",
      "1.Factorial number\n",
      "2.Prime Number\n",
      "3.Digit product\n",
      "4.Digit Sum \n",
      "3\n",
      "Product of digits is  20\n"
     ]
    }
   ],
   "source": [
    "num = int(input(\"Enter a number \"))\n",
    "select = int(input(\"1.Factorial number\\n\" \"2.Prime Number\\n\"\n",
    "\"3.Digit product\\n\" \"4.Digit Sum \\n\"))\n",
    "\n",
    "if select == 1:\n",
    "    factorial = 1\n",
    "    for i in range (1,num+1):\n",
    "        factorial *= i\n",
    "        \n",
    "    print(\"The Factorial of\",num, \"is: \",end =\"\")\n",
    "    print(factorial)\n",
    "    \n",
    "elif select == 2:\n",
    "    temp = True\n",
    "    if num > 1:\n",
    "        for i in range(2,num//2 + 1):\n",
    "            if num % i == 0:\n",
    "                temp = False\n",
    "                break\n",
    "        if temp:\n",
    "            print(\"It is a Prime Number\")\n",
    "        else:\n",
    "            print(\"It is not a prime number\")\n",
    "    else:\n",
    "        print(\"It is not a prime number\")\n",
    "        \n",
    "elif select == 3:\n",
    "    product = 1\n",
    "\n",
    "    while num > 0:\n",
    "        digit = num % 10\n",
    "        product = product*digit\n",
    "        num = num//10\n",
    "    print(\"Product of digits is \",product)\n",
    "    \n",
    "elif select == 4:\n",
    "    sum_val = 0\n",
    "    while num > 0:\n",
    "        digit = num % 10\n",
    "        num = num//10\n",
    "        sum_val = sum_val + digit\n",
    "        \n",
    "    print(\"Sum of digits is \",sum_val)\n",
    "\n"
   ]
  },
  {
   "cell_type": "raw",
   "metadata": {},
   "source": [
    "Q.NO 4: Write a program to check whether given input is vowel or not"
   ]
  },
  {
   "cell_type": "code",
   "execution_count": 3,
   "metadata": {},
   "outputs": [
    {
     "name": "stdout",
     "output_type": "stream",
     "text": [
      "Enter Character e\n",
      "It is a vowel in lower case\n"
     ]
    }
   ],
   "source": [
    "inp = input(\"Enter Character \")\n",
    "if inp in \"aeiou\":\n",
    "    print(\"It is a vowel in lower case\")       \n",
    "elif inp in [\"A\",\"E\",\"I\",\"O\",\"U\"]:  \n",
    "    print(\"It is a vowel in upper case\")\n",
    "else:\n",
    "    print(\"It is a consonant\")"
   ]
  },
  {
   "cell_type": "raw",
   "metadata": {},
   "source": [
    "Q.NO 5: Write a program that prompts the user to enter a string. The program calculates and displays the length of the string until user enters \"quit\".\n",
    "    HINT: use while loop"
   ]
  },
  {
   "cell_type": "code",
   "execution_count": 29,
   "metadata": {},
   "outputs": [
    {
     "name": "stdout",
     "output_type": "stream",
     "text": [
      "Enter a String:a\n",
      "The length of the string is  1\n",
      "Enter a String:dhuiasf\n",
      "The length of the string is  7\n",
      "Enter a String:iufa\n",
      "The length of the string is  4\n",
      "Enter a String:quit\n"
     ]
    }
   ],
   "source": [
    "while True:\n",
    "    inp = input('Enter a String:')\n",
    "    if inp == \"quit\":\n",
    "        break\n",
    "    r = len(inp)\n",
    "    print(\"The length of the string is \",r)"
   ]
  },
  {
   "cell_type": "raw",
   "metadata": {},
   "source": [
    "Q.NO 6: Write a program to calculate parking charge of a vehicle. Enter the type of vehicle as character (c for car, b for bus, K for bike)\n",
    "    and number of hours, then calculate charge as given below \n",
    "    Bus- 20 per Hour\n",
    "    Bike - 10 per hour \n",
    "    Car - 15 Per Hour\n"
   ]
  },
  {
   "cell_type": "code",
   "execution_count": 28,
   "metadata": {},
   "outputs": [
    {
     "name": "stdout",
     "output_type": "stream",
     "text": [
      "Enter number of hours:5\n",
      "1.c for Car\n",
      "2.b for Bus\n",
      "3.k for Bike\n",
      "k\n",
      "Fare is 50 Rs\n"
     ]
    }
   ],
   "source": [
    "time = int(input(\"Enter number of hours:\"))\n",
    "select =(input(\"1.c for Car\\n2.b for Bus\\n3.k for Bike\\n\"))\n",
    "if (select == \"c\"):\n",
    "    fare = time*15\n",
    "    print(\"Fare is\",fare,\"Rs\")\n",
    "elif select == \"b\":\n",
    "    fare = time*20\n",
    "    print(\"Fare is\",fare,\"Rs\")\n",
    "elif select == \"k\":\n",
    "    fare = time*10\n",
    "    print(\"Fare is\",fare,\"Rs\")\n",
    "else:\n",
    "    print(\"Please enter a valid input\")\n",
    "\n",
    "    \n",
    "\n",
    "\n"
   ]
  },
  {
   "cell_type": "code",
   "execution_count": null,
   "metadata": {},
   "outputs": [],
   "source": []
  }
 ],
 "metadata": {
  "kernelspec": {
   "display_name": "Python 3 (ipykernel)",
   "language": "python",
   "name": "python3"
  },
  "language_info": {
   "codemirror_mode": {
    "name": "ipython",
    "version": 3
   },
   "file_extension": ".py",
   "mimetype": "text/x-python",
   "name": "python",
   "nbconvert_exporter": "python",
   "pygments_lexer": "ipython3",
   "version": "3.9.12"
  }
 },
 "nbformat": 4,
 "nbformat_minor": 4
}
