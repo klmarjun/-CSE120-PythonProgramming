{
 "cells": [
  {
   "cell_type": "markdown",
   "id": "7bf8dd17",
   "metadata": {},
   "source": [
    "syntax\n",
    "def name(parameter): #defining the function\n",
    "    pass\n",
    "name(argument) #calling the function"
   ]
  },
  {
   "cell_type": "code",
   "execution_count": 6,
   "id": "fa888569",
   "metadata": {},
   "outputs": [
    {
     "name": "stdout",
     "output_type": "stream",
     "text": [
      "ENter name: Arjun\n",
      "My name is: Mike\n"
     ]
    }
   ],
   "source": [
    "def sample(name):\n",
    "    n = input(\"ENter name: \")\n",
    "\n",
    "    print(\"My name is:\",name)\n",
    "sample(n)"
   ]
  },
  {
   "cell_type": "code",
   "execution_count": 5,
   "id": "6d9b9fc5",
   "metadata": {},
   "outputs": [
    {
     "name": "stdout",
     "output_type": "stream",
     "text": [
      "Addition: 9\n",
      "Multiplication: 20\n"
     ]
    }
   ],
   "source": [
    "def calc(a,b):\n",
    "    print(\"Addition:\",a+b)\n",
    "    print('Multiplication:',a*b)\n",
    "calc(5,4)"
   ]
  },
  {
   "cell_type": "code",
   "execution_count": 6,
   "id": "3c290212",
   "metadata": {},
   "outputs": [
    {
     "name": "stdout",
     "output_type": "stream",
     "text": [
      "Enter a number to Cube: 5\n",
      "The cube of the entered number is: 125\n"
     ]
    }
   ],
   "source": [
    "def cube(num):\n",
    "    return num**3\n",
    "inp = int(input(\"Enter a number to Cube: \"))\n",
    "print(\"The cube of the entered number is:\",cube(inp))"
   ]
  },
  {
   "cell_type": "markdown",
   "id": "d319d1a4",
   "metadata": {},
   "source": [
    "More on defining the function\n",
    "    1.Required Argument\n",
    "    2.keyword Argument\n",
    "    3.Default Argument"
   ]
  },
  {
   "cell_type": "raw",
   "id": "f202a959",
   "metadata": {},
   "source": [
    "# no of parameters must be equal to number of arguments\n",
    "def calc(a,b):\n",
    "    print(\"Addition:\",a+b)\n",
    "    print('Multiplication:',a*b)\n",
    "calc(5)"
   ]
  },
  {
   "cell_type": "code",
   "execution_count": 15,
   "id": "af5ecb94",
   "metadata": {},
   "outputs": [
    {
     "name": "stdout",
     "output_type": "stream",
     "text": [
      "My name is Mike\n",
      "My Id is  E0222054\n"
     ]
    }
   ],
   "source": [
    "#keyword argument\n",
    "def display(name,id):\n",
    "    print('My name is',name)\n",
    "    print('My Id is ',id)\n",
    "display(id =\"E0222054\",name = \"Mike\")"
   ]
  },
  {
   "cell_type": "code",
   "execution_count": 10,
   "id": "d22abc94",
   "metadata": {},
   "outputs": [
    {
     "name": "stdout",
     "output_type": "stream",
     "text": [
      "Name:  Mike\n",
      "Id:  789\n",
      "Subject:  Python\n"
     ]
    }
   ],
   "source": [
    "#default argument\n",
    "def display(name,id,sub= \"Python\"):\n",
    "    print(\"Name: \",name)\n",
    "    print(\"Id: \",id)\n",
    "    print(\"Subject: \",sub)\n",
    "display(\"Mike\",\"789\") #if element entered in the line of calling the function then it is displayed\n",
    "#if the user gives the value of variable while defining the function then that is printed"
   ]
  },
  {
   "cell_type": "code",
   "execution_count": 12,
   "id": "65e3dd17",
   "metadata": {},
   "outputs": [
    {
     "name": "stdout",
     "output_type": "stream",
     "text": [
      "Original list:  ['', 'Python', 'Java', '']\n",
      "Updated list:  ['Python', 'Java']\n"
     ]
    }
   ],
   "source": [
    "#Remove empty string in a list\n",
    "\n",
    "lst = [\"\",\"Python\",\"Java\",\"\"]\n",
    "print(\"Original list: \",str(lst))\n",
    "while(\"\" in lst):\n",
    "    lst.remove(\"\")\n",
    "print(\"Updated list: \",str(lst))"
   ]
  },
  {
   "cell_type": "code",
   "execution_count": 23,
   "id": "7f8f2e06",
   "metadata": {},
   "outputs": [
    {
     "name": "stdout",
     "output_type": "stream",
     "text": [
      "Original list:  [10, 20, 30, 40, 10, 10, 30, 10]\n",
      "Updated list:  [20, 30, 40, 30]\n"
     ]
    }
   ],
   "source": [
    "#removing value 10 from the given list\n",
    "lst = [10,20,30,40,10,10,30,10]\n",
    "print(\"Original list: \",lst)\n",
    "while(10 in lst):\n",
    "    lst.remove(10)\n",
    "print(\"Updated list: \",lst)"
   ]
  },
  {
   "cell_type": "code",
   "execution_count": 25,
   "id": "521f4eb7",
   "metadata": {},
   "outputs": [
    {
     "name": "stdout",
     "output_type": "stream",
     "text": [
      "Enter the position of the element to be added:2\n",
      "Enter the Value to be added: 24\n",
      "Final list After inserting the value [10, 20, 24, 30, 40, 10, 10, 30, 10]\n"
     ]
    }
   ],
   "source": [
    "#inserting values\n",
    "lst = [10,20,30,40,10,10,30,10]\n",
    "pos = int(input(\"Enter the position of the element to be added:\"))\n",
    "val = int(input(\"Enter the Value to be added: \"))\n",
    "lst.insert(pos,val)\n",
    "print(\"Final list After inserting the value\",lst)"
   ]
  },
  {
   "cell_type": "code",
   "execution_count": 26,
   "id": "030c6d15",
   "metadata": {},
   "outputs": [
    {
     "data": {
      "text/plain": [
       "[10, 20, 30, 40, 10, 1000, 30, 10]"
      ]
     },
     "execution_count": 26,
     "metadata": {},
     "output_type": "execute_result"
    }
   ],
   "source": [
    "#updating elements in list\n",
    "lst = [10,20,30,40,10,10,30,10]\n",
    "lst[5]= 1000\n",
    "lst"
   ]
  },
  {
   "cell_type": "code",
   "execution_count": null,
   "id": "b5863066",
   "metadata": {},
   "outputs": [],
   "source": []
  }
 ],
 "metadata": {
  "kernelspec": {
   "display_name": "Python 3 (ipykernel)",
   "language": "python",
   "name": "python3"
  },
  "language_info": {
   "codemirror_mode": {
    "name": "ipython",
    "version": 3
   },
   "file_extension": ".py",
   "mimetype": "text/x-python",
   "name": "python",
   "nbconvert_exporter": "python",
   "pygments_lexer": "ipython3",
   "version": "3.9.12"
  }
 },
 "nbformat": 4,
 "nbformat_minor": 5
}
