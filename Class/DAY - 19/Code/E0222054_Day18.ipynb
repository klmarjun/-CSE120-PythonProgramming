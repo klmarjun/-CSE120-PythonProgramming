{
 "cells": [
  {
   "cell_type": "code",
   "execution_count": 1,
   "id": "061da4c9",
   "metadata": {},
   "outputs": [
    {
     "name": "stdout",
     "output_type": "stream",
     "text": [
      "hello how are you\n",
      "Yes vowel is present\n",
      "['e', 'o', 'o', 'a', 'e', 'o', 'u']\n"
     ]
    }
   ],
   "source": [
    "import re\n",
    "msg = input()\n",
    "p = r'[aeiouAEIOU]'\n",
    "a = re.findall(p,msg)\n",
    "if re.findall(p,msg):\n",
    "    print(\"Yes vowel is present\")\n",
    "else:\n",
    "    print(\"No vowels\")\n",
    "print(a)\n",
    "\n",
    "    "
   ]
  },
  {
   "cell_type": "code",
   "execution_count": 3,
   "id": "11fc1e18",
   "metadata": {},
   "outputs": [
    {
     "data": {
      "text/plain": [
       "{'a', 'e', 'o', 'u'}"
      ]
     },
     "execution_count": 3,
     "metadata": {},
     "output_type": "execute_result"
    }
   ],
   "source": [
    "final_res = set(a)\n",
    "final_res"
   ]
  },
  {
   "cell_type": "code",
   "execution_count": 11,
   "id": "dbc46825",
   "metadata": {},
   "outputs": [
    {
     "name": "stdout",
     "output_type": "stream",
     "text": [
      "Valid Number:  ['7894561231', '9854761235']\n"
     ]
    }
   ],
   "source": [
    "#Write a program that validates a mobile phone number\n",
    "#the number should strat with 7 or 8 or 9 followed by 9 digitd\n",
    "p = r'[7-9]{1}[0-9]{9}'\n",
    "msg = \"4578961234 7894561231 845786 9854761235\"\n",
    "a = re.findall(p,msg)\n",
    "print(\"Valid Number: \",a)"
   ]
  },
  {
   "cell_type": "markdown",
   "id": "3df78dee",
   "metadata": {},
   "source": [
    "Write a program that uses a re to pluralize a word"
   ]
  },
  {
   "cell_type": "code",
   "execution_count": 23,
   "id": "a7df6599",
   "metadata": {
    "collapsed": true
   },
   "outputs": [
    {
     "name": "stdout",
     "output_type": "stream",
     "text": [
      "Enter the word: Hello\n"
     ]
    }
   ],
   "source": [
    "import re\n",
    "def plural(noun):\n",
    "    if re.search(r'[sxzh]$',noun):\n",
    "        return re.sub(\"$\",\"es\",noun)\n",
    "    elif re.search(r'[y]$',noun):\n",
    "        return re.sub(\"y$\",\"ies\",noun)\n",
    "    if re.search(r'[krnwg]$',noun):\n",
    "        return re.sub(\"$\",\"s\",noun)\n",
    "n = input(\"Enter the word: \")\n",
    "plural(n)\n",
    "    "
   ]
  },
  {
   "cell_type": "code",
   "execution_count": null,
   "id": "cfda9518",
   "metadata": {},
   "outputs": [],
   "source": [
    "p = \"^4[0-9]{12}(?:[0-9]{3})?$\";\n"
   ]
  },
  {
   "cell_type": "markdown",
   "id": "427daf97",
   "metadata": {},
   "source": [
    "a.\tIt will start with 3 or 6 or 8\n",
    "b.\tIt will have 16 digits\n",
    "c.\tIt will not end with 00"
   ]
  },
  {
   "cell_type": "code",
   "execution_count": 37,
   "id": "387b6bb5",
   "metadata": {},
   "outputs": [
    {
     "name": "stdout",
     "output_type": "stream",
     "text": [
      "Valid Number:  ['6894561231457878']\n"
     ]
    }
   ],
   "source": [
    "p=r'[3|6|8|9]{1}[0-9]{13}[1-9]{2}'\n",
    "msg = \"3578961234789545 6894561231457878 845786 9854761235587810\"\n",
    "a = re.findall(p,msg)\n",
    "print(\"Valid Number: \",a)"
   ]
  },
  {
   "cell_type": "code",
   "execution_count": 49,
   "id": "45235bb2",
   "metadata": {},
   "outputs": [
    {
     "name": "stdout",
     "output_type": "stream",
     "text": [
      "Valid Number:  []\n"
     ]
    },
    {
     "name": "stderr",
     "output_type": "stream",
     "text": [
      "C:\\Users\\klmar\\AppData\\Local\\Temp\\ipykernel_33728\\2438657947.py:3: FutureWarning: Possible nested set at position 20\n",
      "  a = re.findall(p,msg)\n",
      "C:\\Users\\klmar\\AppData\\Local\\Temp\\ipykernel_33728\\2438657947.py:3: FutureWarning: Possible nested set at position 37\n",
      "  a = re.findall(p,msg)\n"
     ]
    }
   ],
   "source": [
    "p=r'[3|6|8]{1}[0-9]{13}[[0]{1}[1-9]{1}]|[[1-9]{1}[0]{1}]'\n",
    "msg = \"3578961234789545 6894561231457878 845786 9854761235587810\"\n",
    "a = re.findall(p,msg)\n",
    "print(\"Valid Number: \",a)"
   ]
  },
  {
   "cell_type": "code",
   "execution_count": 50,
   "id": "399a02dd",
   "metadata": {},
   "outputs": [
    {
     "data": {
      "text/plain": [
       "[45, 42]"
      ]
     },
     "execution_count": 50,
     "metadata": {},
     "output_type": "execute_result"
    }
   ],
   "source": [
    "l1 = [45]\n",
    "l2 = [42]\n",
    "l1+l2"
   ]
  },
  {
   "cell_type": "code",
   "execution_count": null,
   "id": "69e2b9b0",
   "metadata": {},
   "outputs": [],
   "source": []
  }
 ],
 "metadata": {
  "kernelspec": {
   "display_name": "Python 3 (ipykernel)",
   "language": "python",
   "name": "python3"
  },
  "language_info": {
   "codemirror_mode": {
    "name": "ipython",
    "version": 3
   },
   "file_extension": ".py",
   "mimetype": "text/x-python",
   "name": "python",
   "nbconvert_exporter": "python",
   "pygments_lexer": "ipython3",
   "version": "3.9.12"
  }
 },
 "nbformat": 4,
 "nbformat_minor": 5
}
