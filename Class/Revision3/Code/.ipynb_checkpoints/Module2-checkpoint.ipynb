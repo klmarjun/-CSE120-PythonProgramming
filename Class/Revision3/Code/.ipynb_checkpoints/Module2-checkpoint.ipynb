{
 "cells": [
  {
   "cell_type": "markdown",
   "id": "236d9808",
   "metadata": {},
   "source": [
    "### List is a mutable datatype\n",
    "### List is specified by []\n",
    "### elements are seperated by ,\n",
    "### list[start,stop,step]"
   ]
  },
  {
   "cell_type": "code",
   "execution_count": 23,
   "id": "576806dc",
   "metadata": {},
   "outputs": [
    {
     "name": "stdout",
     "output_type": "stream",
     "text": [
      "Enter no of elemets:4\n",
      "Enter  value: 55\n",
      "Enter  value: 5\n",
      "Enter  value: 74\n",
      "Enter  value: 35\n",
      "[5, 35, 55]\n"
     ]
    }
   ],
   "source": [
    "lst=[]\n",
    "fnl_lst = []\n",
    "num = int(input('Enter no of elemets:'))\n",
    "for i in range(num):\n",
    "    val = int(input('Enter  value: '))\n",
    "    if val%5 == 0:\n",
    "        fnl_lst.append(val)\n",
    "        fnl_lst.sort()    #sorting  a list\n",
    "print(fnl_lst)"
   ]
  },
  {
   "cell_type": "code",
   "execution_count": 25,
   "id": "c426d067",
   "metadata": {},
   "outputs": [
    {
     "name": "stdout",
     "output_type": "stream",
     "text": [
      "[6, 18, 6]\n"
     ]
    }
   ],
   "source": [
    "lst = [4,5,7,6,18,7,6]\n",
    "final_lst = []\n",
    "for i in lst:\n",
    "    if i %3 == 0:\n",
    "        final_lst.append(i)\n",
    "        \n",
    "print(final_lst)"
   ]
  },
  {
   "cell_type": "code",
   "execution_count": 26,
   "id": "30f503b9",
   "metadata": {},
   "outputs": [
    {
     "data": {
      "text/plain": [
       "{4, 5, 6, 7, 18}"
      ]
     },
     "execution_count": 26,
     "metadata": {},
     "output_type": "execute_result"
    }
   ],
   "source": [
    "set(lst)"
   ]
  },
  {
   "cell_type": "code",
   "execution_count": 27,
   "id": "72cba81e",
   "metadata": {},
   "outputs": [],
   "source": [
    "lst= [4,7,5]\n",
    "lst.reverse()"
   ]
  },
  {
   "cell_type": "code",
   "execution_count": 28,
   "id": "5bd321f0",
   "metadata": {},
   "outputs": [
    {
     "data": {
      "text/plain": [
       "[5, 7, 4]"
      ]
     },
     "execution_count": 28,
     "metadata": {},
     "output_type": "execute_result"
    }
   ],
   "source": [
    "lst"
   ]
  },
  {
   "cell_type": "code",
   "execution_count": 29,
   "id": "a43d3de9",
   "metadata": {},
   "outputs": [],
   "source": [
    "lst = [\"Python\",\"C\",\"JAva\"]\n",
    "lst.reverse()"
   ]
  },
  {
   "cell_type": "code",
   "execution_count": 30,
   "id": "bd4a6bfd",
   "metadata": {},
   "outputs": [
    {
     "data": {
      "text/plain": [
       "['JAva', 'C', 'Python']"
      ]
     },
     "execution_count": 30,
     "metadata": {},
     "output_type": "execute_result"
    }
   ],
   "source": [
    "lst"
   ]
  },
  {
   "cell_type": "code",
   "execution_count": 31,
   "id": "b3642d3d",
   "metadata": {},
   "outputs": [],
   "source": [
    "lst.sort()"
   ]
  },
  {
   "cell_type": "code",
   "execution_count": 32,
   "id": "fbdf922d",
   "metadata": {},
   "outputs": [
    {
     "data": {
      "text/plain": [
       "['C', 'JAva', 'Python']"
      ]
     },
     "execution_count": 32,
     "metadata": {},
     "output_type": "execute_result"
    }
   ],
   "source": [
    "lst"
   ]
  },
  {
   "cell_type": "code",
   "execution_count": 33,
   "id": "f76df5a0",
   "metadata": {},
   "outputs": [
    {
     "data": {
      "text/plain": [
       "2"
      ]
     },
     "execution_count": 33,
     "metadata": {},
     "output_type": "execute_result"
    }
   ],
   "source": [
    "10>>2"
   ]
  },
  {
   "cell_type": "code",
   "execution_count": 34,
   "id": "ad78cdb9",
   "metadata": {},
   "outputs": [
    {
     "data": {
      "text/plain": [
       "40"
      ]
     },
     "execution_count": 34,
     "metadata": {},
     "output_type": "execute_result"
    }
   ],
   "source": [
    "10<<2"
   ]
  },
  {
   "cell_type": "code",
   "execution_count": 38,
   "id": "191cf5cd",
   "metadata": {},
   "outputs": [
    {
     "name": "stdout",
     "output_type": "stream",
     "text": [
      "Enter no.of elements: 4\n",
      "Enter some value: 5\n",
      "Enter some value: 7\n",
      "Enter some value: -8\n",
      "Enter some value: -2\n",
      "[5, 7]\n",
      "[-8, -2]\n"
     ]
    }
   ],
   "source": [
    "lst = []\n",
    "pos_lst = []\n",
    "neg_lst = []\n",
    "num = int(input(\"Enter no.of elements: \"))\n",
    "for i in range(num):\n",
    "    a = int(input(\"Enter some value: \"))\n",
    "    lst.append(a)\n",
    "for i in lst:\n",
    "    if i>0:\n",
    "        pos_lst.append(i)\n",
    "    else:\n",
    "        neg_lst.append(i)\n",
    "    \n",
    "print(pos_lst)\n",
    "print(neg_lst)"
   ]
  },
  {
   "cell_type": "code",
   "execution_count": 39,
   "id": "5ea597b5",
   "metadata": {},
   "outputs": [
    {
     "name": "stdout",
     "output_type": "stream",
     "text": [
      "Enter no.of elements: 4\n",
      "Enter some value: 300\n",
      "Enter some value: 100\n",
      "Enter some value: 51\n",
      "Enter some value: 78\n",
      "['Excess', 100, 51, 78]\n"
     ]
    }
   ],
   "source": [
    "lst = []\n",
    "num = int(input(\"Enter no.of elements: \"))\n",
    "for i in range(num):\n",
    "    a = int(input(\"Enter some value: \"))\n",
    "    if a>100:\n",
    "        lst.append(\"Excess\")\n",
    "    else:\n",
    "        lst.append(a)\n",
    "print(lst)"
   ]
  },
  {
   "cell_type": "markdown",
   "id": "5a45b9b6",
   "metadata": {},
   "source": [
    "# Tuple"
   ]
  },
  {
   "cell_type": "code",
   "execution_count": 40,
   "id": "78ddc7ef",
   "metadata": {},
   "outputs": [
    {
     "data": {
      "text/plain": [
       "3"
      ]
     },
     "execution_count": 40,
     "metadata": {},
     "output_type": "execute_result"
    }
   ],
   "source": [
    "tup = (5,2,3,7,8,5,5)\n",
    "tup.count(5)"
   ]
  },
  {
   "cell_type": "code",
   "execution_count": 43,
   "id": "66ee1a81",
   "metadata": {},
   "outputs": [
    {
     "name": "stdout",
     "output_type": "stream",
     "text": [
      "Enter a number7\n",
      "2\n"
     ]
    }
   ],
   "source": [
    "lst = [7,8,9,5,7,8,7]\n",
    "i =0\n",
    "count = 0\n",
    "char = int(input(\"Enter a number\"))\n",
    "while True:\n",
    "    if lst[i]== char:\n",
    "        count+=1\n",
    "    i+=1\n",
    "    if i+1==len(lst):\n",
    "        break\n",
    "print(count)"
   ]
  },
  {
   "cell_type": "code",
   "execution_count": 1,
   "id": "6c29e766",
   "metadata": {},
   "outputs": [
    {
     "name": "stdout",
     "output_type": "stream",
     "text": [
      "Enter a number7\n",
      "3\n"
     ]
    }
   ],
   "source": [
    "lst = [7,8,9,5,7,8,7]\n",
    "i =0\n",
    "count = 0\n",
    "char = int(input(\"Enter a number\"))\n",
    "while True:\n",
    "    if lst[i]== char:\n",
    "        count+=1\n",
    "    if i+1==len(lst):\n",
    "        break\n",
    "    i+=1\n",
    "print(count)"
   ]
  },
  {
   "cell_type": "code",
   "execution_count": 2,
   "id": "b3f6bb75",
   "metadata": {},
   "outputs": [
    {
     "data": {
      "text/plain": [
       "{0: 0, 1: 1, 2: 4, 3: 9, 4: 16, 5: 25, 6: 36, 7: 49, 8: 64, 9: 81}"
      ]
     },
     "execution_count": 2,
     "metadata": {},
     "output_type": "execute_result"
    }
   ],
   "source": [
    "dictionary = {}\n",
    "for i in range(10):\n",
    "    dictionary[i] = i**2\n",
    "dictionary"
   ]
  },
  {
   "cell_type": "code",
   "execution_count": 3,
   "id": "a3539ab1",
   "metadata": {},
   "outputs": [],
   "source": [
    "dictionary = {4:7,\"Name\":\"Arjun\"}"
   ]
  },
  {
   "cell_type": "code",
   "execution_count": 4,
   "id": "408acebe",
   "metadata": {},
   "outputs": [
    {
     "data": {
      "text/plain": [
       "dict_values([7, 'Arjun'])"
      ]
     },
     "execution_count": 4,
     "metadata": {},
     "output_type": "execute_result"
    }
   ],
   "source": [
    "dictionary.values()"
   ]
  },
  {
   "cell_type": "code",
   "execution_count": 5,
   "id": "d54a68d4",
   "metadata": {},
   "outputs": [
    {
     "data": {
      "text/plain": [
       "dict_keys([4, 'Name'])"
      ]
     },
     "execution_count": 5,
     "metadata": {},
     "output_type": "execute_result"
    }
   ],
   "source": [
    "dictionary.keys()"
   ]
  },
  {
   "cell_type": "code",
   "execution_count": 6,
   "id": "633b50af",
   "metadata": {},
   "outputs": [
    {
     "data": {
      "text/plain": [
       "dict_items([(4, 7), ('Name', 'Arjun')])"
      ]
     },
     "execution_count": 6,
     "metadata": {},
     "output_type": "execute_result"
    }
   ],
   "source": [
    "dictionary.items()"
   ]
  },
  {
   "cell_type": "code",
   "execution_count": 7,
   "id": "54f1fb99",
   "metadata": {},
   "outputs": [],
   "source": [
    "dictionary.clear()"
   ]
  },
  {
   "cell_type": "code",
   "execution_count": 8,
   "id": "7d3aa27c",
   "metadata": {},
   "outputs": [
    {
     "data": {
      "text/plain": [
       "{}"
      ]
     },
     "execution_count": 8,
     "metadata": {},
     "output_type": "execute_result"
    }
   ],
   "source": [
    "dictionary"
   ]
  },
  {
   "cell_type": "code",
   "execution_count": 9,
   "id": "ada2256d",
   "metadata": {},
   "outputs": [],
   "source": [
    "dictionary = {4:7,\"Name\":\"Arjun\"}"
   ]
  },
  {
   "cell_type": "code",
   "execution_count": 17,
   "id": "e3bd9d23",
   "metadata": {},
   "outputs": [
    {
     "data": {
      "text/plain": [
       "{}"
      ]
     },
     "execution_count": 17,
     "metadata": {},
     "output_type": "execute_result"
    }
   ],
   "source": [
    "dictionary.fromkeys(a)\n"
   ]
  },
  {
   "cell_type": "code",
   "execution_count": 18,
   "id": "e30642ac",
   "metadata": {},
   "outputs": [
    {
     "data": {
      "text/plain": [
       "'PYTHON'"
      ]
     },
     "execution_count": 18,
     "metadata": {},
     "output_type": "execute_result"
    }
   ],
   "source": [
    "str = \"Python\"\n",
    "str.upper()"
   ]
  },
  {
   "cell_type": "code",
   "execution_count": 19,
   "id": "7aed0293",
   "metadata": {},
   "outputs": [
    {
     "data": {
      "text/plain": [
       "'python'"
      ]
     },
     "execution_count": 19,
     "metadata": {},
     "output_type": "execute_result"
    }
   ],
   "source": [
    "str.lower()"
   ]
  },
  {
   "cell_type": "code",
   "execution_count": 21,
   "id": "4de37e2a",
   "metadata": {},
   "outputs": [
    {
     "data": {
      "text/plain": [
       "True"
      ]
     },
     "execution_count": 21,
     "metadata": {},
     "output_type": "execute_result"
    }
   ],
   "source": [
    "val = \" \"\n",
    "val.isspace()"
   ]
  },
  {
   "cell_type": "markdown",
   "id": "482ffcb5",
   "metadata": {},
   "source": [
    "# Module5"
   ]
  },
  {
   "cell_type": "markdown",
   "id": "9700f46d",
   "metadata": {},
   "source": [
    "#Regular Expression\n",
    "1. Match - matches only the first word\n",
    "2. search - searches the entire statement\n",
    "3. findall - finding a value with patterns\n",
    "4. Sub - replace()"
   ]
  },
  {
   "cell_type": "code",
   "execution_count": 23,
   "id": "822417b0",
   "metadata": {},
   "outputs": [
    {
     "name": "stdout",
     "output_type": "stream",
     "text": [
      "not found\n"
     ]
    }
   ],
   "source": [
    "import re\n",
    "msg = \"Hey all\"\n",
    "p = \"all\"\n",
    "if re.match(p,msg):\n",
    "    print(\"found\")\n",
    "else:\n",
    "    print('not found')"
   ]
  },
  {
   "cell_type": "markdown",
   "id": "609a1acf",
   "metadata": {},
   "source": []
  }
 ],
 "metadata": {
  "kernelspec": {
   "display_name": "Python 3 (ipykernel)",
   "language": "python",
   "name": "python3"
  },
  "language_info": {
   "codemirror_mode": {
    "name": "ipython",
    "version": 3
   },
   "file_extension": ".py",
   "mimetype": "text/x-python",
   "name": "python",
   "nbconvert_exporter": "python",
   "pygments_lexer": "ipython3",
   "version": "3.9.12"
  }
 },
 "nbformat": 4,
 "nbformat_minor": 5
}
