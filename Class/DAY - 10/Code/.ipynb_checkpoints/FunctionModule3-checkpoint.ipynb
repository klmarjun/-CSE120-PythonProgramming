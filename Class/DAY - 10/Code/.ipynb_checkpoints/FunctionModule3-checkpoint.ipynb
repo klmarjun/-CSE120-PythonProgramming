{
 "cells": [
  {
   "cell_type": "code",
   "execution_count": 4,
   "id": "9c656d22",
   "metadata": {},
   "outputs": [
    {
     "name": "stdout",
     "output_type": "stream",
     "text": [
      "Enter a Number: 2\n"
     ]
    },
    {
     "data": {
      "text/plain": [
       "('The resultant value is', 32)"
      ]
     },
     "execution_count": 4,
     "metadata": {},
     "output_type": "execute_result"
    }
   ],
   "source": [
    "num = int(input(\"Enter a Number: \"))\n",
    "def solve(x):\n",
    "    return \"The resultant value is\",6*x**2+3*(x)+2\n",
    "solve(num)"
   ]
  },
  {
   "cell_type": "code",
   "execution_count": 2,
   "id": "c162802f",
   "metadata": {},
   "outputs": [
    {
     "data": {
      "text/plain": [
       "('The resultant value is', 32)"
      ]
     },
     "execution_count": 2,
     "metadata": {},
     "output_type": "execute_result"
    }
   ],
   "source": [
    "solve(2)"
   ]
  },
  {
   "cell_type": "code",
   "execution_count": 5,
   "id": "1de820ae",
   "metadata": {},
   "outputs": [
    {
     "name": "stdout",
     "output_type": "stream",
     "text": [
      "1\n",
      "2\n",
      "3\n",
      "4\n"
     ]
    }
   ],
   "source": [
    "for i in range(1,5):\n",
    "    print(i)"
   ]
  },
  {
   "cell_type": "code",
   "execution_count": 9,
   "id": "4f9cbf2d",
   "metadata": {},
   "outputs": [
    {
     "name": "stdout",
     "output_type": "stream",
     "text": [
      "\n",
      "1 \n",
      "1 2 \n",
      "1 2 3 \n",
      "1 2 3 4 "
     ]
    }
   ],
   "source": [
    "for i in range(1,5):\n",
    "    print()\n",
    "    for j in range(1,i+1):\n",
    "        print(j,end =\" \")"
   ]
  },
  {
   "cell_type": "code",
   "execution_count": 15,
   "id": "cb72634e",
   "metadata": {},
   "outputs": [
    {
     "name": "stdout",
     "output_type": "stream",
     "text": [
      "\n",
      "1 \n",
      "2 2 \n",
      "3 3 3 \n",
      "4 4 4 4 "
     ]
    }
   ],
   "source": [
    "for i in range(1,5):\n",
    "    print()\n",
    "    for j in range(1,i+1):\n",
    "        print(i,end =\" \")"
   ]
  },
  {
   "cell_type": "code",
   "execution_count": 18,
   "id": "a16d503d",
   "metadata": {},
   "outputs": [
    {
     "name": "stdout",
     "output_type": "stream",
     "text": [
      "Enter a number: 5\n",
      "        1 \n",
      "        1 2 \n",
      "        1 2 3 \n",
      "        1 2 3 4 \n",
      "        1 2 3 4 5 \n"
     ]
    }
   ],
   "source": [
    "num = int(input(\"Enter a number: \"))\n",
    "for i in range(1,num+1):\n",
    "    for k in range(num,i,-1):\n",
    "        print(\" \",end = \" \")\n",
    "    for j in range(1,i+1):\n",
    "        print(j,end = \" \")\n",
    "    "
   ]
  },
  {
   "cell_type": "code",
   "execution_count": 17,
   "id": "aaa7b3dd",
   "metadata": {},
   "outputs": [
    {
     "name": "stdout",
     "output_type": "stream",
     "text": [
      "Enter a number: 5\n",
      "        1 \n",
      "      2 2 \n",
      "    3 3 3 \n",
      "  4 4 4 4 \n",
      "5 5 5 5 5 \n"
     ]
    }
   ],
   "source": [
    "num = int(input(\"Enter a number: \"))\n",
    "for i in range(1,num+1):\n",
    "    for k in range(num,i,-1):\n",
    "        print(\" \",end = \" \")\n",
    "    for j in range(1,i+1):\n",
    "        print(i,end = \" \")\n",
    "    print()"
   ]
  },
  {
   "cell_type": "markdown",
   "id": "2ffb969d",
   "metadata": {},
   "source": [
    "# Exception Handling"
   ]
  },
  {
   "cell_type": "markdown",
   "id": "2aeb3590",
   "metadata": {},
   "source": [
    "1. Runtime Error - Poor understranding of the logic\n",
    "2.Compile time Error - Poor understanding of the program"
   ]
  },
  {
   "cell_type": "markdown",
   "id": "e5c3c47e",
   "metadata": {},
   "source": [
    "Exceptions are raised when the program is syntatically correct but the code reultant in an error\n",
    "Error:Errors are the problems in a program due to which the program will stop the execution.\n",
    "there are teo types of error\n",
    "Syntax errors (compile time error)\n",
    "Logical errors (Exceptions)"
   ]
  },
  {
   "cell_type": "code",
   "execution_count": 20,
   "id": "a4cea6d6",
   "metadata": {},
   "outputs": [
    {
     "name": "stdout",
     "output_type": "stream",
     "text": [
      "Enter the number: 10\n",
      "Enter the number: 0\n",
      "Number not divisibe by zero\n"
     ]
    }
   ],
   "source": [
    "temp1 = int(input('Enter the number: '))\n",
    "temp2 = int (input(\"Enter the number: \"))\n",
    "try:\n",
    "    res = temp1/temp2\n",
    "except:\n",
    "    print(\"Number not divisibe by zero\")\n",
    "else:\n",
    "    print(\"Result:\",res)"
   ]
  },
  {
   "cell_type": "code",
   "execution_count": 23,
   "id": "7dac6800",
   "metadata": {},
   "outputs": [
    {
     "name": "stdout",
     "output_type": "stream",
     "text": [
      "Enter the number: 45\n",
      "Enter the number: bih\n",
      "Invalid Input\n"
     ]
    }
   ],
   "source": [
    "temp1 = int(input('Enter the number: '))\n",
    "try:\n",
    "    temp2 = int (input(\"Enter the number: \"))\n",
    "    res = temp1/temp2\n",
    "except ZeroDivisionError:\n",
    "    print(\"Number not divisibe by zero\")\n",
    "except ValueError:\n",
    "    print(\"Invalid Input\")\n",
    "except:\n",
    "    print(\"Sorry\")\n",
    "else:\n",
    "    print(\"Result:\",res)"
   ]
  },
  {
   "cell_type": "code",
   "execution_count": null,
   "id": "9d7ecdac",
   "metadata": {},
   "outputs": [],
   "source": []
  }
 ],
 "metadata": {
  "kernelspec": {
   "display_name": "Python 3 (ipykernel)",
   "language": "python",
   "name": "python3"
  },
  "language_info": {
   "codemirror_mode": {
    "name": "ipython",
    "version": 3
   },
   "file_extension": ".py",
   "mimetype": "text/x-python",
   "name": "python",
   "nbconvert_exporter": "python",
   "pygments_lexer": "ipython3",
   "version": "3.9.12"
  }
 },
 "nbformat": 4,
 "nbformat_minor": 5
}
