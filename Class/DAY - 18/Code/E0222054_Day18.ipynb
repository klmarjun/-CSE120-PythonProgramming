{
 "cells": [
  {
   "cell_type": "markdown",
   "id": "b5695c78",
   "metadata": {},
   "source": [
    "search(srch_wrd,msg)\n",
    "match(srch_wrd,msg)\n",
    "sub(old_str,new_str,msg,count)\n",
    "findall(pattern,str)"
   ]
  },
  {
   "cell_type": "markdown",
   "id": "80b53809",
   "metadata": {},
   "source": [
    "r'[\\w.]+@[\\w.-]+' - Email ID\n",
    "r'[a-zA-Z]+ \\d+' - Any charcter followed by space and a digit"
   ]
  },
  {
   "cell_type": "markdown",
   "id": "6ec78e82",
   "metadata": {},
   "source": []
  },
  {
   "cell_type": "code",
   "execution_count": 3,
   "id": "4d678872",
   "metadata": {},
   "outputs": [
    {
     "name": "stdout",
     "output_type": "stream",
     "text": [
      "Arjun\n",
      "Yeah, vowel is present\n",
      "['A', 'u']\n"
     ]
    }
   ],
   "source": [
    "#Program to check if the string has at least one vowel\n",
    "import re\n",
    "msg = input()\n",
    "srch = r'[aeiouAeiou]'\n",
    "k = re.findall(srch,msg)\n",
    "#findall - Return a list of all non-overlapping matches in the string.\n",
    "if re.findall(srch,msg):\n",
    "    print(\"Yeah, vowel is present\")\n",
    "else:\n",
    "    print(\"No, vowel isnt present\")\n",
    "print(k)"
   ]
  },
  {
   "cell_type": "markdown",
   "id": "f5690a00",
   "metadata": {},
   "source": [
    "write a program that prints only words start with vowels"
   ]
  },
  {
   "cell_type": "code",
   "execution_count": 8,
   "id": "06adfc7d",
   "metadata": {},
   "outputs": [
    {
     "name": "stdout",
     "output_type": "stream",
     "text": [
      "Hello All!!\n"
     ]
    },
    {
     "data": {
      "text/plain": [
       "['All']"
      ]
     },
     "execution_count": 8,
     "metadata": {},
     "output_type": "execute_result"
    }
   ],
   "source": [
    "msg = input()\n",
    "#msg = \"Hello welcome to SRET, She is attending python class\"\n",
    "srch = r'\\b[aeiouAEIOU]\\w+'\n",
    "re.findall(srch,msg)"
   ]
  },
  {
   "cell_type": "markdown",
   "id": "f87be09c",
   "metadata": {},
   "source": [
    "write a program to extract a date from a given string"
   ]
  },
  {
   "cell_type": "code",
   "execution_count": 13,
   "id": "b6c4fd12",
   "metadata": {},
   "outputs": [
    {
     "name": "stdout",
     "output_type": "stream",
     "text": [
      "Nirmala 20-10-2010\n",
      "Employee date of joining is: ['10']\n"
     ]
    }
   ],
   "source": [
    "#write a program to extract a date from a given string\n",
    "msg = input()\n",
    "srch = r'\\d{2}-(\\d{2})-\\d{4}'\n",
    "a = re.findall(srch,msg)\n",
    "print(\"Employee date of joining is:\",a)"
   ]
  },
  {
   "cell_type": "code",
   "execution_count": 14,
   "id": "e4a38562",
   "metadata": {},
   "outputs": [
    {
     "data": {
      "text/plain": [
       "[' cl', ' go', ' we']"
      ]
     },
     "execution_count": 14,
     "metadata": {},
     "output_type": "execute_result"
    }
   ],
   "source": [
    "#write a program to print the pair of the word\n",
    "msg = \"Python classes going well\"\n",
    "p = r'\\w\\w'\n",
    "re.findall(p,msg)"
   ]
  },
  {
   "cell_type": "code",
   "execution_count": 16,
   "id": "5d5ae00e",
   "metadata": {},
   "outputs": [
    {
     "data": {
      "text/plain": [
       "['Classes']"
      ]
     },
     "execution_count": 16,
     "metadata": {},
     "output_type": "execute_result"
    }
   ],
   "source": [
    "msg = \"Python Classes Going well\"\n",
    "p = r'[(C|W)]\\w+'\n",
    "re.findall(p,msg)"
   ]
  },
  {
   "cell_type": "code",
   "execution_count": 44,
   "id": "ba4a7680",
   "metadata": {},
   "outputs": [
    {
     "name": "stdout",
     "output_type": "stream",
     "text": [
      "Class clue city cite\n"
     ]
    },
    {
     "data": {
      "text/plain": [
       "['clue', 'cite']"
      ]
     },
     "execution_count": 44,
     "metadata": {},
     "output_type": "execute_result"
    }
   ],
   "source": [
    "#Extract the word starting with c and end with e\n",
    "msg = input()\n",
    "p =r'\\bc\\S+e\\b'\n",
    "\n",
    "re.findall(p,msg)"
   ]
  },
  {
   "cell_type": "code",
   "execution_count": null,
   "id": "fd8c479b",
   "metadata": {},
   "outputs": [],
   "source": []
  },
  {
   "cell_type": "code",
   "execution_count": null,
   "id": "948b05f0",
   "metadata": {},
   "outputs": [],
   "source": []
  }
 ],
 "metadata": {
  "kernelspec": {
   "display_name": "Python 3 (ipykernel)",
   "language": "python",
   "name": "python3"
  },
  "language_info": {
   "codemirror_mode": {
    "name": "ipython",
    "version": 3
   },
   "file_extension": ".py",
   "mimetype": "text/x-python",
   "name": "python",
   "nbconvert_exporter": "python",
   "pygments_lexer": "ipython3",
   "version": "3.9.12"
  }
 },
 "nbformat": 4,
 "nbformat_minor": 5
}
