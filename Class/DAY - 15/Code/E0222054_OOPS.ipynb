{
 "cells": [
  {
   "cell_type": "markdown",
   "id": "c95d8117",
   "metadata": {},
   "source": [
    "OOPS Concept: (object oriented programming language)\n",
    "    class\n",
    "    object\n",
    "    abstraction\n",
    "    encapsulation\n",
    "    inheritance\n",
    "    polymorphism"
   ]
  },
  {
   "cell_type": "markdown",
   "id": "742835fa",
   "metadata": {},
   "source": [
    "Class is known as the blueprint\n",
    "    1. Member Variable\n",
    "    2. Member Method"
   ]
  },
  {
   "cell_type": "markdown",
   "id": "7637819e",
   "metadata": {},
   "source": [
    "object - gives result to the class"
   ]
  },
  {
   "cell_type": "code",
   "execution_count": 20,
   "id": "0783aeaf",
   "metadata": {},
   "outputs": [
    {
     "name": "stdout",
     "output_type": "stream",
     "text": [
      "Welcome\n"
     ]
    }
   ],
   "source": [
    "class Sret:\n",
    "    course = \"Python\"\n",
    "    def display(self):\n",
    "        print(\"Welcome\")\n",
    "\n",
    "#obj name = class name()\n",
    "#obj name.function_name()\n",
    "obj = Sret()\n",
    "obj.display()"
   ]
  },
  {
   "cell_type": "code",
   "execution_count": 11,
   "id": "3ec6fed1",
   "metadata": {},
   "outputs": [
    {
     "name": "stdout",
     "output_type": "stream",
     "text": [
      "Welcome to SRIHER\n",
      "Welcome to SRET\n"
     ]
    }
   ],
   "source": [
    "#single inheritance\n",
    "class Sriher:\n",
    "    def display(self):\n",
    "        print(\"Welcome to SRIHER\")\n",
    "class Sret(Sriher):\n",
    "    def show(self):\n",
    "        print(\"Welcome to SRET\")\n",
    "obj = Sret()\n",
    "obj.display()\n",
    "obj.show()"
   ]
  },
  {
   "cell_type": "code",
   "execution_count": 7,
   "id": "f9f5e3b6",
   "metadata": {},
   "outputs": [
    {
     "name": "stdout",
     "output_type": "stream",
     "text": [
      "First year class will start on 1st September\n",
      "\n",
      "First year class will start on 10th October\n",
      "\n",
      "First year class will start on 30th October\n",
      "\n"
     ]
    }
   ],
   "source": [
    "#Multilevel Inheritance\n",
    "class University():                  #super class\n",
    "    def text(self):\n",
    "        print(\"First year class will start on 1st September\\n\")\n",
    "class Sriher(University):            #derived class\n",
    "    def text1(self):\n",
    "        print(\"First year class will start on 10th October\\n\")\n",
    "class Sret(Sriher):                  #child class\n",
    "    def text2(self):\n",
    "        print(\"First year class will start on 30th October\\n\")\n",
    "obj = Sret()\n",
    "obj.text()\n",
    "obj.text1()\n",
    "obj.text2()"
   ]
  },
  {
   "cell_type": "code",
   "execution_count": 12,
   "id": "6c3d4a68",
   "metadata": {},
   "outputs": [
    {
     "name": "stdout",
     "output_type": "stream",
     "text": [
      "I am new to OOPS concept\n",
      "The topic is taught thru online mode\n",
      "My specialization is CYS and IOT\n"
     ]
    }
   ],
   "source": [
    "#multiple inheritance\n",
    "class University:\n",
    "    def text(self):\n",
    "        print(\"I am new to OOPS concept\")\n",
    "class Sriher:\n",
    "    def text1(self):\n",
    "        print(\"The topic is taught thru online mode\")\n",
    "class Sret(University,Sriher):\n",
    "    def text2(self):\n",
    "        print(\"My specialization is CYS and IOT\")\n",
    "obj = Sret()\n",
    "obj.text()\n",
    "obj.text1()\n",
    "obj.text2()"
   ]
  },
  {
   "cell_type": "code",
   "execution_count": 14,
   "id": "4ce2b701",
   "metadata": {},
   "outputs": [
    {
     "name": "stdout",
     "output_type": "stream",
     "text": [
      "Enter Value for num1\n",
      "6\n",
      "Enter value for num2\n",
      "2\n",
      "Addition :  8\n",
      "Subtraction :  4\n",
      "Division :  3.0\n",
      "Multiplication :  12\n",
      "Modulo :  0\n"
     ]
    }
   ],
   "source": [
    "#op 1\n",
    "class Addition:\n",
    "    def add(self,a,b):\n",
    "        return a+b\n",
    "#op2\n",
    "class Subtraction:\n",
    "    def sub(self,a,b):\n",
    "        return a-b\n",
    "#op 3\n",
    "class Division:\n",
    "    def div(self,a,b):\n",
    "        return a/b\n",
    "#op 4\n",
    "class Multiplication:\n",
    "    def mult(self,a,b):\n",
    "        return a*b\n",
    "class calculator(Addition,Subtraction,Division,Multiplication):\n",
    "    def modulo(self,a,b):\n",
    "        return a%b\n",
    "obj = calculator()\n",
    "inp_val1 = int(input(\"Enter Value for num1\\n\"))\n",
    "inp_val2 = int(input(\"Enter value for num2\\n\"))\n",
    "\n",
    "\n",
    "print(\"Addition : \",obj.add(inp_val1,inp_val2))\n",
    "print(\"Subtraction : \",obj.sub(inp_val1,inp_val2))\n",
    "print(\"Division : \",obj.div(inp_val1,inp_val2))\n",
    "print(\"Multiplication : \",obj.mult(inp_val1,inp_val2))\n",
    "print(\"Modulo : \",obj.modulo(inp_val1,inp_val2))"
   ]
  },
  {
   "cell_type": "code",
   "execution_count": 18,
   "id": "5195c18a",
   "metadata": {},
   "outputs": [
    {
     "name": "stdout",
     "output_type": "stream",
     "text": [
      "This is a class named University \n",
      "Inside class University, Class Sriher is available\n",
      "This is a class named University \n",
      "Inside class University, There is another class named Sret\n"
     ]
    }
   ],
   "source": [
    "#Hierarchical Clustering\n",
    "class University:  \n",
    "    def text1(self):  \n",
    "        print (\"This is a class named University \")  \n",
    "class Sriher(University):  \n",
    "    def text2(self):  \n",
    "        print (\"Inside class University, Class Sriher is available\")   \n",
    "class Sret(University):  \n",
    "    def text3(self):  \n",
    "        print (\"Inside class University, There is another class named Sret\")  \n",
    "obj_1 = Sriher() \n",
    "obj_2 = Sret()\n",
    "obj_1.text1() \n",
    "obj_1.text2()\n",
    "obj_2.text1() \n",
    "obj_2.text3()  "
   ]
  },
  {
   "cell_type": "code",
   "execution_count": 17,
   "id": "f80e6e10",
   "metadata": {},
   "outputs": [
    {
     "name": "stdout",
     "output_type": "stream",
     "text": [
      "Honda Car Mileage is 20 Kmph\n",
      "Tesla Car Mileage is 30 kmph\n",
      "Lambo Car Mileage is 100 kmph\n"
     ]
    }
   ],
   "source": [
    "#Abstraction - Providing only the essential info \n",
    "# A method where it doesnt have any implementation is known as abstarct method and the class is knwn as abstract class.\n",
    "from abc import ABC,abstractmethod\n",
    "class Car(ABC):\n",
    "    def mileage(self):\n",
    "        pass\n",
    "class Honda(Car):\n",
    "    def mileage(self):\n",
    "        print(\"Honda Car Mileage is 20 Kmph\")\n",
    "class Tesla(Car):\n",
    "    def mileage(self):\n",
    "        print(\"Tesla Car Mileage is 30 kmph\")\n",
    "class Lambo(Car):\n",
    "    def mileage(self):\n",
    "        print(\"Lambo Car Mileage is 100 kmph\")\n",
    "obj1 = Honda()\n",
    "obj1.mileage()\n",
    "obj2 = Tesla()\n",
    "obj2.mileage()\n",
    "obj3 = Lambo()\n",
    "obj3.mileage()\n",
    "\n",
    "\n"
   ]
  },
  {
   "cell_type": "code",
   "execution_count": 24,
   "id": "6f4acb6e",
   "metadata": {},
   "outputs": [
    {
     "name": "stdout",
     "output_type": "stream",
     "text": [
      "SBI Bank: 7\n",
      "ICICI Bank: 9\n"
     ]
    }
   ],
   "source": [
    "#method Overriding\n",
    "#Same function name and same number of parameter\n",
    "class Bank:\n",
    "    def getROI(self):\n",
    "        return 10\n",
    "class SBI(Bank):\n",
    "    def getROI (self):\n",
    "        return 7\n",
    "class ICICI(Bank):\n",
    "    def getROI(self):\n",
    "        return 9\n",
    "obj = SBI()\n",
    "print(\"SBI Bank:\",obj.getROI())\n",
    "obj1 = ICICI()\n",
    "print(\"ICICI Bank:\",obj1.getROI())\n"
   ]
  },
  {
   "cell_type": "code",
   "execution_count": null,
   "id": "c76b4315",
   "metadata": {},
   "outputs": [],
   "source": []
  }
 ],
 "metadata": {
  "kernelspec": {
   "display_name": "Python 3 (ipykernel)",
   "language": "python",
   "name": "python3"
  },
  "language_info": {
   "codemirror_mode": {
    "name": "ipython",
    "version": 3
   },
   "file_extension": ".py",
   "mimetype": "text/x-python",
   "name": "python",
   "nbconvert_exporter": "python",
   "pygments_lexer": "ipython3",
   "version": "3.9.12"
  }
 },
 "nbformat": 4,
 "nbformat_minor": 5
}
