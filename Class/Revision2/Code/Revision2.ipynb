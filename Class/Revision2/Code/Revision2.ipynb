{
 "cells": [
  {
   "cell_type": "markdown",
   "id": "b8a11251",
   "metadata": {},
   "source": [
    "# Module3"
   ]
  },
  {
   "cell_type": "markdown",
   "id": "3cda9b75",
   "metadata": {},
   "source": [
    "Required argument\n",
    "default argument\n",
    "Keyword Argument"
   ]
  },
  {
   "cell_type": "code",
   "execution_count": 62,
   "id": "39a6ccc8",
   "metadata": {},
   "outputs": [
    {
     "data": {
      "text/plain": [
       "11"
      ]
     },
     "execution_count": 62,
     "metadata": {},
     "output_type": "execute_result"
    }
   ],
   "source": [
    "def add(a,b):\n",
    "    return a+b\n",
    "add(5,6)"
   ]
  },
  {
   "cell_type": "code",
   "execution_count": 16,
   "id": "2cca66c1",
   "metadata": {},
   "outputs": [
    {
     "name": "stdout",
     "output_type": "stream",
     "text": [
      "Name:  Mike\n",
      "Dept:  Civil\n"
     ]
    }
   ],
   "source": [
    "#keyword argunment\n",
    "def info(name='',dept):\n",
    "    print(\"Name: \",name)\n",
    "    print(\"Dept: \",dept)\n",
    "info(name = \"Mike\",dept = \"Civil\")"
   ]
  },
  {
   "cell_type": "code",
   "execution_count": 61,
   "id": "12f01a2e",
   "metadata": {},
   "outputs": [
    {
     "ename": "SyntaxError",
     "evalue": "positional argument follows keyword argument (3674112284.py, line 11)",
     "output_type": "error",
     "traceback": [
      "\u001b[1;36m  Input \u001b[1;32mIn [61]\u001b[1;36m\u001b[0m\n\u001b[1;33m    info(name=input(\"Enter name\"),r)\u001b[0m\n\u001b[1;37m                                   ^\u001b[0m\n\u001b[1;31mSyntaxError\u001b[0m\u001b[1;31m:\u001b[0m positional argument follows keyword argument\n"
     ]
    }
   ],
   "source": [
    "#default argument \n",
    "def info(name ,rollno = 45):\n",
    "    r = int(input(\"ENter the roll no:\"))\n",
    "    print(\"Name: \",name)\n",
    "    print(\"Roll no: \",rollno)\n",
    "#info(name= int(input(\"enter name:\")),rollno =int(input(\"enter name:\")) )\n",
    "    if (len(r) == 0):\n",
    "        info(\"Arjun\",r)\n",
    "    else:\n",
    "        info(\"Arjun\")\n",
    "info(name=input(\"Enter name\"),r)"
   ]
  },
  {
   "cell_type": "code",
   "execution_count": 40,
   "id": "094735d4",
   "metadata": {},
   "outputs": [
    {
     "name": "stdout",
     "output_type": "stream",
     "text": [
      "Name:  Mike\n",
      "Dept:  Civil\n"
     ]
    }
   ],
   "source": [
    "#keyword argunment\n",
    "def info(name,dept):\n",
    "    print(\"Name: \",name)\n",
    "    print(\"Dept: \",dept)\n",
    "info(dept=\"Civil\", name=\"Mike\")"
   ]
  },
  {
   "cell_type": "code",
   "execution_count": 36,
   "id": "0c29d3a8",
   "metadata": {},
   "outputs": [
    {
     "name": "stdout",
     "output_type": "stream",
     "text": [
      "Enter NAme:Arjun\n",
      "Enter dept:AI\n",
      "MY name is Arjun\n",
      "MY dept is AI\n"
     ]
    }
   ],
   "source": [
    "def welcome(name,dept= \"CYS\"):\n",
    "    print(\"MY name is\",name)\n",
    "    print(\"MY dept is\",dept)\n",
    "n =input(\"Enter NAme:\")\n",
    "d = input(\"Enter dept:\")    \n",
    "if len(d) ==0:\n",
    "    welcome(n)\n",
    "else:\n",
    "    welcome(n,d)"
   ]
  },
  {
   "cell_type": "code",
   "execution_count": 58,
   "id": "b82ecd24",
   "metadata": {},
   "outputs": [
    {
     "name": "stdout",
     "output_type": "stream",
     "text": [
      "Enter the no.of nights stayed: 8\n",
      "12000\n",
      "Enter the no.of hours: 5\n",
      "Choose Any one:\n",
      "1 for CMBT\n",
      "2 for AnnaNagar\n",
      "3 for OMR1\n",
      "The amount to be paid is 915\n"
     ]
    }
   ],
   "source": [
    "def cost(nights):\n",
    "    print (1500*nights)\n",
    "    def plane_ride_cost(city):\n",
    "        hour = int(input(\"Enter the no.of hours: \"))\n",
    "        sel = int(input(\"Choose Any one:\\n1 for CMBT\\n2 for AnnaNagar\\n3 for OMR\"))\n",
    "        if sel == 1:\n",
    "            print( \"The amount to be paid is\",hour*183)\n",
    "        elif sel == 2:\n",
    "            print( \"The amount to be paid is\" ,hour*222)\n",
    "        elif sel == 3:\n",
    "            print( \"The amount to be paid is\", hour*475)\n",
    "    plane_ride_cost(\"sel\")\n",
    "cost(nights = int(input(\"Enter the no.of nights stayed: \")))"
   ]
  },
  {
   "cell_type": "code",
   "execution_count": 59,
   "id": "6a9a1e37",
   "metadata": {},
   "outputs": [
    {
     "data": {
      "text/plain": [
       "915"
      ]
     },
     "execution_count": 59,
     "metadata": {},
     "output_type": "execute_result"
    }
   ],
   "source": [
    "183*5"
   ]
  },
  {
   "cell_type": "code",
   "execution_count": 60,
   "id": "13b85f24",
   "metadata": {},
   "outputs": [
    {
     "name": "stdout",
     "output_type": "stream",
     "text": [
      "Enter the no.of hours: 5\n",
      "Choose Any one:\n",
      "1 for CMBT\n",
      "2 for AnnaNagar\n",
      "3 for OMR1\n",
      "The amount to be paid is 915\n",
      "Enter the no.of nights stayed: 6\n",
      "9000\n"
     ]
    }
   ],
   "source": [
    "def cost(nights):\n",
    "    print (1500*nights)\n",
    "def plane_ride_cost(city):\n",
    "    hour = int(input(\"Enter the no.of hours: \"))\n",
    "    sel = int(input(\"Choose Any one:\\n1 for CMBT\\n2 for AnnaNagar\\n3 for OMR\"))\n",
    "    if sel == 1:\n",
    "        print( \"The amount to be paid is\",hour*183)\n",
    "    elif sel == 2:\n",
    "        print( \"The amount to be paid is\" ,hour*222)\n",
    "    elif sel == 3:\n",
    "        print( \"The amount to be paid is\", hour*475)\n",
    "plane_ride_cost(\"sel\")\n",
    "cost(nights = int(input(\"Enter the no.of nights stayed: \")))"
   ]
  },
  {
   "cell_type": "code",
   "execution_count": 63,
   "id": "e9dc5fa4",
   "metadata": {},
   "outputs": [
    {
     "name": "stdout",
     "output_type": "stream",
     "text": [
      "Enter the contentHello \n"
     ]
    }
   ],
   "source": [
    "with open(\"First.py\",\"w\") as f:\n",
    "    inp = input(\"Enter the content\")\n",
    "    f.write(inp)\n",
    "    "
   ]
  },
  {
   "cell_type": "code",
   "execution_count": 64,
   "id": "ed3ee8a2",
   "metadata": {
    "scrolled": true
   },
   "outputs": [
    {
     "name": "stdout",
     "output_type": "stream",
     "text": [
      "Hello \n"
     ]
    }
   ],
   "source": [
    "with open(\"First.py\",\"r\") as f:\n",
    "    a = f.read()\n",
    "    print(a)"
   ]
  },
  {
   "cell_type": "code",
   "execution_count": 67,
   "id": "e8cc57ff",
   "metadata": {},
   "outputs": [
    {
     "data": {
      "text/plain": [
       "89"
      ]
     },
     "execution_count": 67,
     "metadata": {},
     "output_type": "execute_result"
    }
   ],
   "source": [
    "f = open(\"Test.txt\",\"w\")\n",
    "f.write(\"Python is dynamically typed lang and is easy to learn python syntax is similar to english\")\n"
   ]
  },
  {
   "cell_type": "code",
   "execution_count": 97,
   "id": "f7889c99",
   "metadata": {},
   "outputs": [
    {
     "name": "stdout",
     "output_type": "stream",
     "text": [
      "Enter File Name: Test.txt\n",
      "['Python', 'is', 'dynamically', 'typed', 'lang', 'and', 'is', 'easy', 'to', 'learn', 'python', 'syntax', 'is', 'similar', 'to', 'english']\n",
      "Enter The character to search: python\n",
      "The letter python appears 2 times in the file\n"
     ]
    }
   ],
   "source": [
    "f = open(\"Test.txt\",\"w\")\n",
    "f.write(\"Python is dynamically typed lang and is easy to learn python syntax is similar to english\")\n",
    "\n",
    "name = input(\"Enter File Name: \")\n",
    "with open(name,\"r\") as f1:\n",
    "    xt=f1.read()\n",
    "    a = xt.split(\" \")\n",
    "    print(a)\n",
    "    char_read = 0\n",
    "    ltr = input('Enter The character to search: ')\n",
    "    for char in a :\n",
    "        char = char.lower()\n",
    "        if char == ltr:\n",
    "            char_read+=1\n",
    "print('The letter',ltr,\"appears\",char_read,\"times in the file\")"
   ]
  },
  {
   "cell_type": "code",
   "execution_count": 68,
   "id": "05612096",
   "metadata": {},
   "outputs": [
    {
     "data": {
      "text/plain": [
       "'Test File'"
      ]
     },
     "execution_count": 68,
     "metadata": {},
     "output_type": "execute_result"
    }
   ],
   "source": [
    "f = open(\"Test.txt\")\n",
    "f.read()"
   ]
  },
  {
   "cell_type": "code",
   "execution_count": 93,
   "id": "b8fa45b8",
   "metadata": {},
   "outputs": [
    {
     "name": "stdout",
     "output_type": "stream",
     "text": [
      "Enter File Name: Test.txt\n"
     ]
    },
    {
     "ename": "ValueError",
     "evalue": "empty separator",
     "output_type": "error",
     "traceback": [
      "\u001b[1;31m---------------------------------------------------------------------------\u001b[0m",
      "\u001b[1;31mValueError\u001b[0m                                Traceback (most recent call last)",
      "Input \u001b[1;32mIn [93]\u001b[0m, in \u001b[0;36m<cell line: 5>\u001b[1;34m()\u001b[0m\n\u001b[0;32m      5\u001b[0m \u001b[38;5;28;01mwith\u001b[39;00m \u001b[38;5;28mopen\u001b[39m(name,\u001b[38;5;124m\"\u001b[39m\u001b[38;5;124mr\u001b[39m\u001b[38;5;124m\"\u001b[39m) \u001b[38;5;28;01mas\u001b[39;00m f1:\n\u001b[0;32m      6\u001b[0m     xt\u001b[38;5;241m=\u001b[39mf1\u001b[38;5;241m.\u001b[39mread()\n\u001b[1;32m----> 7\u001b[0m     \u001b[43mxt\u001b[49m\u001b[38;5;241;43m.\u001b[39;49m\u001b[43msplit\u001b[49m\u001b[43m(\u001b[49m\u001b[38;5;124;43m\"\u001b[39;49m\u001b[38;5;124;43m\"\u001b[39;49m\u001b[43m)\u001b[49m\n\u001b[0;32m      8\u001b[0m     \u001b[38;5;28mprint\u001b[39m(\u001b[38;5;28mlist\u001b[39m(xt))\n",
      "\u001b[1;31mValueError\u001b[0m: empty separator"
     ]
    }
   ],
   "source": [
    "f = open(\"Test.txt\",\"w\")\n",
    "f.write(\"Python is dynamically typed lang and is easy to learn python syntax is similar to english\")\n",
    "\n",
    "name = input(\"Enter File Name: \")\n",
    "with open(name,\"r\") as f1:\n",
    "    xt=f1.read()\n",
    "    xt.split(\"\")\n",
    "    print(list(xt))"
   ]
  },
  {
   "cell_type": "code",
   "execution_count": 76,
   "id": "0a774ceb",
   "metadata": {},
   "outputs": [
    {
     "name": "stdout",
     "output_type": "stream",
     "text": [
      "Enter File Name: Test.txt\n",
      "Python is dynamically typed lang and is easy to learn python syntax is similar to english,python\n",
      "['Python', 'is', 'dynamically', 'typed', 'lang', 'and', 'is', 'easy', 'to', 'learn', 'python', 'syntax', 'is', 'similar', 'to', 'english,', 'python']\n",
      "Enter The character to search: Python\n",
      "The letter python appears 3 times in the file\n"
     ]
    }
   ],
   "source": [
    "f = open(\"Test.txt\",\"w\")\n",
    "f.write(\"Python is dynamically typed lang and is easy to learn python syntax is similar to english,python\")\n",
    "f = open(\"Test.txt\",\"a\")\n",
    "f.write(\"Python\")\n",
    "\n",
    "name = input(\"Enter File Name: \")\n",
    "with open(name,\"r\") as f1:\n",
    "    xt=f1.read()\n",
    "    print(xt)\n",
    "    xt = xt.replace(\",\",\", \")\n",
    "    a = xt.split(\" \")\n",
    "    print(a)\n",
    "    char_read = 0\n",
    "    ltr = input('Enter The character to search: ')\n",
    "    ltr = ltr.lower()\n",
    "    for char in a :\n",
    "        char = char.lower()\n",
    "        if char == ltr:\n",
    "            char_read+=1\n",
    "print('The letter',ltr,\"appears\",char_read,\"times in the file\")"
   ]
  },
  {
   "cell_type": "code",
   "execution_count": 4,
   "id": "5940f412",
   "metadata": {},
   "outputs": [
    {
     "name": "stdout",
     "output_type": "stream",
     "text": [
      "Enter File Name: Test.txt\n",
      "Length of text is: 96\n",
      "Vowels: 24\n",
      "Consonants: 72\n",
      "Vowels Percentage: 25\n",
      "Consonants Percentage: 75\n"
     ]
    }
   ],
   "source": [
    "name = input(\"Enter File Name: \")\n",
    "with open(name,\"r\") as f1:\n",
    "    txt=f1.read()\n",
    "    vow_read = 0\n",
    "    cons_read = 0\n",
    "    for char in txt:\n",
    "        if char in \"aeiouAEIOU\":\n",
    "            vow_read+=1\n",
    "        else:\n",
    "            cons_read += 1\n",
    "print(\"Length of text is:\",len(txt))\n",
    "print(\"Vowels:\",vow_read)\n",
    "print(\"Consonants:\",cons_read)\n",
    "perc_vow = (vow_read*100)//len(txt)\n",
    "perc_cons = 100 - perc_vow\n",
    "print(\"Vowels Percentage:\",perc_vow)\n",
    "print(\"Consonants Percentage:\",perc_cons)"
   ]
  },
  {
   "cell_type": "code",
   "execution_count": 11,
   "id": "a26c7347",
   "metadata": {},
   "outputs": [
    {
     "name": "stdout",
     "output_type": "stream",
     "text": [
      "Enter File Name: Test.txt\n",
      "Length of text is: 96\n",
      "Vowels: 24\n",
      "Consonants: 72\n",
      "0\n",
      "Vowels Percentage: 25\n",
      "Consonants Percentage: 75\n"
     ]
    }
   ],
   "source": [
    "name = input(\"Enter File Name: \")\n",
    "with open(name,\"r\") as f1:\n",
    "    txt=f1.read()\n",
    "    vow_read = 0\n",
    "    cons_read = 0\n",
    "    spl_char = 0\n",
    "    for char in txt:\n",
    "        if char in \"aeiouAEIOU\":\n",
    "            vow_read+=1\n",
    "        elif char in [1,2,3,4,5,6,7,8,9,0,'!','@','#','$','%','^','&','*','-','_','+','=']:\n",
    "            spl_char+=1\n",
    "        else:\n",
    "            cons_read += 1\n",
    "print(\"Length of text is:\",len(txt))\n",
    "print(\"Vowels:\",vow_read)\n",
    "print(\"Consonants:\",cons_read)\n",
    "print(spl_char)\n",
    "perc_vow = (vow_read*100)//len(txt)\n",
    "perc_cons = 100 - perc_vow\n",
    "print(\"Vowels Percentage:\",perc_vow)\n",
    "print(\"Consonants Percentage:\",perc_cons)"
   ]
  },
  {
   "cell_type": "code",
   "execution_count": 12,
   "id": "31352676",
   "metadata": {},
   "outputs": [
    {
     "data": {
      "text/plain": [
       "30"
      ]
     },
     "execution_count": 12,
     "metadata": {},
     "output_type": "execute_result"
    }
   ],
   "source": [
    "f = open(\"First.txt\",\"a\")\n",
    "f.write(\"Appending a line in a new file\")\n"
   ]
  },
  {
   "cell_type": "markdown",
   "id": "434e3b7b",
   "metadata": {},
   "source": [
    "# Exception Handling"
   ]
  },
  {
   "cell_type": "markdown",
   "id": "c8182624",
   "metadata": {},
   "source": [
    "Exception are raised when the program is syntactically correct but the code is interrupted and results to error"
   ]
  },
  {
   "cell_type": "markdown",
   "id": "e6c6be7c",
   "metadata": {},
   "source": [
    "EXCEPTION HANDLING:\n",
    "exceptions are raised when the program is syntactically correct but the code is interrupted and results in error\n",
    "\n",
    "ERROR\n",
    "Errors are the problems in a program due to which the program will stop the execution.two types, run time & logical.\n",
    "\n",
    "1. Run time error - syntax correct , logic is wrong // poor understanding of the logic.\n",
    "2. Compile time error, syntax error - poor understanding of the program. We can’t handle the syntax error.logical error can be handled thru exception hand\n",
    "Try \n",
    "Except\n",
    "Else\n",
    "FInally"
   ]
  },
  {
   "cell_type": "code",
   "execution_count": 13,
   "id": "fed7a169",
   "metadata": {},
   "outputs": [
    {
     "ename": "IndentationError",
     "evalue": "expected an indented block (4266952900.py, line 2)",
     "output_type": "error",
     "traceback": [
      "\u001b[1;36m  Input \u001b[1;32mIn [13]\u001b[1;36m\u001b[0m\n\u001b[1;33m    print(\"a\")\u001b[0m\n\u001b[1;37m    ^\u001b[0m\n\u001b[1;31mIndentationError\u001b[0m\u001b[1;31m:\u001b[0m expected an indented block\n"
     ]
    }
   ],
   "source": [
    "if True:\n",
    "print(\"a\")"
   ]
  },
  {
   "cell_type": "code",
   "execution_count": 78,
   "id": "a138ac64",
   "metadata": {},
   "outputs": [
    {
     "name": "stdout",
     "output_type": "stream",
     "text": [
      "a\n",
      "\n",
      "Done\n"
     ]
    }
   ],
   "source": [
    "try:\n",
    "    if True:\n",
    "        print(\"a\")\n",
    "except Exception as e:\n",
    "    print(e)\n",
    "else:\n",
    "    print()\n",
    "finally:\n",
    "    print(\"Done\")"
   ]
  },
  {
   "cell_type": "markdown",
   "id": "372e1be7",
   "metadata": {},
   "source": [
    "Zero Divison Error also called as Arithmetic Error"
   ]
  },
  {
   "cell_type": "code",
   "execution_count": 19,
   "id": "06af9928",
   "metadata": {},
   "outputs": [
    {
     "name": "stdout",
     "output_type": "stream",
     "text": [
      "Enter the Number: 5\n",
      "Error:  list index out of range\n",
      "Done with this code\n"
     ]
    }
   ],
   "source": [
    "try:\n",
    "    num = int(input(\"Enter the Number: \"))\n",
    "    res = 5/num\n",
    "    lst = [1,0,2,5]\n",
    "    print(lst[100])\n",
    "except ValueError as v:\n",
    "    print(\"Error: \",v)\n",
    "except ArithmeticError as a:\n",
    "    print(\"Error: \",a)\n",
    "except ZeroDivisionError as z:\n",
    "    print(\"Error: \",z)\n",
    "except IndexError as i:\n",
    "    print(\"Error: \",i)\n",
    "else:\n",
    "    print(res)\n",
    "finally:\n",
    "    print(\"Done with this code\")"
   ]
  },
  {
   "cell_type": "markdown",
   "id": "710e3c6a",
   "metadata": {},
   "source": [
    "# Practice"
   ]
  },
  {
   "cell_type": "code",
   "execution_count": 20,
   "id": "c7913aed",
   "metadata": {},
   "outputs": [
    {
     "name": "stdout",
     "output_type": "stream",
     "text": [
      "Enter a number: 4\n",
      "Enter a number: 5\n",
      "9\n"
     ]
    }
   ],
   "source": [
    "#positional Arguments\n",
    "def add_numbers(n1=0,n2=0):\n",
    "    sum_val = n1+n2\n",
    "    \n",
    "    return sum_val\n",
    "n1 = int(input(\"Enter a number: \"))\n",
    "n2 = int(input(\"Enter a number: \"))\n",
    "result = add_numbers(n1,n2)\n",
    "print(result)"
   ]
  },
  {
   "cell_type": "code",
   "execution_count": 23,
   "id": "30e19bc7",
   "metadata": {},
   "outputs": [
    {
     "name": "stdout",
     "output_type": "stream",
     "text": [
      "0\n"
     ]
    }
   ],
   "source": [
    "#default Arguments\n",
    "def add_numbers(n1=0,n2=0):\n",
    "    sum_val = n1+n2\n",
    "    \n",
    "    return sum_val\n",
    "# n1 = int(input(\"Enter a number: \"))\n",
    "# n2 = int(input(\"Enter a number: \"))\n",
    "result = add_numbers()\n",
    "print(result)"
   ]
  },
  {
   "cell_type": "code",
   "execution_count": 39,
   "id": "9eeac58c",
   "metadata": {},
   "outputs": [
    {
     "name": "stdout",
     "output_type": "stream",
     "text": [
      "Hello Dude\n",
      "Text: Arjun\n"
     ]
    }
   ],
   "source": [
    "#keyword Arguments\n",
    "def greet(name ,msg):\n",
    "    print(\"Hello\",msg)\n",
    "    print(\"Text:\",name)\n",
    "    #return name,msg\n",
    "#name = input(\"Enter name: \")\n",
    "#msg = input(\"Enter message: \")\n",
    "greet(name = \"Arjun\",msg = \"Dude\")\n",
    "# print(a)\n"
   ]
  },
  {
   "cell_type": "code",
   "execution_count": 48,
   "id": "886b803b",
   "metadata": {},
   "outputs": [
    {
     "name": "stdout",
     "output_type": "stream",
     "text": [
      "Enter number of days:7\n",
      "The amount for nights to be paid is 10500\n",
      "Enter Hours: 8\n",
      "Choose Any one:\n",
      "1 for CMBT\n",
      "2 for AnnaNagar\n",
      "3 for OMR1\n",
      "Plane ride cost:  1464\n"
     ]
    }
   ],
   "source": [
    "\n",
    "\n",
    "def cost(nights):\n",
    "    n = int(input(\"Enter number of days:\"))\n",
    "    print(\"The amount for nights to be paid is\",n*1500)\n",
    "    def plane_ride_cost(hours):\n",
    "        CMBT = 183\n",
    "        AnnaNagar = 222\n",
    "        OMR = 475\n",
    "        sel = int(input(\"Choose Any one:\\n1 for CMBT\\n2 for AnnaNagar\\n3 for OMR\"))\n",
    "        if sel == 1:\n",
    "            print(\"Plane ride cost: \",h*CMBT)\n",
    "        if sel == 2:\n",
    "            print(\"Plane ride cost: \",h*AnnaNagar)\n",
    "        if sel == 3:\n",
    "            print(\"Plane ride cost: \",h*OMR)\n",
    "    h = int(input(\"Enter Hours: \"))\n",
    "    plane_ride_cost(\"sel\")\n",
    "cost(n)\n",
    "            "
   ]
  },
  {
   "cell_type": "code",
   "execution_count": 57,
   "id": "f531cd08",
   "metadata": {},
   "outputs": [],
   "source": [
    "def func(a,x):\n",
    "    sum_val = a+x\n",
    "    return a,sum_val"
   ]
  },
  {
   "cell_type": "code",
   "execution_count": 58,
   "id": "b93ff6ec",
   "metadata": {},
   "outputs": [
    {
     "name": "stdout",
     "output_type": "stream",
     "text": [
      "3\n",
      "1\n",
      "test\n"
     ]
    }
   ],
   "source": [
    "a,val = func(1,2)\n",
    "print(val)\n",
    "print(a)\n",
    "print(\"test\")"
   ]
  },
  {
   "cell_type": "code",
   "execution_count": null,
   "id": "35ff5501",
   "metadata": {},
   "outputs": [],
   "source": []
  },
  {
   "cell_type": "code",
   "execution_count": null,
   "id": "02e3118d",
   "metadata": {},
   "outputs": [],
   "source": []
  },
  {
   "cell_type": "code",
   "execution_count": null,
   "id": "fc53316f",
   "metadata": {},
   "outputs": [],
   "source": []
  },
  {
   "cell_type": "code",
   "execution_count": null,
   "id": "9d171146",
   "metadata": {},
   "outputs": [],
   "source": []
  },
  {
   "cell_type": "code",
   "execution_count": null,
   "id": "99d0bda8",
   "metadata": {},
   "outputs": [],
   "source": []
  },
  {
   "cell_type": "code",
   "execution_count": null,
   "id": "84bd1dc9",
   "metadata": {},
   "outputs": [],
   "source": []
  },
  {
   "cell_type": "code",
   "execution_count": null,
   "id": "51fbd9b9",
   "metadata": {},
   "outputs": [],
   "source": []
  }
 ],
 "metadata": {
  "kernelspec": {
   "display_name": "Python 3 (ipykernel)",
   "language": "python",
   "name": "python3"
  },
  "language_info": {
   "codemirror_mode": {
    "name": "ipython",
    "version": 3
   },
   "file_extension": ".py",
   "mimetype": "text/x-python",
   "name": "python",
   "nbconvert_exporter": "python",
   "pygments_lexer": "ipython3",
   "version": "3.9.12"
  }
 },
 "nbformat": 4,
 "nbformat_minor": 5
}
