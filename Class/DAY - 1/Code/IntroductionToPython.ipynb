{
 "cells": [
  {
   "cell_type": "markdown",
   "id": "de4c39cc",
   "metadata": {},
   "source": [
    "# Basic operators"
   ]
  },
  {
   "cell_type": "code",
   "execution_count": 1,
   "id": "c49989c0",
   "metadata": {},
   "outputs": [
    {
     "data": {
      "text/plain": [
       "7"
      ]
     },
     "execution_count": 1,
     "metadata": {},
     "output_type": "execute_result"
    }
   ],
   "source": [
    "5+2"
   ]
  },
  {
   "cell_type": "code",
   "execution_count": 2,
   "id": "27b1b4e5",
   "metadata": {},
   "outputs": [
    {
     "data": {
      "text/plain": [
       "3"
      ]
     },
     "execution_count": 2,
     "metadata": {},
     "output_type": "execute_result"
    }
   ],
   "source": [
    "6-3"
   ]
  },
  {
   "cell_type": "code",
   "execution_count": 3,
   "id": "20aef404",
   "metadata": {},
   "outputs": [
    {
     "data": {
      "text/plain": [
       "56"
      ]
     },
     "execution_count": 3,
     "metadata": {},
     "output_type": "execute_result"
    }
   ],
   "source": [
    "8*7"
   ]
  },
  {
   "cell_type": "code",
   "execution_count": 4,
   "id": "93546654",
   "metadata": {},
   "outputs": [
    {
     "data": {
      "text/plain": [
       "64"
      ]
     },
     "execution_count": 4,
     "metadata": {},
     "output_type": "execute_result"
    }
   ],
   "source": [
    "8**2"
   ]
  },
  {
   "cell_type": "code",
   "execution_count": 5,
   "id": "aaf5ae12",
   "metadata": {},
   "outputs": [
    {
     "data": {
      "text/plain": [
       "1.8"
      ]
     },
     "execution_count": 5,
     "metadata": {},
     "output_type": "execute_result"
    }
   ],
   "source": [
    "9/5"
   ]
  },
  {
   "cell_type": "code",
   "execution_count": 6,
   "id": "bb02cc5f",
   "metadata": {},
   "outputs": [
    {
     "data": {
      "text/plain": [
       "1"
      ]
     },
     "execution_count": 6,
     "metadata": {},
     "output_type": "execute_result"
    }
   ],
   "source": [
    "9//5"
   ]
  },
  {
   "cell_type": "code",
   "execution_count": 7,
   "id": "c295c500",
   "metadata": {},
   "outputs": [
    {
     "data": {
      "text/plain": [
       "1"
      ]
     },
     "execution_count": 7,
     "metadata": {},
     "output_type": "execute_result"
    }
   ],
   "source": [
    "3%2"
   ]
  },
  {
   "cell_type": "markdown",
   "id": "856e187b",
   "metadata": {},
   "source": [
    "# Variables"
   ]
  },
  {
   "cell_type": "code",
   "execution_count": 8,
   "id": "d0b507d3",
   "metadata": {},
   "outputs": [],
   "source": [
    "a=15"
   ]
  },
  {
   "cell_type": "code",
   "execution_count": 11,
   "id": "f678691a",
   "metadata": {},
   "outputs": [
    {
     "data": {
      "text/plain": [
       "15"
      ]
     },
     "execution_count": 11,
     "metadata": {},
     "output_type": "execute_result"
    }
   ],
   "source": [
    "a"
   ]
  },
  {
   "cell_type": "code",
   "execution_count": 12,
   "id": "c55b8534",
   "metadata": {},
   "outputs": [
    {
     "data": {
      "text/plain": [
       "int"
      ]
     },
     "execution_count": 12,
     "metadata": {},
     "output_type": "execute_result"
    }
   ],
   "source": [
    "type(a)"
   ]
  },
  {
   "cell_type": "code",
   "execution_count": 13,
   "id": "8568b978",
   "metadata": {},
   "outputs": [
    {
     "data": {
      "text/plain": [
       "str"
      ]
     },
     "execution_count": 13,
     "metadata": {},
     "output_type": "execute_result"
    }
   ],
   "source": [
    "a = \"Arjun\"\n",
    "type(a)"
   ]
  },
  {
   "cell_type": "code",
   "execution_count": 14,
   "id": "46eebd92",
   "metadata": {},
   "outputs": [
    {
     "data": {
      "text/plain": [
       "bool"
      ]
     },
     "execution_count": 14,
     "metadata": {},
     "output_type": "execute_result"
    }
   ],
   "source": [
    "a = True\n",
    "type(a)"
   ]
  },
  {
   "cell_type": "code",
   "execution_count": 15,
   "id": "d55c180b",
   "metadata": {},
   "outputs": [
    {
     "data": {
      "text/plain": [
       "bool"
      ]
     },
     "execution_count": 15,
     "metadata": {},
     "output_type": "execute_result"
    }
   ],
   "source": [
    "_"
   ]
  },
  {
   "cell_type": "code",
   "execution_count": 16,
   "id": "4b937a31",
   "metadata": {},
   "outputs": [],
   "source": [
    "a = 5*5"
   ]
  },
  {
   "cell_type": "code",
   "execution_count": 21,
   "id": "25ae7a71",
   "metadata": {},
   "outputs": [
    {
     "data": {
      "text/plain": [
       "25"
      ]
     },
     "execution_count": 21,
     "metadata": {},
     "output_type": "execute_result"
    }
   ],
   "source": [
    "_"
   ]
  },
  {
   "cell_type": "code",
   "execution_count": 2,
   "id": "4067a824",
   "metadata": {},
   "outputs": [
    {
     "data": {
      "text/plain": [
       "True"
      ]
     },
     "execution_count": 2,
     "metadata": {},
     "output_type": "execute_result"
    }
   ],
   "source": [
    "a = 5*5\n",
    "a == 25"
   ]
  },
  {
   "cell_type": "markdown",
   "id": "68285212",
   "metadata": {},
   "source": [
    "# Operators"
   ]
  },
  {
   "cell_type": "code",
   "execution_count": 20,
   "id": "2845f22a",
   "metadata": {},
   "outputs": [],
   "source": [
    "#Arithmetic operator\n",
    "#Logical operator\n",
    "#Bitwise operator\n",
    "#Membership operator\n",
    "#Assignment operator\n",
    "#Identitiy Operator\n",
    "#Comparison Operator"
   ]
  },
  {
   "cell_type": "code",
   "execution_count": 23,
   "id": "2f3e58c2",
   "metadata": {},
   "outputs": [],
   "source": [
    "#Arithmetic operator\n",
    "# + is the operator and a,b is operands\n",
    "#other arithmetic operators are +,-,*,/,//,**,%\n"
   ]
  },
  {
   "cell_type": "code",
   "execution_count": 71,
   "id": "4d58f370",
   "metadata": {},
   "outputs": [],
   "source": [
    "a=7\n",
    "b=8"
   ]
  },
  {
   "cell_type": "code",
   "execution_count": 72,
   "id": "25d528b1",
   "metadata": {},
   "outputs": [
    {
     "data": {
      "text/plain": [
       "5764801"
      ]
     },
     "execution_count": 72,
     "metadata": {},
     "output_type": "execute_result"
    }
   ],
   "source": [
    "a**b"
   ]
  },
  {
   "cell_type": "code",
   "execution_count": 73,
   "id": "578378b9",
   "metadata": {},
   "outputs": [
    {
     "data": {
      "text/plain": [
       "-1"
      ]
     },
     "execution_count": 73,
     "metadata": {},
     "output_type": "execute_result"
    }
   ],
   "source": [
    "a-b"
   ]
  },
  {
   "cell_type": "code",
   "execution_count": 74,
   "id": "384415e7",
   "metadata": {},
   "outputs": [
    {
     "data": {
      "text/plain": [
       "0.875"
      ]
     },
     "execution_count": 74,
     "metadata": {},
     "output_type": "execute_result"
    }
   ],
   "source": [
    "a/b"
   ]
  },
  {
   "cell_type": "code",
   "execution_count": 75,
   "id": "1b54dd5c",
   "metadata": {},
   "outputs": [
    {
     "data": {
      "text/plain": [
       "7"
      ]
     },
     "execution_count": 75,
     "metadata": {},
     "output_type": "execute_result"
    }
   ],
   "source": [
    "a%b"
   ]
  },
  {
   "cell_type": "code",
   "execution_count": 76,
   "id": "aa194f04",
   "metadata": {},
   "outputs": [
    {
     "data": {
      "text/plain": [
       "0"
      ]
     },
     "execution_count": 76,
     "metadata": {},
     "output_type": "execute_result"
    }
   ],
   "source": [
    "a//b"
   ]
  },
  {
   "cell_type": "code",
   "execution_count": 25,
   "id": "f21f99fa",
   "metadata": {},
   "outputs": [],
   "source": [
    "#Assignment Operator\n",
    "# +=,*=,/=,-=,%="
   ]
  },
  {
   "cell_type": "code",
   "execution_count": 27,
   "id": "183f9768",
   "metadata": {},
   "outputs": [],
   "source": [
    "#Comparison Operator\n",
    "#==(equal), !=(not equal), > (greater), < (lesser), <= (less than or equal to)\n",
    "# resultant value is a boolean"
   ]
  },
  {
   "cell_type": "code",
   "execution_count": 28,
   "id": "9b429858",
   "metadata": {},
   "outputs": [
    {
     "data": {
      "text/plain": [
       "True"
      ]
     },
     "execution_count": 28,
     "metadata": {},
     "output_type": "execute_result"
    }
   ],
   "source": [
    "a==a"
   ]
  },
  {
   "cell_type": "code",
   "execution_count": 30,
   "id": "33a955fc",
   "metadata": {},
   "outputs": [
    {
     "data": {
      "text/plain": [
       "False"
      ]
     },
     "execution_count": 30,
     "metadata": {},
     "output_type": "execute_result"
    }
   ],
   "source": [
    "a=0.1\n",
    "b=0.2\n",
    "a==b"
   ]
  },
  {
   "cell_type": "code",
   "execution_count": 31,
   "id": "63b9a637",
   "metadata": {},
   "outputs": [
    {
     "data": {
      "text/plain": [
       "False"
      ]
     },
     "execution_count": 31,
     "metadata": {},
     "output_type": "execute_result"
    }
   ],
   "source": [
    "a>=b"
   ]
  },
  {
   "cell_type": "code",
   "execution_count": 32,
   "id": "65d77976",
   "metadata": {},
   "outputs": [
    {
     "data": {
      "text/plain": [
       "True"
      ]
     },
     "execution_count": 32,
     "metadata": {},
     "output_type": "execute_result"
    }
   ],
   "source": [
    "a<=b"
   ]
  },
  {
   "cell_type": "code",
   "execution_count": 34,
   "id": "347796f2",
   "metadata": {},
   "outputs": [
    {
     "data": {
      "text/plain": [
       "-0.1"
      ]
     },
     "execution_count": 34,
     "metadata": {},
     "output_type": "execute_result"
    }
   ],
   "source": [
    "a-b\n"
   ]
  },
  {
   "cell_type": "code",
   "execution_count": 35,
   "id": "3b03f57f",
   "metadata": {},
   "outputs": [],
   "source": [
    "#Logical Operator\n",
    "#and , or , not"
   ]
  },
  {
   "cell_type": "code",
   "execution_count": 38,
   "id": "3c427cb9",
   "metadata": {},
   "outputs": [
    {
     "name": "stdout",
     "output_type": "stream",
     "text": [
      "False\n"
     ]
    }
   ],
   "source": [
    "a = 4\n",
    "b = 7\n",
    "print(a < 6 and b<6)"
   ]
  },
  {
   "cell_type": "code",
   "execution_count": 39,
   "id": "5d3e8dc4",
   "metadata": {},
   "outputs": [
    {
     "name": "stdout",
     "output_type": "stream",
     "text": [
      "False\n"
     ]
    }
   ],
   "source": [
    "print(a>6 or b>7)"
   ]
  },
  {
   "cell_type": "code",
   "execution_count": 40,
   "id": "b00d2db8",
   "metadata": {},
   "outputs": [],
   "source": [
    "#and\n",
    "# both a and b must satistfy\n",
    "#other than that everything is false\n"
   ]
  },
  {
   "cell_type": "code",
   "execution_count": 41,
   "id": "95accd59",
   "metadata": {},
   "outputs": [],
   "source": [
    "#or\n",
    "#either a or b or both satisfies the result is true\n",
    "#if both doesnt satistfy the result is false\n"
   ]
  },
  {
   "cell_type": "code",
   "execution_count": 42,
   "id": "3e7e0b69",
   "metadata": {},
   "outputs": [
    {
     "data": {
      "text/plain": [
       "True"
      ]
     },
     "execution_count": 42,
     "metadata": {},
     "output_type": "execute_result"
    }
   ],
   "source": [
    "r = 5 \n",
    "g = 5\n",
    "not(r!=g)"
   ]
  },
  {
   "cell_type": "code",
   "execution_count": 43,
   "id": "1e12256d",
   "metadata": {},
   "outputs": [
    {
     "data": {
      "text/plain": [
       "False"
      ]
     },
     "execution_count": 43,
     "metadata": {},
     "output_type": "execute_result"
    }
   ],
   "source": [
    "r!=g"
   ]
  },
  {
   "cell_type": "code",
   "execution_count": 46,
   "id": "3e8b6bd8",
   "metadata": {},
   "outputs": [
    {
     "data": {
      "text/plain": [
       "True"
      ]
     },
     "execution_count": 46,
     "metadata": {},
     "output_type": "execute_result"
    }
   ],
   "source": [
    "r==g"
   ]
  },
  {
   "cell_type": "code",
   "execution_count": 47,
   "id": "6f39eab3",
   "metadata": {},
   "outputs": [],
   "source": [
    "#Membership Operator\n",
    "#in and not in"
   ]
  },
  {
   "cell_type": "code",
   "execution_count": 49,
   "id": "f0bb66f5",
   "metadata": {},
   "outputs": [
    {
     "data": {
      "text/plain": [
       "False"
      ]
     },
     "execution_count": 49,
     "metadata": {},
     "output_type": "execute_result"
    }
   ],
   "source": [
    "a = \"ARJUN\"\n",
    "\"c\" in a"
   ]
  },
  {
   "cell_type": "code",
   "execution_count": 50,
   "id": "1fb80de3",
   "metadata": {},
   "outputs": [
    {
     "data": {
      "text/plain": [
       "False"
      ]
     },
     "execution_count": 50,
     "metadata": {},
     "output_type": "execute_result"
    }
   ],
   "source": [
    "'r'in a "
   ]
  },
  {
   "cell_type": "code",
   "execution_count": 51,
   "id": "d34b5a8e",
   "metadata": {},
   "outputs": [
    {
     "data": {
      "text/plain": [
       "True"
      ]
     },
     "execution_count": 51,
     "metadata": {},
     "output_type": "execute_result"
    }
   ],
   "source": [
    "'R'in a"
   ]
  },
  {
   "cell_type": "code",
   "execution_count": 52,
   "id": "faf32133",
   "metadata": {},
   "outputs": [
    {
     "data": {
      "text/plain": [
       "False"
      ]
     },
     "execution_count": 52,
     "metadata": {},
     "output_type": "execute_result"
    }
   ],
   "source": [
    "'R' not in a"
   ]
  },
  {
   "cell_type": "code",
   "execution_count": 53,
   "id": "92472a45",
   "metadata": {},
   "outputs": [
    {
     "data": {
      "text/plain": [
       "True"
      ]
     },
     "execution_count": 53,
     "metadata": {},
     "output_type": "execute_result"
    }
   ],
   "source": [
    "'j'not in a"
   ]
  },
  {
   "cell_type": "code",
   "execution_count": 4,
   "id": "eea9a95f",
   "metadata": {},
   "outputs": [
    {
     "data": {
      "text/plain": [
       "True"
      ]
     },
     "execution_count": 4,
     "metadata": {},
     "output_type": "execute_result"
    }
   ],
   "source": [
    "a = \"ARJUN\"\n",
    "'ARJ'in a"
   ]
  },
  {
   "cell_type": "code",
   "execution_count": 55,
   "id": "b4480e00",
   "metadata": {},
   "outputs": [],
   "source": [
    "#Identity Operator\n",
    "# is and is not"
   ]
  },
  {
   "cell_type": "code",
   "execution_count": 58,
   "id": "c16f397d",
   "metadata": {},
   "outputs": [
    {
     "name": "stderr",
     "output_type": "stream",
     "text": [
      "<>:1: SyntaxWarning: \"is not\" with a literal. Did you mean \"!=\"?\n",
      "<>:1: SyntaxWarning: \"is not\" with a literal. Did you mean \"!=\"?\n",
      "C:\\Users\\klmar\\AppData\\Local\\Temp\\ipykernel_20860\\2410615632.py:1: SyntaxWarning: \"is not\" with a literal. Did you mean \"!=\"?\n",
      "  'A'is not a\n"
     ]
    },
    {
     "data": {
      "text/plain": [
       "True"
      ]
     },
     "execution_count": 58,
     "metadata": {},
     "output_type": "execute_result"
    }
   ],
   "source": [
    "'A'is not a"
   ]
  },
  {
   "cell_type": "code",
   "execution_count": 59,
   "id": "0de3123c",
   "metadata": {},
   "outputs": [],
   "source": [
    "#TASK\n",
    "#Bitwise Operator"
   ]
  },
  {
   "cell_type": "code",
   "execution_count": 60,
   "id": "1131a9ba",
   "metadata": {},
   "outputs": [
    {
     "name": "stdout",
     "output_type": "stream",
     "text": [
      "Enter your name: Arjun\n"
     ]
    }
   ],
   "source": [
    "user_name = input(\"Enter your name: \")"
   ]
  },
  {
   "cell_type": "code",
   "execution_count": 61,
   "id": "61f7780e",
   "metadata": {},
   "outputs": [
    {
     "name": "stdout",
     "output_type": "stream",
     "text": [
      "Enter your age: 17\n"
     ]
    }
   ],
   "source": [
    "user_age = int(input(\"Enter your age: \"))"
   ]
  },
  {
   "cell_type": "code",
   "execution_count": 63,
   "id": "f6f6017d",
   "metadata": {},
   "outputs": [
    {
     "data": {
      "text/plain": [
       "int"
      ]
     },
     "execution_count": 63,
     "metadata": {},
     "output_type": "execute_result"
    }
   ],
   "source": [
    "type(user_age)"
   ]
  },
  {
   "cell_type": "code",
   "execution_count": 64,
   "id": "504bf3a2",
   "metadata": {},
   "outputs": [
    {
     "data": {
      "text/plain": [
       "str"
      ]
     },
     "execution_count": 64,
     "metadata": {},
     "output_type": "execute_result"
    }
   ],
   "source": [
    "type(user_name)"
   ]
  },
  {
   "cell_type": "code",
   "execution_count": 67,
   "id": "0ea63506",
   "metadata": {},
   "outputs": [
    {
     "name": "stdout",
     "output_type": "stream",
     "text": [
      "Enter first number: 10\n",
      "Enter second number: 30\n",
      "The result is  40\n"
     ]
    }
   ],
   "source": [
    "a = int(input('Enter first number: '))\n",
    "b = int(input('Enter second number: '))\n",
    "c = a+b\n",
    "print(\"The result is \" , c)"
   ]
  },
  {
   "cell_type": "code",
   "execution_count": 70,
   "id": "71be8335",
   "metadata": {},
   "outputs": [
    {
     "name": "stdout",
     "output_type": "stream",
     "text": [
      "Enter your name: \n",
      "Arjun\n",
      "Enter your age: \n",
      "17\n",
      "Enter your Dept: \n",
      "BTech.CSE [CyS & IOT]\n"
     ]
    }
   ],
   "source": [
    "user_name = input(\"Enter your name: \\n\")\n",
    "user_age = int(input(\"Enter your age: \\n\"))\n",
    "user_dept = input(\"Enter your Dept: \\n\")"
   ]
  },
  {
   "cell_type": "markdown",
   "id": "ba3a1e9a",
   "metadata": {},
   "source": [
    "# SELF TEST"
   ]
  },
  {
   "cell_type": "code",
   "execution_count": 2,
   "id": "dcc34eda",
   "metadata": {},
   "outputs": [
    {
     "name": "stdout",
     "output_type": "stream",
     "text": [
      "This is Introduction\n"
     ]
    }
   ],
   "source": [
    "print(\"This is Introduction\")"
   ]
  },
  {
   "cell_type": "code",
   "execution_count": 4,
   "id": "0166b0c1",
   "metadata": {},
   "outputs": [
    {
     "name": "stdout",
     "output_type": "stream",
     "text": [
      "Anything inside quotes will be displayed\n"
     ]
    }
   ],
   "source": [
    "print(\"Anything inside quotes will be displayed\")"
   ]
  },
  {
   "cell_type": "code",
   "execution_count": 7,
   "id": "081b0ed6",
   "metadata": {},
   "outputs": [
    {
     "name": "stdout",
     "output_type": "stream",
     "text": [
      "My First Code\n"
     ]
    }
   ],
   "source": [
    "#variables in Pyhton\n",
    "#anything which is assigned to something is known as a variable\n",
    "\n",
    "a = \"My First Code\"\n",
    "print(a)"
   ]
  },
  {
   "cell_type": "code",
   "execution_count": 14,
   "id": "326c097a",
   "metadata": {},
   "outputs": [
    {
     "name": "stdout",
     "output_type": "stream",
     "text": [
      "Hello , My name is Arjun \n",
      "And My age is 17\n"
     ]
    }
   ],
   "source": [
    "#multiline statements\n",
    "print(\"Hello , My name is Arjun \")\n",
    "print(\"And My age is 17\")\n"
   ]
  },
  {
   "cell_type": "code",
   "execution_count": 6,
   "id": "be694d20",
   "metadata": {},
   "outputs": [
    {
     "name": "stdout",
     "output_type": "stream",
     "text": [
      "\n",
      "three quatation marks is used for  printing long comments\n",
      "anything over here will not be displayed once the code is executed \n",
      "\n",
      "\n",
      "\n"
     ]
    }
   ],
   "source": [
    "#quatation \n",
    "print(\"\"\"\n",
    "three quatation marks is used for  printing long comments\n",
    "anything over here will not be displayed once the code is executed \n",
    "\n",
    "\n",
    "\"\"\")"
   ]
  },
  {
   "cell_type": "code",
   "execution_count": null,
   "id": "5bd7328e",
   "metadata": {},
   "outputs": [],
   "source": [
    "#this is a comment in python\n",
    "#this can be changed to code : ctrl + /"
   ]
  },
  {
   "cell_type": "code",
   "execution_count": 13,
   "id": "f4ed95c2",
   "metadata": {},
   "outputs": [
    {
     "name": "stdout",
     "output_type": "stream",
     "text": [
      "enter something u like: myself\n"
     ]
    }
   ],
   "source": [
    "#getting input from user\n",
    "a = input(\"enter something u like: \")"
   ]
  },
  {
   "cell_type": "code",
   "execution_count": 15,
   "id": "31bc01b3",
   "metadata": {},
   "outputs": [
    {
     "name": "stdout",
     "output_type": "stream",
     "text": [
      "Hello , My name is Arjun \n",
      "And My age is 17\n"
     ]
    }
   ],
   "source": [
    "#multiple statements in one line\n",
    "print(\"Hello , My name is Arjun \\nAnd My age is 17\")\n"
   ]
  },
  {
   "cell_type": "code",
   "execution_count": 17,
   "id": "1c30d0a2",
   "metadata": {},
   "outputs": [
    {
     "name": "stdout",
     "output_type": "stream",
     "text": [
      "15 10\n"
     ]
    }
   ],
   "source": [
    "#Swap integers in one line Python\n",
    "a = 10\n",
    "g = 15 \n",
    "d = 50\n",
    "a,g = g,a\n",
    "print(a,g)"
   ]
  },
  {
   "cell_type": "code",
   "execution_count": 22,
   "id": "70d1b7b1",
   "metadata": {},
   "outputs": [
    {
     "name": "stdout",
     "output_type": "stream",
     "text": [
      "(25,) 5.2\n"
     ]
    }
   ],
   "source": [
    "#variable declaration in python\n",
    "a = 25,\n",
    "r = 5.2\n",
    "print(a,r)"
   ]
  },
  {
   "cell_type": "code",
   "execution_count": 23,
   "id": "b09ed4be",
   "metadata": {},
   "outputs": [
    {
     "ename": "NameError",
     "evalue": "name 'A' is not defined",
     "output_type": "error",
     "traceback": [
      "\u001b[1;31m---------------------------------------------------------------------------\u001b[0m",
      "\u001b[1;31mNameError\u001b[0m                                 Traceback (most recent call last)",
      "Input \u001b[1;32mIn [23]\u001b[0m, in \u001b[0;36m<cell line: 5>\u001b[1;34m()\u001b[0m\n\u001b[0;32m      2\u001b[0m a \u001b[38;5;241m=\u001b[39m \u001b[38;5;241m15\u001b[39m\n\u001b[0;32m      3\u001b[0m \u001b[38;5;66;03m#if i command print(A)\u001b[39;00m\n\u001b[0;32m      4\u001b[0m \u001b[38;5;66;03m#there will be an error\u001b[39;00m\n\u001b[1;32m----> 5\u001b[0m \u001b[43mA\u001b[49m\n",
      "\u001b[1;31mNameError\u001b[0m: name 'A' is not defined"
     ]
    }
   ],
   "source": [
    "#case sensitive variables\n",
    "a = 15\n",
    "#if i command print(A)\n",
    "#there will be an error\n",
    "A"
   ]
  },
  {
   "cell_type": "code",
   "execution_count": 24,
   "id": "e8554cb1",
   "metadata": {},
   "outputs": [],
   "source": [
    "#variable data type\n"
   ]
  },
  {
   "cell_type": "code",
   "execution_count": 25,
   "id": "36f9d051",
   "metadata": {},
   "outputs": [
    {
     "data": {
      "text/plain": [
       "int"
      ]
     },
     "execution_count": 25,
     "metadata": {},
     "output_type": "execute_result"
    }
   ],
   "source": [
    "#int(numbers)\n",
    "a = 5\n",
    "type(a)"
   ]
  },
  {
   "cell_type": "code",
   "execution_count": 26,
   "id": "c0affb75",
   "metadata": {},
   "outputs": [
    {
     "data": {
      "text/plain": [
       "float"
      ]
     },
     "execution_count": 26,
     "metadata": {},
     "output_type": "execute_result"
    }
   ],
   "source": [
    "#float(numbers)\n",
    "a = 5.6\n",
    "type(a)"
   ]
  },
  {
   "cell_type": "code",
   "execution_count": 29,
   "id": "47b163c6",
   "metadata": {},
   "outputs": [
    {
     "data": {
      "text/plain": [
       "str"
      ]
     },
     "execution_count": 29,
     "metadata": {},
     "output_type": "execute_result"
    }
   ],
   "source": [
    "#string\n",
    "a = \"test\"\n",
    "type(a)"
   ]
  },
  {
   "cell_type": "code",
   "execution_count": 31,
   "id": "4f676a10",
   "metadata": {},
   "outputs": [
    {
     "data": {
      "text/plain": [
       "True"
      ]
     },
     "execution_count": 31,
     "metadata": {},
     "output_type": "execute_result"
    }
   ],
   "source": [
    "#boolean\n",
    "(2-2!=0)"
   ]
  },
  {
   "cell_type": "code",
   "execution_count": 32,
   "id": "bf463f66",
   "metadata": {},
   "outputs": [
    {
     "data": {
      "text/plain": [
       "7"
      ]
     },
     "execution_count": 32,
     "metadata": {},
     "output_type": "execute_result"
    }
   ],
   "source": [
    "#length function\n",
    "a = \"giraffe\"\n",
    "len(a)"
   ]
  },
  {
   "cell_type": "code",
   "execution_count": 34,
   "id": "c9835955",
   "metadata": {},
   "outputs": [
    {
     "name": "stdout",
     "output_type": "stream",
     "text": [
      "g\n"
     ]
    }
   ],
   "source": [
    "#index\n",
    "print(a[0])"
   ]
  },
  {
   "cell_type": "code",
   "execution_count": 40,
   "id": "6850a63c",
   "metadata": {},
   "outputs": [
    {
     "name": "stdout",
     "output_type": "stream",
     "text": [
      "effarig\n"
     ]
    }
   ],
   "source": [
    "print(a[::-1])"
   ]
  },
  {
   "cell_type": "code",
   "execution_count": 41,
   "id": "aaeb72ef",
   "metadata": {},
   "outputs": [
    {
     "name": "stdout",
     "output_type": "stream",
     "text": [
      "raf\n"
     ]
    }
   ],
   "source": [
    "print (a[2:5])"
   ]
  },
  {
   "cell_type": "code",
   "execution_count": 42,
   "id": "cbc659fd",
   "metadata": {},
   "outputs": [
    {
     "name": "stdout",
     "output_type": "stream",
     "text": [
      "GIRAFFE\n"
     ]
    }
   ],
   "source": [
    "#upper and lower function\n",
    "a = \"giraffe\"\n",
    "print(a.upper())"
   ]
  },
  {
   "cell_type": "code",
   "execution_count": 49,
   "id": "4073d55b",
   "metadata": {},
   "outputs": [
    {
     "data": {
      "text/plain": [
       "[1, 2, 3, 4, 5, 6, 7]"
      ]
     },
     "execution_count": 49,
     "metadata": {},
     "output_type": "execute_result"
    }
   ],
   "source": [
    "#append\n",
    "a = [1,2,3,4,5,6,7]\n",
    "a"
   ]
  },
  {
   "cell_type": "code",
   "execution_count": 50,
   "id": "b6a1f09a",
   "metadata": {},
   "outputs": [],
   "source": [
    "a.append(8)"
   ]
  },
  {
   "cell_type": "code",
   "execution_count": 51,
   "id": "823dbcd0",
   "metadata": {},
   "outputs": [
    {
     "data": {
      "text/plain": [
       "[1, 2, 3, 4, 5, 6, 7, 8]"
      ]
     },
     "execution_count": 51,
     "metadata": {},
     "output_type": "execute_result"
    }
   ],
   "source": [
    "a"
   ]
  },
  {
   "cell_type": "code",
   "execution_count": 52,
   "id": "2c496bf2",
   "metadata": {},
   "outputs": [],
   "source": [
    "a.append(456)"
   ]
  },
  {
   "cell_type": "code",
   "execution_count": 53,
   "id": "64ff7675",
   "metadata": {},
   "outputs": [
    {
     "data": {
      "text/plain": [
       "[1, 2, 3, 4, 5, 6, 7, 8, 456]"
      ]
     },
     "execution_count": 53,
     "metadata": {},
     "output_type": "execute_result"
    }
   ],
   "source": [
    "a"
   ]
  },
  {
   "cell_type": "code",
   "execution_count": 54,
   "id": "effb127c",
   "metadata": {},
   "outputs": [],
   "source": [
    "#insert\n",
    "a.insert(6,456)"
   ]
  },
  {
   "cell_type": "code",
   "execution_count": 55,
   "id": "1b3b6513",
   "metadata": {},
   "outputs": [
    {
     "data": {
      "text/plain": [
       "[1, 2, 3, 4, 5, 6, 456, 7, 8, 456]"
      ]
     },
     "execution_count": 55,
     "metadata": {},
     "output_type": "execute_result"
    }
   ],
   "source": [
    "a"
   ]
  },
  {
   "cell_type": "code",
   "execution_count": 56,
   "id": "291ba886",
   "metadata": {},
   "outputs": [],
   "source": [
    "a.insert(0,0)"
   ]
  },
  {
   "cell_type": "code",
   "execution_count": 57,
   "id": "211b674b",
   "metadata": {},
   "outputs": [
    {
     "data": {
      "text/plain": [
       "[0, 1, 2, 3, 4, 5, 6, 456, 7, 8, 456]"
      ]
     },
     "execution_count": 57,
     "metadata": {},
     "output_type": "execute_result"
    }
   ],
   "source": [
    "a"
   ]
  },
  {
   "cell_type": "code",
   "execution_count": 58,
   "id": "b97ddd9f",
   "metadata": {},
   "outputs": [
    {
     "data": {
      "text/plain": [
       "range(0, 10)"
      ]
     },
     "execution_count": 58,
     "metadata": {},
     "output_type": "execute_result"
    }
   ],
   "source": [
    "#range\n",
    "range(10)"
   ]
  },
  {
   "cell_type": "code",
   "execution_count": 59,
   "id": "75271f44",
   "metadata": {},
   "outputs": [
    {
     "data": {
      "text/plain": [
       "[0, 1, 2, 3, 4, 5, 6, 7, 8, 9, 10]"
      ]
     },
     "execution_count": 59,
     "metadata": {},
     "output_type": "execute_result"
    }
   ],
   "source": [
    "list(range(11))"
   ]
  },
  {
   "cell_type": "code",
   "execution_count": 60,
   "id": "39351b45",
   "metadata": {},
   "outputs": [
    {
     "ename": "TypeError",
     "evalue": "unsupported operand type(s) for +: 'int' and 'str'",
     "output_type": "error",
     "traceback": [
      "\u001b[1;31m---------------------------------------------------------------------------\u001b[0m",
      "\u001b[1;31mTypeError\u001b[0m                                 Traceback (most recent call last)",
      "Input \u001b[1;32mIn [60]\u001b[0m, in \u001b[0;36m<cell line: 4>\u001b[1;34m()\u001b[0m\n\u001b[0;32m      2\u001b[0m a \u001b[38;5;241m=\u001b[39m \u001b[38;5;241m456\u001b[39m\n\u001b[0;32m      3\u001b[0m b \u001b[38;5;241m=\u001b[39m \u001b[38;5;124m\"\u001b[39m\u001b[38;5;124madiendw\u001b[39m\u001b[38;5;124m\"\u001b[39m\n\u001b[1;32m----> 4\u001b[0m \u001b[43ma\u001b[49m\u001b[38;5;241;43m+\u001b[39;49m\u001b[43mb\u001b[49m\n",
      "\u001b[1;31mTypeError\u001b[0m: unsupported operand type(s) for +: 'int' and 'str'"
     ]
    }
   ],
   "source": [
    "#type and type conversion\n",
    "a = 456\n",
    "b = \"adiendw\"\n",
    "a+b"
   ]
  },
  {
   "cell_type": "code",
   "execution_count": 61,
   "id": "318f3358",
   "metadata": {},
   "outputs": [
    {
     "data": {
      "text/plain": [
       "'456adiendw'"
      ]
     },
     "execution_count": 61,
     "metadata": {},
     "output_type": "execute_result"
    }
   ],
   "source": [
    "str(a)+b    #converting int to string by adding str bfr it\n"
   ]
  },
  {
   "cell_type": "code",
   "execution_count": 62,
   "id": "c301f9d5",
   "metadata": {},
   "outputs": [],
   "source": [
    "#operators are done before"
   ]
  }
 ],
 "metadata": {
  "kernelspec": {
   "display_name": "Python 3 (ipykernel)",
   "language": "python",
   "name": "python3"
  },
  "language_info": {
   "codemirror_mode": {
    "name": "ipython",
    "version": 3
   },
   "file_extension": ".py",
   "mimetype": "text/x-python",
   "name": "python",
   "nbconvert_exporter": "python",
   "pygments_lexer": "ipython3",
   "version": "3.9.12"
  }
 },
 "nbformat": 4,
 "nbformat_minor": 5
}
